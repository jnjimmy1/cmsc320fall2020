{
 "cells": [
  {
   "cell_type": "code",
   "execution_count": 2,
   "metadata": {},
   "outputs": [],
   "source": [
    "def my_func(x,y):\n",
    "    if x > y:\n",
    "        return x\n",
    "    else:\n",
    "        return y"
   ]
  },
  {
   "cell_type": "code",
   "execution_count": 3,
   "metadata": {},
   "outputs": [
    {
     "name": "stdout",
     "output_type": "stream",
     "text": [
      "Python 3.8.5\r\n"
     ]
    }
   ],
   "source": [
    "!python --version"
   ]
  },
  {
   "cell_type": "code",
   "execution_count": 4,
   "metadata": {},
   "outputs": [],
   "source": [
    "def my_func(x,y):\n",
    "    return(x-1,y+2)\n",
    "\n",
    "(a,b)=my_func(1,2)"
   ]
  },
  {
   "cell_type": "code",
   "execution_count": 5,
   "metadata": {},
   "outputs": [
    {
     "data": {
      "text/plain": [
       "(0, 4)"
      ]
     },
     "execution_count": 5,
     "metadata": {},
     "output_type": "execute_result"
    }
   ],
   "source": [
    "a,b"
   ]
  },
  {
   "cell_type": "code",
   "execution_count": 6,
   "metadata": {},
   "outputs": [
    {
     "data": {
      "text/plain": [
       "7"
      ]
     },
     "execution_count": 6,
     "metadata": {},
     "output_type": "execute_result"
    }
   ],
   "source": [
    "len(['c','m','s','c',3,2,0])"
   ]
  },
  {
   "cell_type": "code",
   "execution_count": 7,
   "metadata": {},
   "outputs": [
    {
     "data": {
      "text/plain": [
       "[0, 1, 2, 3, 4, 5, 6, 7, 8, 9]"
      ]
     },
     "execution_count": 7,
     "metadata": {},
     "output_type": "execute_result"
    }
   ],
   "source": [
    "list(range(10))"
   ]
  },
  {
   "cell_type": "code",
   "execution_count": 8,
   "metadata": {},
   "outputs": [
    {
     "data": {
      "text/plain": [
       "[(0, '311'), (1, '320'), (2, '330')]"
      ]
     },
     "execution_count": 8,
     "metadata": {},
     "output_type": "execute_result"
    }
   ],
   "source": [
    "list(enumerate([\"311\",\"320\",\"330\"]))"
   ]
  },
  {
   "cell_type": "code",
   "execution_count": 9,
   "metadata": {},
   "outputs": [
    {
     "data": {
      "text/plain": [
       "[(1, 'Sunday'),\n",
       " (2, 'Monday'),\n",
       " (3, 'Tuesday'),\n",
       " (4, 'Wednesday'),\n",
       " (5, 'Thursday'),\n",
       " (6, 'Friday'),\n",
       " (7, 'Saturday')]"
      ]
     },
     "execution_count": 9,
     "metadata": {},
     "output_type": "execute_result"
    }
   ],
   "source": [
    "daysofweek=['Sunday','Monday','Tuesday','Wednesday','Thursday','Friday','Saturday']\n",
    "list(enumerate(daysofweek,start=1))"
   ]
  },
  {
   "cell_type": "code",
   "execution_count": 10,
   "metadata": {},
   "outputs": [
    {
     "data": {
      "text/plain": [
       "[1, 4, 9, 16, 25]"
      ]
     },
     "execution_count": 10,
     "metadata": {},
     "output_type": "execute_result"
    }
   ],
   "source": [
    "arr = [1,2,3,4,5]\n",
    "list(map(lambda x: x**2, arr))"
   ]
  },
  {
   "cell_type": "code",
   "execution_count": 11,
   "metadata": {},
   "outputs": [
    {
     "data": {
      "text/plain": [
       "[2, 4, 6]"
      ]
     },
     "execution_count": 11,
     "metadata": {},
     "output_type": "execute_result"
    }
   ],
   "source": [
    "arr = [1,2,3,4,5,6,7]\n",
    "list(filter(lambda x: x%2==0,arr))"
   ]
  },
  {
   "cell_type": "code",
   "execution_count": 12,
   "metadata": {},
   "outputs": [
    {
     "data": {
      "text/plain": [
       "[1, 3, 5, 7]"
      ]
     },
     "execution_count": 12,
     "metadata": {},
     "output_type": "execute_result"
    }
   ],
   "source": [
    "list(filter(lambda x: x%2,arr))"
   ]
  },
  {
   "cell_type": "code",
   "execution_count": 13,
   "metadata": {},
   "outputs": [
    {
     "data": {
      "text/plain": [
       "[1,\n",
       " 2,\n",
       " 4,\n",
       " 8,\n",
       " 16,\n",
       " 32,\n",
       " 64,\n",
       " 128,\n",
       " 256,\n",
       " 512,\n",
       " 1024,\n",
       " 2048,\n",
       " 4096,\n",
       " 8192,\n",
       " 16384,\n",
       " 32768,\n",
       " 65536]"
      ]
     },
     "execution_count": 13,
     "metadata": {},
     "output_type": "execute_result"
    }
   ],
   "source": [
    "P = [2**x for x in range(17)]\n",
    "P"
   ]
  },
  {
   "cell_type": "code",
   "execution_count": 14,
   "metadata": {},
   "outputs": [
    {
     "data": {
      "text/plain": [
       "[1,\n",
       " 3,\n",
       " 5,\n",
       " 7,\n",
       " 9,\n",
       " 11,\n",
       " 13,\n",
       " 15,\n",
       " 17,\n",
       " 19,\n",
       " 21,\n",
       " 23,\n",
       " 25,\n",
       " 27,\n",
       " 29,\n",
       " 31,\n",
       " 33,\n",
       " 35,\n",
       " 37,\n",
       " 39,\n",
       " 41,\n",
       " 43,\n",
       " 45,\n",
       " 47,\n",
       " 49,\n",
       " 51,\n",
       " 53,\n",
       " 55,\n",
       " 57,\n",
       " 59,\n",
       " 61,\n",
       " 63,\n",
       " 65,\n",
       " 67,\n",
       " 69,\n",
       " 71,\n",
       " 73,\n",
       " 75,\n",
       " 77,\n",
       " 79,\n",
       " 81,\n",
       " 83,\n",
       " 85,\n",
       " 87,\n",
       " 89,\n",
       " 91,\n",
       " 93,\n",
       " 95,\n",
       " 97,\n",
       " 99,\n",
       " 101,\n",
       " 103,\n",
       " 105,\n",
       " 107,\n",
       " 109,\n",
       " 111,\n",
       " 113,\n",
       " 115,\n",
       " 117,\n",
       " 119,\n",
       " 121,\n",
       " 123,\n",
       " 125,\n",
       " 127,\n",
       " 129,\n",
       " 131,\n",
       " 133,\n",
       " 135,\n",
       " 137,\n",
       " 139,\n",
       " 141,\n",
       " 143,\n",
       " 145,\n",
       " 147,\n",
       " 149,\n",
       " 151,\n",
       " 153,\n",
       " 155,\n",
       " 157,\n",
       " 159,\n",
       " 161,\n",
       " 163,\n",
       " 165,\n",
       " 167,\n",
       " 169,\n",
       " 171,\n",
       " 173,\n",
       " 175,\n",
       " 177,\n",
       " 179,\n",
       " 181,\n",
       " 183,\n",
       " 185,\n",
       " 187,\n",
       " 189,\n",
       " 191,\n",
       " 193,\n",
       " 195,\n",
       " 197,\n",
       " 199,\n",
       " 201,\n",
       " 203,\n",
       " 205,\n",
       " 207,\n",
       " 209,\n",
       " 211,\n",
       " 213,\n",
       " 215,\n",
       " 217,\n",
       " 219,\n",
       " 221,\n",
       " 223,\n",
       " 225,\n",
       " 227,\n",
       " 229,\n",
       " 231,\n",
       " 233,\n",
       " 235,\n",
       " 237,\n",
       " 239,\n",
       " 241,\n",
       " 243,\n",
       " 245,\n",
       " 247,\n",
       " 249,\n",
       " 251,\n",
       " 253,\n",
       " 255,\n",
       " 257,\n",
       " 259,\n",
       " 261,\n",
       " 263,\n",
       " 265,\n",
       " 267,\n",
       " 269,\n",
       " 271,\n",
       " 273,\n",
       " 275,\n",
       " 277,\n",
       " 279,\n",
       " 281,\n",
       " 283,\n",
       " 285,\n",
       " 287,\n",
       " 289,\n",
       " 291,\n",
       " 293,\n",
       " 295,\n",
       " 297,\n",
       " 299,\n",
       " 301,\n",
       " 303,\n",
       " 305,\n",
       " 307,\n",
       " 309,\n",
       " 311,\n",
       " 313,\n",
       " 315,\n",
       " 317,\n",
       " 319,\n",
       " 321,\n",
       " 323,\n",
       " 325,\n",
       " 327,\n",
       " 329,\n",
       " 331,\n",
       " 333,\n",
       " 335,\n",
       " 337,\n",
       " 339,\n",
       " 341,\n",
       " 343,\n",
       " 345,\n",
       " 347,\n",
       " 349,\n",
       " 351,\n",
       " 353,\n",
       " 355,\n",
       " 357,\n",
       " 359,\n",
       " 361,\n",
       " 363,\n",
       " 365,\n",
       " 367,\n",
       " 369,\n",
       " 371,\n",
       " 373,\n",
       " 375,\n",
       " 377,\n",
       " 379,\n",
       " 381,\n",
       " 383,\n",
       " 385,\n",
       " 387,\n",
       " 389,\n",
       " 391,\n",
       " 393,\n",
       " 395,\n",
       " 397,\n",
       " 399,\n",
       " 401,\n",
       " 403,\n",
       " 405,\n",
       " 407,\n",
       " 409,\n",
       " 411,\n",
       " 413,\n",
       " 415,\n",
       " 417,\n",
       " 419,\n",
       " 421,\n",
       " 423,\n",
       " 425,\n",
       " 427,\n",
       " 429,\n",
       " 431,\n",
       " 433,\n",
       " 435,\n",
       " 437,\n",
       " 439,\n",
       " 441,\n",
       " 443,\n",
       " 445,\n",
       " 447,\n",
       " 449,\n",
       " 451,\n",
       " 453,\n",
       " 455,\n",
       " 457,\n",
       " 459,\n",
       " 461,\n",
       " 463,\n",
       " 465,\n",
       " 467,\n",
       " 469,\n",
       " 471,\n",
       " 473,\n",
       " 475,\n",
       " 477,\n",
       " 479,\n",
       " 481,\n",
       " 483,\n",
       " 485,\n",
       " 487,\n",
       " 489,\n",
       " 491,\n",
       " 493,\n",
       " 495,\n",
       " 497,\n",
       " 499,\n",
       " 501,\n",
       " 503,\n",
       " 505,\n",
       " 507,\n",
       " 509,\n",
       " 511,\n",
       " 513,\n",
       " 515,\n",
       " 517,\n",
       " 519,\n",
       " 521,\n",
       " 523,\n",
       " 525,\n",
       " 527,\n",
       " 529,\n",
       " 531,\n",
       " 533,\n",
       " 535,\n",
       " 537,\n",
       " 539,\n",
       " 541,\n",
       " 543,\n",
       " 545,\n",
       " 547,\n",
       " 549,\n",
       " 551,\n",
       " 553,\n",
       " 555,\n",
       " 557,\n",
       " 559,\n",
       " 561,\n",
       " 563,\n",
       " 565,\n",
       " 567,\n",
       " 569,\n",
       " 571,\n",
       " 573,\n",
       " 575,\n",
       " 577,\n",
       " 579,\n",
       " 581,\n",
       " 583,\n",
       " 585,\n",
       " 587,\n",
       " 589,\n",
       " 591,\n",
       " 593,\n",
       " 595,\n",
       " 597,\n",
       " 599,\n",
       " 601,\n",
       " 603,\n",
       " 605,\n",
       " 607,\n",
       " 609,\n",
       " 611,\n",
       " 613,\n",
       " 615,\n",
       " 617,\n",
       " 619,\n",
       " 621,\n",
       " 623,\n",
       " 625,\n",
       " 627,\n",
       " 629,\n",
       " 631,\n",
       " 633,\n",
       " 635,\n",
       " 637,\n",
       " 639,\n",
       " 641,\n",
       " 643,\n",
       " 645,\n",
       " 647,\n",
       " 649,\n",
       " 651,\n",
       " 653,\n",
       " 655,\n",
       " 657,\n",
       " 659,\n",
       " 661,\n",
       " 663,\n",
       " 665,\n",
       " 667,\n",
       " 669,\n",
       " 671,\n",
       " 673,\n",
       " 675,\n",
       " 677,\n",
       " 679,\n",
       " 681,\n",
       " 683,\n",
       " 685,\n",
       " 687,\n",
       " 689,\n",
       " 691,\n",
       " 693,\n",
       " 695,\n",
       " 697,\n",
       " 699,\n",
       " 701,\n",
       " 703,\n",
       " 705,\n",
       " 707,\n",
       " 709,\n",
       " 711,\n",
       " 713,\n",
       " 715,\n",
       " 717,\n",
       " 719,\n",
       " 721,\n",
       " 723,\n",
       " 725,\n",
       " 727,\n",
       " 729,\n",
       " 731,\n",
       " 733,\n",
       " 735,\n",
       " 737,\n",
       " 739,\n",
       " 741,\n",
       " 743,\n",
       " 745,\n",
       " 747,\n",
       " 749,\n",
       " 751,\n",
       " 753,\n",
       " 755,\n",
       " 757,\n",
       " 759,\n",
       " 761,\n",
       " 763,\n",
       " 765,\n",
       " 767,\n",
       " 769,\n",
       " 771,\n",
       " 773,\n",
       " 775,\n",
       " 777,\n",
       " 779,\n",
       " 781,\n",
       " 783,\n",
       " 785,\n",
       " 787,\n",
       " 789,\n",
       " 791,\n",
       " 793,\n",
       " 795,\n",
       " 797,\n",
       " 799,\n",
       " 801,\n",
       " 803,\n",
       " 805,\n",
       " 807,\n",
       " 809,\n",
       " 811,\n",
       " 813,\n",
       " 815,\n",
       " 817,\n",
       " 819,\n",
       " 821,\n",
       " 823,\n",
       " 825,\n",
       " 827,\n",
       " 829,\n",
       " 831,\n",
       " 833,\n",
       " 835,\n",
       " 837,\n",
       " 839,\n",
       " 841,\n",
       " 843,\n",
       " 845,\n",
       " 847,\n",
       " 849,\n",
       " 851,\n",
       " 853,\n",
       " 855,\n",
       " 857,\n",
       " 859,\n",
       " 861,\n",
       " 863,\n",
       " 865,\n",
       " 867,\n",
       " 869,\n",
       " 871,\n",
       " 873,\n",
       " 875,\n",
       " 877,\n",
       " 879,\n",
       " 881,\n",
       " 883,\n",
       " 885,\n",
       " 887,\n",
       " 889,\n",
       " 891,\n",
       " 893,\n",
       " 895,\n",
       " 897,\n",
       " 899,\n",
       " 901,\n",
       " 903,\n",
       " 905,\n",
       " 907,\n",
       " 909,\n",
       " 911,\n",
       " 913,\n",
       " 915,\n",
       " 917,\n",
       " 919,\n",
       " 921,\n",
       " 923,\n",
       " 925,\n",
       " 927,\n",
       " 929,\n",
       " 931,\n",
       " 933,\n",
       " 935,\n",
       " 937,\n",
       " 939,\n",
       " 941,\n",
       " 943,\n",
       " 945,\n",
       " 947,\n",
       " 949,\n",
       " 951,\n",
       " 953,\n",
       " 955,\n",
       " 957,\n",
       " 959,\n",
       " 961,\n",
       " 963,\n",
       " 965,\n",
       " 967,\n",
       " 969,\n",
       " 971,\n",
       " 973,\n",
       " 975,\n",
       " 977,\n",
       " 979,\n",
       " 981,\n",
       " 983,\n",
       " 985,\n",
       " 987,\n",
       " 989,\n",
       " 991,\n",
       " 993,\n",
       " 995,\n",
       " 997,\n",
       " 999]"
      ]
     },
     "execution_count": 14,
     "metadata": {},
     "output_type": "execute_result"
    }
   ],
   "source": [
    "E = [x for x in range(1000) if x % 2 != 0]\n",
    "E"
   ]
  },
  {
   "cell_type": "code",
   "execution_count": 15,
   "metadata": {},
   "outputs": [
    {
     "data": {
      "text/plain": [
       "0.5"
      ]
     },
     "execution_count": 15,
     "metadata": {},
     "output_type": "execute_result"
    }
   ],
   "source": [
    "1/2 "
   ]
  },
  {
   "cell_type": "code",
   "execution_count": 16,
   "metadata": {},
   "outputs": [
    {
     "name": "stdout",
     "output_type": "stream",
     "text": [
      "1\n"
     ]
    }
   ],
   "source": [
    "i = 1\n",
    "[i for i in range(5)]\n",
    "print(i)"
   ]
  },
  {
   "cell_type": "code",
   "execution_count": 17,
   "metadata": {},
   "outputs": [
    {
     "name": "stdout",
     "output_type": "stream",
     "text": [
      "(0, 'Sunday')\n",
      "(1, 'Monday')\n",
      "(2, 'Tuesday')\n",
      "(3, 'Wednesday')\n",
      "(4, 'Thursday')\n",
      "(5, 'Friday')\n",
      "(6, 'Saturday')\n"
     ]
    }
   ],
   "source": [
    "daysofWeek=['Sunday','Monday','Tuesday','Wednesday','Thursday','Friday','Saturday']\n",
    "for day in enumerate(daysofWeek):\n",
    "    print(day)"
   ]
  },
  {
   "cell_type": "code",
   "execution_count": 18,
   "metadata": {},
   "outputs": [
    {
     "data": {
      "text/plain": [
       "[(0, 'Sunday'),\n",
       " (1, 'Monday'),\n",
       " (2, 'Tuesday'),\n",
       " (3, 'Wednesday'),\n",
       " (4, 'Thursday'),\n",
       " (5, 'Friday'),\n",
       " (6, 'Saturday')]"
      ]
     },
     "execution_count": 18,
     "metadata": {},
     "output_type": "execute_result"
    }
   ],
   "source": [
    "list(enumerate(daysofWeek))"
   ]
  },
  {
   "cell_type": "code",
   "execution_count": 19,
   "metadata": {},
   "outputs": [
    {
     "data": {
      "text/plain": [
       "[(0, 'Sunday'),\n",
       " (1, 'Monday'),\n",
       " (2, 'Tuesday'),\n",
       " (3, 'Wednesday'),\n",
       " (4, 'Thursday'),\n",
       " (5, 'Friday'),\n",
       " (6, 'Saturday')]"
      ]
     },
     "execution_count": 19,
     "metadata": {},
     "output_type": "execute_result"
    }
   ],
   "source": [
    "[d for d in enumerate(daysofWeek)]"
   ]
  },
  {
   "cell_type": "code",
   "execution_count": 20,
   "metadata": {},
   "outputs": [
    {
     "data": {
      "text/plain": [
       "[7, 9, 11]"
      ]
     },
     "execution_count": 20,
     "metadata": {},
     "output_type": "execute_result"
    }
   ],
   "source": [
    "from operator import add\n",
    "m = [2,3,4]\n",
    "n = [5,6,7]\n",
    "list(map(add,m,n))"
   ]
  },
  {
   "cell_type": "code",
   "execution_count": 21,
   "metadata": {},
   "outputs": [
    {
     "name": "stdout",
     "output_type": "stream",
     "text": [
      "2 1\n",
      "3 4\n",
      "4 9\n"
     ]
    }
   ],
   "source": [
    "from itertools import zip_longest\n",
    "m=[2,3,4]\n",
    "n = [1,4,9]\n",
    "for i, j in zip_longest(m,n):\n",
    "    print(i,j)"
   ]
  },
  {
   "cell_type": "code",
   "execution_count": 22,
   "metadata": {},
   "outputs": [
    {
     "data": {
      "text/plain": [
       "[-10, -9, -8, -7, -6, -5, -4, -3, -2, -1]"
      ]
     },
     "execution_count": 22,
     "metadata": {},
     "output_type": "execute_result"
    }
   ],
   "source": [
    "list(filter(lambda x: x < 0, range(-10,10)))"
   ]
  },
  {
   "cell_type": "code",
   "execution_count": 23,
   "metadata": {},
   "outputs": [
    {
     "data": {
      "text/plain": [
       "[4]"
      ]
     },
     "execution_count": 23,
     "metadata": {},
     "output_type": "execute_result"
    }
   ],
   "source": [
    "list(filter(lambda x:x in m,n))"
   ]
  },
  {
   "cell_type": "code",
   "execution_count": 24,
   "metadata": {},
   "outputs": [
    {
     "data": {
      "text/plain": [
       "120"
      ]
     },
     "execution_count": 24,
     "metadata": {},
     "output_type": "execute_result"
    }
   ],
   "source": [
    "from functools import reduce\n",
    "reduce((lambda x,y:x*y),[1,2,3,4,5])"
   ]
  },
  {
   "cell_type": "code",
   "execution_count": 25,
   "metadata": {},
   "outputs": [],
   "source": [
    "import requests\n"
   ]
  },
  {
   "cell_type": "code",
   "execution_count": 26,
   "metadata": {},
   "outputs": [],
   "source": [
    "token = \"super_secret_token\"\n",
    "r = requests.get(\"https://github.com/nayeemmz\",params={\"access_token\":token})"
   ]
  },
  {
   "cell_type": "code",
   "execution_count": 27,
   "metadata": {},
   "outputs": [
    {
     "data": {
      "text/plain": [
       "b'\\n<!DOCTYPE html>\\n<html lang=\"en\">\\n  <head>\\n    <meta charset=\"utf-8\">\\n  <link rel=\"dns-prefetch\" href=\"https://github.githubassets.com\">\\n  <link rel=\"dns-prefetch\" href=\"https://avatars0.githubusercontent.com\">\\n  <link rel=\"dns-prefetch\" href=\"https://avatars1.githubusercontent.com\">\\n  <link rel=\"dns-prefetch\" href=\"https://avatars2.githubusercontent.com\">\\n  <link rel=\"dns-prefetch\" href=\"https://avatars3.githubusercontent.com\">\\n  <link rel=\"dns-prefetch\" href=\"https://github-cloud.s3.amazonaws.com\">\\n  <link rel=\"dns-prefetch\" href=\"https://user-images.githubusercontent.com/\">\\n\\n\\n\\n  <link crossorigin=\"anonymous\" media=\"all\" integrity=\"sha512-kEryWGxX05dCWUhLEb58P0oiGxkjTiQK6aFimUjSjJW8dqTNIeMbFNQvso2C7Qb+RwQIbK0M4ANIYgF49un0NA==\" rel=\"stylesheet\" href=\"https://github.githubassets.com/assets/frameworks-904af2586c57d3974259484b11be7c3f.css\" />\\n  <link crossorigin=\"anonymous\" media=\"all\" integrity=\"sha512-i17flu884dGfwFnefLx6lWj8enVm1Gn3bwaRzoNEeru/E7Z7jf0G1HTwwarxrPGU6vFYZrVSJGuOrLYwGOsw/w==\" rel=\"stylesheet\" href=\"https://github.githubassets.com/assets/site-8b5edf96ef3ce1d19fc059de7cbc7a95.css\" />\\n    <link crossorigin=\"anonymous\" media=\"all\" integrity=\"sha512-efkkg0RHmRULtiKEuoasRHKOb9m0px2ApjLPJ4T8m2NXoQonbOv1z9gah6goYiLduFikwC/pZq/bOjFndpULfQ==\" rel=\"stylesheet\" href=\"https://github.githubassets.com/assets/github-79f92483444799150bb62284ba86ac44.css\" />\\n    \\n    \\n    \\n    \\n\\n\\n  <meta name=\"viewport\" content=\"width=device-width\">\\n  \\n  <title>nayeemmz (Mohammad Nayeem Teli) \\xc2\\xb7 GitHub</title>\\n    <meta name=\"description\" content=\"\\r\\n   Senior Member IEEE, Computer Science Lecturer, University of Maryland, College Park.\\r\\n - nayeemmz\">\\n    <link rel=\"search\" type=\"application/opensearchdescription+xml\" href=\"/opensearch.xml\" title=\"GitHub\">\\n  <link rel=\"fluid-icon\" href=\"https://github.com/fluidicon.png\" title=\"GitHub\">\\n  <meta property=\"fb:app_id\" content=\"1401488693436528\">\\n  <meta name=\"apple-itunes-app\" content=\"app-id=1477376905\">\\n\\n    <meta name=\"twitter:image:src\" content=\"https://avatars3.githubusercontent.com/u/10536112?s=400&amp;u=c7611547f258f458bf3a69e4e170c347983abbd0&amp;v=4\" /><meta name=\"twitter:site\" content=\"@github\" /><meta name=\"twitter:card\" content=\"summary\" /><meta name=\"twitter:title\" content=\"nayeemmz - Overview\" /><meta name=\"twitter:description\" content=\"\\r\\n   Senior Member IEEE, Computer Science Lecturer, University of Maryland, College Park.\\r\\n - nayeemmz\" />\\n    <meta property=\"og:image\" content=\"https://avatars3.githubusercontent.com/u/10536112?s=400&amp;u=c7611547f258f458bf3a69e4e170c347983abbd0&amp;v=4\" /><meta property=\"og:site_name\" content=\"GitHub\" /><meta property=\"og:type\" content=\"profile\" /><meta property=\"og:title\" content=\"nayeemmz - Overview\" /><meta property=\"og:url\" content=\"https://github.com/nayeemmz\" /><meta property=\"og:description\" content=\"\\r\\n   Senior Member IEEE, Computer Science Lecturer, University of Maryland, College Park.\\r\\n - nayeemmz\" /><meta property=\"profile:username\" content=\"nayeemmz\" />\\n\\n\\n\\n  \\n\\n  <link rel=\"assets\" href=\"https://github.githubassets.com/\">\\n  \\n\\n  <meta name=\"request-id\" content=\"C942:2BF9:66D27D:A9B8E6:5F6A7D76\" data-pjax-transient=\"true\"/><meta name=\"html-safe-nonce\" content=\"81f51fba55f96122de424ce4c665030561745303\" data-pjax-transient=\"true\"/><meta name=\"visitor-payload\" content=\"eyJyZWZlcnJlciI6IiIsInJlcXVlc3RfaWQiOiJDOTQyOjJCRjk6NjZEMjdEOkE5QjhFNjo1RjZBN0Q3NiIsInZpc2l0b3JfaWQiOiI0NDcyMzE5NTI1NDEwODkxNDIiLCJyZWdpb25fZWRnZSI6ImlhZCIsInJlZ2lvbl9yZW5kZXIiOiJpYWQifQ==\" data-pjax-transient=\"true\"/><meta name=\"visitor-hmac\" content=\"f44f2f7a13d513f478006f64d15139bf3c604055920caf5dec64ceb280595641\" data-pjax-transient=\"true\"/><meta name=\"cookie-consent-required\" content=\"false\" data-pjax-transient=\"true\"/>\\n\\n\\n\\n  <meta name=\"github-keyboard-shortcuts\" content=\"\" data-pjax-transient=\"true\" />\\n\\n  \\n\\n  <meta name=\"selected-link\" value=\"/nayeemmz\" data-pjax-transient>\\n\\n    <meta name=\"google-site-verification\" content=\"c1kuD-K2HIVF635lypcsWPoD4kilo5-jA_wBFyT4uMY\">\\n  <meta name=\"google-site-verification\" content=\"KT5gs8h0wvaagLKAVWq8bbeNwnZZK1r1XQysX3xurLU\">\\n  <meta name=\"google-site-verification\" content=\"ZzhVyEFwb7w3e0-uOTltm8Jsck2F5StVihD0exw2fsA\">\\n  <meta name=\"google-site-verification\" content=\"GXs5KoUUkNCoaAZn7wPN-t01Pywp9M3sEjnt_3_ZWPc\">\\n\\n  <meta name=\"octolytics-host\" content=\"collector.githubapp.com\" /><meta name=\"octolytics-app-id\" content=\"github\" /><meta name=\"octolytics-event-url\" content=\"https://collector.githubapp.com/github-external/browser_event\" /><meta name=\"octolytics-dimension-ga_id\" content=\"\" class=\"js-octo-ga-id\" />\\n\\n  <meta name=\"analytics-location\" content=\"/&lt;user-name&gt;\" data-pjax-transient=\"true\" />\\n\\n  \\n\\n\\n\\n\\n\\n    <meta name=\"google-analytics\" content=\"UA-3769691-2\">\\n\\n\\n<meta class=\"js-ga-set\" name=\"dimension10\" content=\"Responsive\" data-pjax-transient>\\n\\n<meta class=\"js-ga-set\" name=\"dimension1\" content=\"Logged Out\">\\n\\n\\n\\n  \\n\\n      <meta name=\"hostname\" content=\"github.com\">\\n    <meta name=\"user-login\" content=\"\">\\n\\n\\n      <meta name=\"expected-hostname\" content=\"github.com\">\\n\\n\\n    <meta name=\"enabled-features\" content=\"MARKETPLACE_PENDING_INSTALLATIONS\">\\n\\n  <meta http-equiv=\"x-pjax-version\" content=\"df933b057dc457a38ae9ee209e17d0ef3a2e68dd61c42b07f6af5be51e71d18d\">\\n  \\n\\n\\n\\n\\n  <meta name=\"browser-stats-url\" content=\"https://api.github.com/_private/browser/stats\">\\n\\n  <meta name=\"browser-errors-url\" content=\"https://api.github.com/_private/browser/errors\">\\n\\n  <link rel=\"mask-icon\" href=\"https://github.githubassets.com/pinned-octocat.svg\" color=\"#000000\">\\n  <link rel=\"alternate icon\" class=\"js-site-favicon\" type=\"image/png\" href=\"https://github.githubassets.com/favicons/favicon.png\">\\n  <link rel=\"icon\" class=\"js-site-favicon\" type=\"image/svg+xml\" href=\"https://github.githubassets.com/favicons/favicon.svg\">\\n\\n<meta name=\"theme-color\" content=\"#1e2327\">\\n\\n\\n  <link rel=\"manifest\" href=\"/manifest.json\" crossOrigin=\"use-credentials\">\\n\\n  </head>\\n\\n  <body class=\"logged-out env-production page-responsive page-profile\">\\n    \\n\\n    <div class=\"position-relative js-header-wrapper \">\\n      <a href=\"#start-of-content\" class=\"px-2 py-4 bg-blue text-white show-on-focus js-skip-to-content\">Skip to content</a>\\n      <span class=\"progress-pjax-loader width-full js-pjax-loader-bar Progress position-fixed\">\\n    <span style=\"background-color: #79b8ff;width: 0%;\" class=\"Progress-item progress-pjax-loader-bar \"></span>\\n</span>      \\n      \\n\\n\\n\\n          <header class=\"Header-old header-logged-out js-details-container Details position-relative f4 py-2\" role=\"banner\">\\n  <div class=\"container-xl d-lg-flex flex-items-center p-responsive\">\\n    <div class=\"d-flex flex-justify-between flex-items-center\">\\n        <a class=\"mr-4\" href=\"https://github.com/\" aria-label=\"Homepage\" data-ga-click=\"(Logged out) Header, go to homepage, icon:logo-wordmark\">\\n          <svg height=\"32\" class=\"octicon octicon-mark-github text-white\" viewBox=\"0 0 16 16\" version=\"1.1\" width=\"32\" aria-hidden=\"true\"><path fill-rule=\"evenodd\" d=\"M8 0C3.58 0 0 3.58 0 8c0 3.54 2.29 6.53 5.47 7.59.4.07.55-.17.55-.38 0-.19-.01-.82-.01-1.49-2.01.37-2.53-.49-2.69-.94-.09-.23-.48-.94-.82-1.13-.28-.15-.68-.52-.01-.53.63-.01 1.08.58 1.23.82.72 1.21 1.87.87 2.33.66.07-.52.28-.87.51-1.07-1.78-.2-3.64-.89-3.64-3.95 0-.87.31-1.59.82-2.15-.08-.2-.36-1.02.08-2.12 0 0 .67-.21 2.2.82.64-.18 1.32-.27 2-.27.68 0 1.36.09 2 .27 1.53-1.04 2.2-.82 2.2-.82.44 1.1.16 1.92.08 2.12.51.56.82 1.27.82 2.15 0 3.07-1.87 3.75-3.65 3.95.29.25.54.73.54 1.48 0 1.07-.01 1.93-.01 2.2 0 .21.15.46.55.38A8.013 8.013 0 0016 8c0-4.42-3.58-8-8-8z\"></path></svg>\\n        </a>\\n\\n          <div class=\"d-lg-none css-truncate css-truncate-target width-fit p-2\">\\n            \\n\\n          </div>\\n\\n        <div class=\"d-flex flex-items-center\">\\n              <a href=\"/join?ref_cta=Sign+up&amp;ref_loc=header+logged+out&amp;ref_page=%2F%3Cuser-name%3E&amp;source=header\"\\n                class=\"d-inline-block d-lg-none f5 text-white no-underline border border-gray-dark rounded-2 px-2 py-1 mr-3 mr-sm-5\"\\n                data-hydro-click=\"{&quot;event_type&quot;:&quot;authentication.click&quot;,&quot;payload&quot;:{&quot;location_in_page&quot;:&quot;site header&quot;,&quot;repository_id&quot;:null,&quot;auth_type&quot;:&quot;SIGN_UP&quot;,&quot;originating_url&quot;:&quot;https://github.com/nayeemmz?access_token=super_secret_token&quot;,&quot;user_id&quot;:null}}\" data-hydro-click-hmac=\"0bf3baa8ca64f1a3b63cdbfd336c749ca3d956429f42d30a1a3e839ab60e2c77\"\\n                data-ga-click=\"Sign up, click to sign up for account, ref_page:/&lt;user-name&gt;;ref_cta:Sign up;ref_loc:header logged out\">\\n                Sign&nbsp;up\\n              </a>\\n\\n          <button class=\"btn-link d-lg-none mt-1 js-details-target\" type=\"button\" aria-label=\"Toggle navigation\" aria-expanded=\"false\">\\n            <svg height=\"24\" class=\"octicon octicon-three-bars text-white\" viewBox=\"0 0 16 16\" version=\"1.1\" width=\"24\" aria-hidden=\"true\"><path fill-rule=\"evenodd\" d=\"M1 2.75A.75.75 0 011.75 2h12.5a.75.75 0 110 1.5H1.75A.75.75 0 011 2.75zm0 5A.75.75 0 011.75 7h12.5a.75.75 0 110 1.5H1.75A.75.75 0 011 7.75zM1.75 12a.75.75 0 100 1.5h12.5a.75.75 0 100-1.5H1.75z\"></path></svg>\\n          </button>\\n        </div>\\n    </div>\\n\\n    <div class=\"HeaderMenu HeaderMenu--logged-out position-fixed top-0 right-0 bottom-0 height-fit position-lg-relative d-lg-flex flex-justify-between flex-items-center flex-auto\">\\n      <div class=\"d-flex d-lg-none flex-justify-end border-bottom bg-gray-light p-3\">\\n        <button class=\"btn-link js-details-target\" type=\"button\" aria-label=\"Toggle navigation\" aria-expanded=\"false\">\\n          <svg height=\"24\" class=\"octicon octicon-x text-gray\" viewBox=\"0 0 24 24\" version=\"1.1\" width=\"24\" aria-hidden=\"true\"><path fill-rule=\"evenodd\" d=\"M5.72 5.72a.75.75 0 011.06 0L12 10.94l5.22-5.22a.75.75 0 111.06 1.06L13.06 12l5.22 5.22a.75.75 0 11-1.06 1.06L12 13.06l-5.22 5.22a.75.75 0 01-1.06-1.06L10.94 12 5.72 6.78a.75.75 0 010-1.06z\"></path></svg>\\n        </button>\\n      </div>\\n\\n        <nav class=\"mt-0 px-3 px-lg-0 mb-5 mb-lg-0\" aria-label=\"Global\">\\n          <ul class=\"d-lg-flex list-style-none\">\\n              <li class=\"d-block d-lg-flex flex-lg-nowrap flex-lg-items-center border-bottom border-lg-bottom-0 mr-0 mr-lg-3 edge-item-fix position-relative flex-wrap flex-justify-between d-flex flex-items-center \">\\n                <details class=\"HeaderMenu-details details-overlay details-reset width-full\">\\n                  <summary class=\"HeaderMenu-summary HeaderMenu-link px-0 py-3 border-0 no-wrap d-block d-lg-inline-block\">\\n                    Why GitHub?\\n                    <svg x=\"0px\" y=\"0px\" viewBox=\"0 0 14 8\" xml:space=\"preserve\" fill=\"none\" class=\"icon-chevon-down-mktg position-absolute position-lg-relative\">\\n                      <path d=\"M1,1l6.2,6L13,1\"></path>\\n                    </svg>\\n                  </summary>\\n                  <div class=\"dropdown-menu flex-auto rounded-1 bg-white px-0 mt-0 pb-4 p-lg-4 position-relative position-lg-absolute left-0 left-lg-n4\">\\n                    <a href=\"/features\" class=\"py-2 lh-condensed-ultra d-block link-gray-dark no-underline h5 Bump-link--hover\" data-ga-click=\"(Logged out) Header, go to Features\">Features <span class=\"Bump-link-symbol float-right text-normal text-gray-light\">&rarr;</span></a>\\n                    <ul class=\"list-style-none f5 pb-3\">\\n                      <li class=\"edge-item-fix\"><a href=\"/features/code-review/\" class=\"py-2 lh-condensed-ultra d-block link-gray no-underline f5\" data-ga-click=\"(Logged out) Header, go to Code review\">Code review</a></li>\\n                      <li class=\"edge-item-fix\"><a href=\"/features/project-management/\" class=\"py-2 lh-condensed-ultra d-block link-gray no-underline f5\" data-ga-click=\"(Logged out) Header, go to Project management\">Project management</a></li>\\n                      <li class=\"edge-item-fix\"><a href=\"/features/integrations\" class=\"py-2 lh-condensed-ultra d-block link-gray no-underline f5\" data-ga-click=\"(Logged out) Header, go to Integrations\">Integrations</a></li>\\n                      <li class=\"edge-item-fix\"><a href=\"/features/actions\" class=\"py-2 lh-condensed-ultra d-block link-gray no-underline f5\" data-ga-click=\"(Logged out) Header, go to Actions\">Actions</a></li>\\n                      <li class=\"edge-item-fix\"><a href=\"/features/packages\" class=\"py-2 lh-condensed-ultra d-block link-gray no-underline f5\" data-ga-click=\"(Logged out) Header, go to GitHub Packages\">Packages</a></li>\\n                      <li class=\"edge-item-fix\"><a href=\"/features/security\" class=\"py-2 lh-condensed-ultra d-block link-gray no-underline f5\" data-ga-click=\"(Logged out) Header, go to Security\">Security</a></li>\\n                      <li class=\"edge-item-fix\"><a href=\"/features#team-management\" class=\"py-2 lh-condensed-ultra d-block link-gray no-underline f5\" data-ga-click=\"(Logged out) Header, go to Team management\">Team management</a></li>\\n                      <li class=\"edge-item-fix\"><a href=\"/features#hosting\" class=\"py-2 lh-condensed-ultra d-block link-gray no-underline f5\" data-ga-click=\"(Logged out) Header, go to Code hosting\">Hosting</a></li>\\n                      <li class=\"edge-item-fix hide-xl\"><a href=\"/mobile\" class=\"py-2 lh-condensed-ultra d-block link-gray no-underline f5\" data-ga-click=\"(Logged out) Header, go to Mobile\">Mobile</a></li>\\n                    </ul>\\n\\n                    <ul class=\"list-style-none mb-0 border-lg-top pt-lg-3\">\\n                      <li class=\"edge-item-fix\"><a href=\"/customer-stories\" class=\"py-2 lh-condensed-ultra d-block no-underline link-gray-dark no-underline h5 Bump-link--hover\" data-ga-click=\"(Logged out) Header, go to Customer stories\">Customer stories <span class=\"Bump-link-symbol float-right text-normal text-gray-light\">&rarr;</span></a></li>\\n                      <li class=\"edge-item-fix\"><a href=\"/security\" class=\"py-2 lh-condensed-ultra d-block no-underline link-gray-dark no-underline h5 Bump-link--hover\" data-ga-click=\"(Logged out) Header, go to Security\">Security <span class=\"Bump-link-symbol float-right text-normal text-gray-light\">&rarr;</span></a></li>\\n                    </ul>\\n                  </div>\\n                </details>\\n              </li>\\n              <li class=\"border-bottom border-lg-bottom-0 mr-0 mr-lg-3\">\\n                <a href=\"/team\" class=\"HeaderMenu-link no-underline py-3 d-block d-lg-inline-block\" data-ga-click=\"(Logged out) Header, go to Team\">Team</a>\\n              </li>\\n              <li class=\"border-bottom border-lg-bottom-0 mr-0 mr-lg-3\">\\n                <a href=\"/enterprise\" class=\"HeaderMenu-link no-underline py-3 d-block d-lg-inline-block\" data-ga-click=\"(Logged out) Header, go to Enterprise\">Enterprise</a>\\n              </li>\\n\\n              <li class=\"d-block d-lg-flex flex-lg-nowrap flex-lg-items-center border-bottom border-lg-bottom-0 mr-0 mr-lg-3 edge-item-fix position-relative flex-wrap flex-justify-between d-flex flex-items-center \">\\n                <details class=\"HeaderMenu-details details-overlay details-reset width-full\">\\n                  <summary class=\"HeaderMenu-summary HeaderMenu-link px-0 py-3 border-0 no-wrap d-block d-lg-inline-block\">\\n                    Explore\\n                    <svg x=\"0px\" y=\"0px\" viewBox=\"0 0 14 8\" xml:space=\"preserve\" fill=\"none\" class=\"icon-chevon-down-mktg position-absolute position-lg-relative\">\\n                      <path d=\"M1,1l6.2,6L13,1\"></path>\\n                    </svg>\\n                  </summary>\\n\\n                  <div class=\"dropdown-menu flex-auto rounded-1 bg-white px-0 pt-2 pb-0 mt-0 pb-4 p-lg-4 position-relative position-lg-absolute left-0 left-lg-n4\">\\n                    <ul class=\"list-style-none mb-3\">\\n                      <li class=\"edge-item-fix\"><a href=\"/explore\" class=\"py-2 lh-condensed-ultra d-block link-gray-dark no-underline h5 Bump-link--hover\" data-ga-click=\"(Logged out) Header, go to Explore\">Explore GitHub <span class=\"Bump-link-symbol float-right text-normal text-gray-light\">&rarr;</span></a></li>\\n                    </ul>\\n\\n                    <h4 class=\"text-gray-light text-normal text-mono f5 mb-2 border-lg-top pt-lg-3\">Learn &amp; contribute</h4>\\n                    <ul class=\"list-style-none mb-3\">\\n                      <li class=\"edge-item-fix\"><a href=\"/topics\" class=\"py-2 lh-condensed-ultra d-block link-gray no-underline f5\" data-ga-click=\"(Logged out) Header, go to Topics\">Topics</a></li>\\n                        <li class=\"edge-item-fix\"><a href=\"/collections\" class=\"py-2 lh-condensed-ultra d-block link-gray no-underline f5\" data-ga-click=\"(Logged out) Header, go to Collections\">Collections</a></li>\\n                      <li class=\"edge-item-fix\"><a href=\"/trending\" class=\"py-2 lh-condensed-ultra d-block link-gray no-underline f5\" data-ga-click=\"(Logged out) Header, go to Trending\">Trending</a></li>\\n                      <li class=\"edge-item-fix\"><a href=\"https://lab.github.com/\" class=\"py-2 lh-condensed-ultra d-block link-gray no-underline f5\" data-ga-click=\"(Logged out) Header, go to Learning lab\">Learning Lab</a></li>\\n                      <li class=\"edge-item-fix\"><a href=\"https://opensource.guide\" class=\"py-2 lh-condensed-ultra d-block link-gray no-underline f5\" data-ga-click=\"(Logged out) Header, go to Open source guides\">Open source guides</a></li>\\n                    </ul>\\n\\n                    <h4 class=\"text-gray-light text-normal text-mono f5 mb-2 border-lg-top pt-lg-3\">Connect with others</h4>\\n                    <ul class=\"list-style-none mb-0\">\\n                      <li class=\"edge-item-fix\"><a href=\"https://github.com/events\" class=\"py-2 lh-condensed-ultra d-block link-gray no-underline f5\" data-ga-click=\"(Logged out) Header, go to Events\">Events</a></li>\\n                      <li class=\"edge-item-fix\"><a href=\"https://github.community\" class=\"py-2 lh-condensed-ultra d-block link-gray no-underline f5\" data-ga-click=\"(Logged out) Header, go to Community forum\">Community forum</a></li>\\n                      <li class=\"edge-item-fix\"><a href=\"https://education.github.com\" class=\"py-2 lh-condensed-ultra d-block link-gray no-underline f5\" data-ga-click=\"(Logged out) Header, go to GitHub Education\">GitHub Education</a></li>\\n                      <li class=\"edge-item-fix\"><a href=\"https://stars.github.com\" class=\"py-2 pb-0 lh-condensed-ultra d-block link-gray no-underline f5\" data-ga-click=\"(Logged out) Header, go to GitHub Stars Program\">GitHub Stars program</a></li>\\n                    </ul>\\n                  </div>\\n                </details>\\n              </li>\\n\\n              <li class=\"border-bottom border-lg-bottom-0 mr-0 mr-lg-3\">\\n                <a href=\"/marketplace\" class=\"HeaderMenu-link no-underline py-3 d-block d-lg-inline-block\" data-ga-click=\"(Logged out) Header, go to Marketplace\">Marketplace</a>\\n              </li>\\n\\n              <li class=\"d-block d-lg-flex flex-lg-nowrap flex-lg-items-center border-bottom border-lg-bottom-0 mr-0 mr-lg-3 edge-item-fix position-relative flex-wrap flex-justify-between d-flex flex-items-center \">\\n                <details class=\"HeaderMenu-details details-overlay details-reset width-full\">\\n                  <summary class=\"HeaderMenu-summary HeaderMenu-link px-0 py-3 border-0 no-wrap d-block d-lg-inline-block\">\\n                    Pricing\\n                    <svg x=\"0px\" y=\"0px\" viewBox=\"0 0 14 8\" xml:space=\"preserve\" fill=\"none\" class=\"icon-chevon-down-mktg position-absolute position-lg-relative\">\\n                       <path d=\"M1,1l6.2,6L13,1\"></path>\\n                    </svg>\\n                  </summary>\\n\\n                  <div class=\"dropdown-menu flex-auto rounded-1 bg-white px-0 pt-2 pb-4 mt-0 p-lg-4 position-relative position-lg-absolute left-0 left-lg-n4\">\\n                    <a href=\"/pricing\" class=\"pb-2 lh-condensed-ultra d-block link-gray-dark no-underline h5 Bump-link--hover\" data-ga-click=\"(Logged out) Header, go to Pricing\">Plans <span class=\"Bump-link-symbol float-right text-normal text-gray-light\">&rarr;</span></a>\\n\\n                    <ul class=\"list-style-none mb-3\">\\n                      <li class=\"edge-item-fix\"><a href=\"/pricing#feature-comparison\" class=\"py-2 lh-condensed-ultra d-block link-gray no-underline f5\" data-ga-click=\"(Logged out) Header, go to Compare plans\">Compare plans</a></li>\\n                      <li class=\"edge-item-fix\"><a href=\"https://enterprise.github.com/contact\" class=\"py-2 lh-condensed-ultra d-block link-gray no-underline f5\" data-ga-click=\"(Logged out) Header, go to Contact Sales\">Contact Sales</a></li>\\n                    </ul>\\n\\n                    <ul class=\"list-style-none mb-0 border-lg-top pt-lg-3\">\\n                      <li class=\"edge-item-fix\"><a href=\"/nonprofit\" class=\"py-2 lh-condensed-ultra d-block no-underline link-gray-dark no-underline h5 Bump-link--hover\" data-ga-click=\"(Logged out) Header, go to Nonprofits\">Nonprofit <span class=\"Bump-link-symbol float-right text-normal text-gray-light\">&rarr;</span></a></li>\\n                      <li class=\"edge-item-fix\"><a href=\"https://education.github.com\" class=\"py-2 pb-0 lh-condensed-ultra d-block no-underline link-gray-dark no-underline h5 Bump-link--hover\"  data-ga-click=\"(Logged out) Header, go to Education\">Education <span class=\"Bump-link-symbol float-right text-normal text-gray-light\">&rarr;</span></a></li>\\n                    </ul>\\n                  </div>\\n                </details>\\n              </li>\\n          </ul>\\n        </nav>\\n\\n      <div class=\"d-lg-flex flex-items-center px-3 px-lg-0 text-center text-lg-left\">\\n          <div class=\"d-lg-flex mb-3 mb-lg-0\">\\n              <div class=\"header-search header-search-current js-header-search-current flex-auto js-site-search position-relative flex-self-stretch flex-md-self-auto mr-0 mr-md-3 mb-3 mb-md-0 scoped-search site-scoped-search js-jump-to js-header-search-current-jump-to\"\\n  role=\"combobox\"\\n  aria-owns=\"jump-to-results\"\\n  aria-label=\"Search or jump to\"\\n  aria-haspopup=\"listbox\"\\n  aria-expanded=\"false\"\\n>\\n  <div class=\"position-relative\">\\n    <!-- \\'\"` --><!-- </textarea></xmp> --></option></form><form class=\"js-site-search-form\" role=\"search\" aria-label=\"Site\" data-scope-type=\"User\" data-scope-id=\"10536112\" data-scoped-search-url=\"/search?user=nayeemmz\" data-unscoped-search-url=\"/search\" action=\"/search?user=nayeemmz\" accept-charset=\"UTF-8\" method=\"get\">\\n      <label class=\"form-control input-sm header-search-wrapper p-0 js-chromeless-input-container header-search-wrapper-jump-to position-relative d-flex flex-justify-between flex-items-center\">\\n        <input type=\"text\"\\n          class=\"form-control input-sm header-search-input jump-to-field js-jump-to-field js-site-search-focus js-site-search-field is-clearable\"\\n          data-hotkey=\"s,/\"\\n          name=\"q\"\\n          value=\"\"\\n          placeholder=\"Search\"\\n          data-unscoped-placeholder=\"Search GitHub\"\\n          data-scoped-placeholder=\"Search\"\\n          autocapitalize=\"off\"\\n          aria-autocomplete=\"list\"\\n          aria-controls=\"jump-to-results\"\\n          aria-label=\"Search\"\\n          data-jump-to-suggestions-path=\"/_graphql/GetSuggestedNavigationDestinations\"\\n          spellcheck=\"false\"\\n          autocomplete=\"off\"\\n          >\\n          <input type=\"hidden\" data-csrf=\"true\" class=\"js-data-jump-to-suggestions-path-csrf\" value=\"ZPDGPf3eJ8GOptKkJNdyHcjyQANr4u8Y5WqsP6JZ8dHAxPmhGmOP6IbifpNVkbpV8jKQDEXoThH/C8cWRv5AvQ==\" />\\n          <input type=\"hidden\" class=\"js-site-search-type-field\" name=\"type\" >\\n            <img src=\"https://github.githubassets.com/images/search-key-slash.svg\" alt=\"\" class=\"mr-2 header-search-key-slash\">\\n\\n            <div class=\"Box position-absolute overflow-hidden d-none jump-to-suggestions js-jump-to-suggestions-container\">\\n              \\n<ul class=\"d-none js-jump-to-suggestions-template-container\">\\n  \\n\\n<li class=\"d-flex flex-justify-start flex-items-center p-0 f5 navigation-item js-navigation-item js-jump-to-suggestion\" role=\"option\">\\n  <a tabindex=\"-1\" class=\"no-underline d-flex flex-auto flex-items-center jump-to-suggestions-path js-jump-to-suggestion-path js-navigation-open p-2\" href=\"\">\\n    <div class=\"jump-to-octicon js-jump-to-octicon flex-shrink-0 mr-2 text-center d-none\">\\n      <svg height=\"16\" width=\"16\" class=\"octicon octicon-repo flex-shrink-0 js-jump-to-octicon-repo d-none\" title=\"Repository\" aria-label=\"Repository\" viewBox=\"0 0 16 16\" version=\"1.1\" role=\"img\"><path fill-rule=\"evenodd\" d=\"M2 2.5A2.5 2.5 0 014.5 0h8.75a.75.75 0 01.75.75v12.5a.75.75 0 01-.75.75h-2.5a.75.75 0 110-1.5h1.75v-2h-8a1 1 0 00-.714 1.7.75.75 0 01-1.072 1.05A2.495 2.495 0 012 11.5v-9zm10.5-1V9h-8c-.356 0-.694.074-1 .208V2.5a1 1 0 011-1h8zM5 12.25v3.25a.25.25 0 00.4.2l1.45-1.087a.25.25 0 01.3 0L8.6 15.7a.25.25 0 00.4-.2v-3.25a.25.25 0 00-.25-.25h-3.5a.25.25 0 00-.25.25z\"></path></svg>\\n      <svg height=\"16\" width=\"16\" class=\"octicon octicon-project flex-shrink-0 js-jump-to-octicon-project d-none\" title=\"Project\" aria-label=\"Project\" viewBox=\"0 0 16 16\" version=\"1.1\" role=\"img\"><path fill-rule=\"evenodd\" d=\"M1.75 0A1.75 1.75 0 000 1.75v12.5C0 15.216.784 16 1.75 16h12.5A1.75 1.75 0 0016 14.25V1.75A1.75 1.75 0 0014.25 0H1.75zM1.5 1.75a.25.25 0 01.25-.25h12.5a.25.25 0 01.25.25v12.5a.25.25 0 01-.25.25H1.75a.25.25 0 01-.25-.25V1.75zM11.75 3a.75.75 0 00-.75.75v7.5a.75.75 0 001.5 0v-7.5a.75.75 0 00-.75-.75zm-8.25.75a.75.75 0 011.5 0v5.5a.75.75 0 01-1.5 0v-5.5zM8 3a.75.75 0 00-.75.75v3.5a.75.75 0 001.5 0v-3.5A.75.75 0 008 3z\"></path></svg>\\n      <svg height=\"16\" width=\"16\" class=\"octicon octicon-search flex-shrink-0 js-jump-to-octicon-search d-none\" title=\"Search\" aria-label=\"Search\" viewBox=\"0 0 16 16\" version=\"1.1\" role=\"img\"><path fill-rule=\"evenodd\" d=\"M11.5 7a4.499 4.499 0 11-8.998 0A4.499 4.499 0 0111.5 7zm-.82 4.74a6 6 0 111.06-1.06l3.04 3.04a.75.75 0 11-1.06 1.06l-3.04-3.04z\"></path></svg>\\n    </div>\\n\\n    <img class=\"avatar mr-2 flex-shrink-0 js-jump-to-suggestion-avatar d-none\" alt=\"\" aria-label=\"Team\" src=\"\" width=\"28\" height=\"28\">\\n\\n    <div class=\"jump-to-suggestion-name js-jump-to-suggestion-name flex-auto overflow-hidden text-left no-wrap css-truncate css-truncate-target\">\\n    </div>\\n\\n    <div class=\"border rounded-1 flex-shrink-0 bg-gray px-1 text-gray-light ml-1 f6 d-none js-jump-to-badge-search\">\\n      <span class=\"js-jump-to-badge-search-text-default d-none\" aria-label=\"in this user\">\\n        In this user\\n      </span>\\n      <span class=\"js-jump-to-badge-search-text-global d-none\" aria-label=\"in all of GitHub\">\\n        All GitHub\\n      </span>\\n      <span aria-hidden=\"true\" class=\"d-inline-block ml-1 v-align-middle\">\\xe2\\x86\\xb5</span>\\n    </div>\\n\\n    <div aria-hidden=\"true\" class=\"border rounded-1 flex-shrink-0 bg-gray px-1 text-gray-light ml-1 f6 d-none d-on-nav-focus js-jump-to-badge-jump\">\\n      Jump to\\n      <span class=\"d-inline-block ml-1 v-align-middle\">\\xe2\\x86\\xb5</span>\\n    </div>\\n  </a>\\n</li>\\n\\n</ul>\\n\\n<ul class=\"d-none js-jump-to-no-results-template-container\">\\n  <li class=\"d-flex flex-justify-center flex-items-center f5 d-none js-jump-to-suggestion p-2\">\\n    <span class=\"text-gray\">No suggested jump to results</span>\\n  </li>\\n</ul>\\n\\n<ul id=\"jump-to-results\" role=\"listbox\" class=\"p-0 m-0 js-navigation-container jump-to-suggestions-results-container js-jump-to-suggestions-results-container\">\\n  \\n\\n<li class=\"d-flex flex-justify-start flex-items-center p-0 f5 navigation-item js-navigation-item js-jump-to-scoped-search d-none\" role=\"option\">\\n  <a tabindex=\"-1\" class=\"no-underline d-flex flex-auto flex-items-center jump-to-suggestions-path js-jump-to-suggestion-path js-navigation-open p-2\" href=\"\">\\n    <div class=\"jump-to-octicon js-jump-to-octicon flex-shrink-0 mr-2 text-center d-none\">\\n      <svg height=\"16\" width=\"16\" class=\"octicon octicon-repo flex-shrink-0 js-jump-to-octicon-repo d-none\" title=\"Repository\" aria-label=\"Repository\" viewBox=\"0 0 16 16\" version=\"1.1\" role=\"img\"><path fill-rule=\"evenodd\" d=\"M2 2.5A2.5 2.5 0 014.5 0h8.75a.75.75 0 01.75.75v12.5a.75.75 0 01-.75.75h-2.5a.75.75 0 110-1.5h1.75v-2h-8a1 1 0 00-.714 1.7.75.75 0 01-1.072 1.05A2.495 2.495 0 012 11.5v-9zm10.5-1V9h-8c-.356 0-.694.074-1 .208V2.5a1 1 0 011-1h8zM5 12.25v3.25a.25.25 0 00.4.2l1.45-1.087a.25.25 0 01.3 0L8.6 15.7a.25.25 0 00.4-.2v-3.25a.25.25 0 00-.25-.25h-3.5a.25.25 0 00-.25.25z\"></path></svg>\\n      <svg height=\"16\" width=\"16\" class=\"octicon octicon-project flex-shrink-0 js-jump-to-octicon-project d-none\" title=\"Project\" aria-label=\"Project\" viewBox=\"0 0 16 16\" version=\"1.1\" role=\"img\"><path fill-rule=\"evenodd\" d=\"M1.75 0A1.75 1.75 0 000 1.75v12.5C0 15.216.784 16 1.75 16h12.5A1.75 1.75 0 0016 14.25V1.75A1.75 1.75 0 0014.25 0H1.75zM1.5 1.75a.25.25 0 01.25-.25h12.5a.25.25 0 01.25.25v12.5a.25.25 0 01-.25.25H1.75a.25.25 0 01-.25-.25V1.75zM11.75 3a.75.75 0 00-.75.75v7.5a.75.75 0 001.5 0v-7.5a.75.75 0 00-.75-.75zm-8.25.75a.75.75 0 011.5 0v5.5a.75.75 0 01-1.5 0v-5.5zM8 3a.75.75 0 00-.75.75v3.5a.75.75 0 001.5 0v-3.5A.75.75 0 008 3z\"></path></svg>\\n      <svg height=\"16\" width=\"16\" class=\"octicon octicon-search flex-shrink-0 js-jump-to-octicon-search d-none\" title=\"Search\" aria-label=\"Search\" viewBox=\"0 0 16 16\" version=\"1.1\" role=\"img\"><path fill-rule=\"evenodd\" d=\"M11.5 7a4.499 4.499 0 11-8.998 0A4.499 4.499 0 0111.5 7zm-.82 4.74a6 6 0 111.06-1.06l3.04 3.04a.75.75 0 11-1.06 1.06l-3.04-3.04z\"></path></svg>\\n    </div>\\n\\n    <img class=\"avatar mr-2 flex-shrink-0 js-jump-to-suggestion-avatar d-none\" alt=\"\" aria-label=\"Team\" src=\"\" width=\"28\" height=\"28\">\\n\\n    <div class=\"jump-to-suggestion-name js-jump-to-suggestion-name flex-auto overflow-hidden text-left no-wrap css-truncate css-truncate-target\">\\n    </div>\\n\\n    <div class=\"border rounded-1 flex-shrink-0 bg-gray px-1 text-gray-light ml-1 f6 d-none js-jump-to-badge-search\">\\n      <span class=\"js-jump-to-badge-search-text-default d-none\" aria-label=\"in this user\">\\n        In this user\\n      </span>\\n      <span class=\"js-jump-to-badge-search-text-global d-none\" aria-label=\"in all of GitHub\">\\n        All GitHub\\n      </span>\\n      <span aria-hidden=\"true\" class=\"d-inline-block ml-1 v-align-middle\">\\xe2\\x86\\xb5</span>\\n    </div>\\n\\n    <div aria-hidden=\"true\" class=\"border rounded-1 flex-shrink-0 bg-gray px-1 text-gray-light ml-1 f6 d-none d-on-nav-focus js-jump-to-badge-jump\">\\n      Jump to\\n      <span class=\"d-inline-block ml-1 v-align-middle\">\\xe2\\x86\\xb5</span>\\n    </div>\\n  </a>\\n</li>\\n\\n  \\n\\n<li class=\"d-flex flex-justify-start flex-items-center p-0 f5 navigation-item js-navigation-item js-jump-to-global-search d-none\" role=\"option\">\\n  <a tabindex=\"-1\" class=\"no-underline d-flex flex-auto flex-items-center jump-to-suggestions-path js-jump-to-suggestion-path js-navigation-open p-2\" href=\"\">\\n    <div class=\"jump-to-octicon js-jump-to-octicon flex-shrink-0 mr-2 text-center d-none\">\\n      <svg height=\"16\" width=\"16\" class=\"octicon octicon-repo flex-shrink-0 js-jump-to-octicon-repo d-none\" title=\"Repository\" aria-label=\"Repository\" viewBox=\"0 0 16 16\" version=\"1.1\" role=\"img\"><path fill-rule=\"evenodd\" d=\"M2 2.5A2.5 2.5 0 014.5 0h8.75a.75.75 0 01.75.75v12.5a.75.75 0 01-.75.75h-2.5a.75.75 0 110-1.5h1.75v-2h-8a1 1 0 00-.714 1.7.75.75 0 01-1.072 1.05A2.495 2.495 0 012 11.5v-9zm10.5-1V9h-8c-.356 0-.694.074-1 .208V2.5a1 1 0 011-1h8zM5 12.25v3.25a.25.25 0 00.4.2l1.45-1.087a.25.25 0 01.3 0L8.6 15.7a.25.25 0 00.4-.2v-3.25a.25.25 0 00-.25-.25h-3.5a.25.25 0 00-.25.25z\"></path></svg>\\n      <svg height=\"16\" width=\"16\" class=\"octicon octicon-project flex-shrink-0 js-jump-to-octicon-project d-none\" title=\"Project\" aria-label=\"Project\" viewBox=\"0 0 16 16\" version=\"1.1\" role=\"img\"><path fill-rule=\"evenodd\" d=\"M1.75 0A1.75 1.75 0 000 1.75v12.5C0 15.216.784 16 1.75 16h12.5A1.75 1.75 0 0016 14.25V1.75A1.75 1.75 0 0014.25 0H1.75zM1.5 1.75a.25.25 0 01.25-.25h12.5a.25.25 0 01.25.25v12.5a.25.25 0 01-.25.25H1.75a.25.25 0 01-.25-.25V1.75zM11.75 3a.75.75 0 00-.75.75v7.5a.75.75 0 001.5 0v-7.5a.75.75 0 00-.75-.75zm-8.25.75a.75.75 0 011.5 0v5.5a.75.75 0 01-1.5 0v-5.5zM8 3a.75.75 0 00-.75.75v3.5a.75.75 0 001.5 0v-3.5A.75.75 0 008 3z\"></path></svg>\\n      <svg height=\"16\" width=\"16\" class=\"octicon octicon-search flex-shrink-0 js-jump-to-octicon-search d-none\" title=\"Search\" aria-label=\"Search\" viewBox=\"0 0 16 16\" version=\"1.1\" role=\"img\"><path fill-rule=\"evenodd\" d=\"M11.5 7a4.499 4.499 0 11-8.998 0A4.499 4.499 0 0111.5 7zm-.82 4.74a6 6 0 111.06-1.06l3.04 3.04a.75.75 0 11-1.06 1.06l-3.04-3.04z\"></path></svg>\\n    </div>\\n\\n    <img class=\"avatar mr-2 flex-shrink-0 js-jump-to-suggestion-avatar d-none\" alt=\"\" aria-label=\"Team\" src=\"\" width=\"28\" height=\"28\">\\n\\n    <div class=\"jump-to-suggestion-name js-jump-to-suggestion-name flex-auto overflow-hidden text-left no-wrap css-truncate css-truncate-target\">\\n    </div>\\n\\n    <div class=\"border rounded-1 flex-shrink-0 bg-gray px-1 text-gray-light ml-1 f6 d-none js-jump-to-badge-search\">\\n      <span class=\"js-jump-to-badge-search-text-default d-none\" aria-label=\"in this user\">\\n        In this user\\n      </span>\\n      <span class=\"js-jump-to-badge-search-text-global d-none\" aria-label=\"in all of GitHub\">\\n        All GitHub\\n      </span>\\n      <span aria-hidden=\"true\" class=\"d-inline-block ml-1 v-align-middle\">\\xe2\\x86\\xb5</span>\\n    </div>\\n\\n    <div aria-hidden=\"true\" class=\"border rounded-1 flex-shrink-0 bg-gray px-1 text-gray-light ml-1 f6 d-none d-on-nav-focus js-jump-to-badge-jump\">\\n      Jump to\\n      <span class=\"d-inline-block ml-1 v-align-middle\">\\xe2\\x86\\xb5</span>\\n    </div>\\n  </a>\\n</li>\\n\\n\\n</ul>\\n\\n            </div>\\n      </label>\\n</form>  </div>\\n</div>\\n\\n          </div>\\n\\n        <a href=\"/login?return_to=%2Fnayeemmz%3Faccess_token%3Dsuper_secret_token\"\\n          class=\"HeaderMenu-link no-underline mr-3\"\\n          data-hydro-click=\"{&quot;event_type&quot;:&quot;authentication.click&quot;,&quot;payload&quot;:{&quot;location_in_page&quot;:&quot;site header menu&quot;,&quot;repository_id&quot;:null,&quot;auth_type&quot;:&quot;SIGN_UP&quot;,&quot;originating_url&quot;:&quot;https://github.com/nayeemmz?access_token=super_secret_token&quot;,&quot;user_id&quot;:null}}\" data-hydro-click-hmac=\"ddeb4d36223ada4b142dd826cf07d2571e890431bf70efdd2112d14f75701fc1\"\\n          data-ga-click=\"(Logged out) Header, clicked Sign in, text:sign-in\">\\n          Sign&nbsp;in\\n        </a>\\n            <a href=\"/join?ref_cta=Sign+up&amp;ref_loc=header+logged+out&amp;ref_page=%2F%3Cuser-name%3E&amp;source=header\"\\n              class=\"HeaderMenu-link d-inline-block no-underline border border-gray-dark rounded-1 px-2 py-1\"\\n              data-hydro-click=\"{&quot;event_type&quot;:&quot;authentication.click&quot;,&quot;payload&quot;:{&quot;location_in_page&quot;:&quot;site header menu&quot;,&quot;repository_id&quot;:null,&quot;auth_type&quot;:&quot;SIGN_UP&quot;,&quot;originating_url&quot;:&quot;https://github.com/nayeemmz?access_token=super_secret_token&quot;,&quot;user_id&quot;:null}}\" data-hydro-click-hmac=\"ddeb4d36223ada4b142dd826cf07d2571e890431bf70efdd2112d14f75701fc1\"\\n              data-ga-click=\"Sign up, click to sign up for account, ref_page:/&lt;user-name&gt;;ref_cta:Sign up;ref_loc:header logged out\">\\n              Sign&nbsp;up\\n            </a>\\n      </div>\\n    </div>\\n  </div>\\n</header>\\n\\n    </div>\\n\\n  <div id=\"start-of-content\" class=\"show-on-focus\"></div>\\n\\n\\n\\n\\n    <div id=\"js-flash-container\">\\n\\n\\n  <template class=\"js-flash-template\">\\n    <div class=\"flash flash-full  {{ className }}\">\\n  <div class=\" px-2\" >\\n    <button class=\"flash-close js-flash-close\" type=\"button\" aria-label=\"Dismiss this message\">\\n      <svg class=\"octicon octicon-x\" viewBox=\"0 0 16 16\" version=\"1.1\" width=\"16\" height=\"16\" aria-hidden=\"true\"><path fill-rule=\"evenodd\" d=\"M3.72 3.72a.75.75 0 011.06 0L8 6.94l3.22-3.22a.75.75 0 111.06 1.06L9.06 8l3.22 3.22a.75.75 0 11-1.06 1.06L8 9.06l-3.22 3.22a.75.75 0 01-1.06-1.06L6.94 8 3.72 4.78a.75.75 0 010-1.06z\"></path></svg>\\n    </button>\\n    \\n      <div>{{ message }}</div>\\n\\n  </div>\\n</div>\\n  </template>\\n</div>\\n\\n\\n  \\n\\n  <include-fragment class=\"js-notification-shelf-include-fragment\" data-base-src=\"https://github.com/notifications/beta/shelf\"></include-fragment>\\n\\n\\n\\n  <div\\n    class=\"application-main \"\\n    data-commit-hovercards-enabled\\n    data-discussion-hovercards-enabled\\n    data-issue-and-pr-hovercards-enabled\\n  >\\n      <main id=\"js-pjax-container\" data-pjax-container>\\n        <div class=\"mt-4 position-sticky top-0 d-none d-md-block bg-white width-full border-bottom\" style=\"z-index:3;\">\\n  <div class=\"container-xl px-3 px-md-4 px-lg-5\">\\n    <div class=\"gutter-condensed gutter-lg flex-column flex-md-row d-flex\">\\n    <div class=\"flex-shrink-0 col-12 col-md-3 mb-4 mb-md-0\">\\n              <div class=\"user-profile-sticky-bar\">\\n          <div class=\"user-profile-mini-vcard d-table\">\\n            <span class=\"user-profile-mini-avatar d-table-cell v-align-middle lh-condensed-ultra pr-2\">\\n              <img class=\"rounded-1 avatar-user\" height=\"32\" width=\"32\" alt=\"@nayeemmz\" src=\"https://avatars0.githubusercontent.com/u/10536112?s=88&amp;u=c7611547f258f458bf3a69e4e170c347983abbd0&amp;v=4\" />\\n            </span>\\n            <span class=\"d-table-cell v-align-middle lh-condensed\">\\n              <strong>nayeemmz</strong>\\n              \\n  <span class=\"user-following-container\">\\n    <span class=\"follow d-block\">\\n      <a class=\"btn btn-sm mini-follow-button \" data-hydro-click=\"{&quot;event_type&quot;:&quot;authentication.click&quot;,&quot;payload&quot;:{&quot;location_in_page&quot;:&quot;follow button&quot;,&quot;repository_id&quot;:null,&quot;auth_type&quot;:&quot;LOG_IN&quot;,&quot;originating_url&quot;:&quot;https://github.com/nayeemmz?access_token=super_secret_token&quot;,&quot;user_id&quot;:null}}\" data-hydro-click-hmac=\"cbb6112ab480df89063dbb5fcbabb925251f3ce6efbb22c1b0c90b0305f0f878\" href=\"/login?return_to=%2Fnayeemmz%3Faccess_token%3Dsuper_secret_token\">Follow</a>\\n    </span>\\n  </span>\\n\\n            </span>\\n          </div>\\n        </div>\\n\\n</div>\\n  <div class=\"flex-shrink-0 col-12 col-md-9 mb-4 mb-md-0\">\\n            <div class=\"UnderlineNav width-full box-shadow-none\">\\n            <nav class=\"UnderlineNav-body\" data-pjax aria-label=\"User profile\">\\n    <a aria-current=\"page\" class=\"UnderlineNav-item selected \" data-hydro-click=\"{&quot;event_type&quot;:&quot;user_profile.click&quot;,&quot;payload&quot;:{&quot;profile_user_id&quot;:10536112,&quot;target&quot;:&quot;TAB_OVERVIEW&quot;,&quot;user_id&quot;:null,&quot;originating_url&quot;:&quot;https://github.com/nayeemmz?access_token=super_secret_token&quot;}}\" data-hydro-click-hmac=\"38b66de0c0633bb0f6a5c7b09a64966914e5fc77cc66ec4e9b38d4dcb9212b30\" href=\"/nayeemmz\">\\n      <svg class=\"octicon octicon-book UnderlineNav-octicon hide-sm\" height=\"16\" viewBox=\"0 0 16 16\" version=\"1.1\" width=\"16\" aria-hidden=\"true\"><path fill-rule=\"evenodd\" d=\"M0 1.75A.75.75 0 01.75 1h4.253c1.227 0 2.317.59 3 1.501A3.744 3.744 0 0111.006 1h4.245a.75.75 0 01.75.75v10.5a.75.75 0 01-.75.75h-4.507a2.25 2.25 0 00-1.591.659l-.622.621a.75.75 0 01-1.06 0l-.622-.621A2.25 2.25 0 005.258 13H.75a.75.75 0 01-.75-.75V1.75zm8.755 3a2.25 2.25 0 012.25-2.25H14.5v9h-3.757c-.71 0-1.4.201-1.992.572l.004-7.322zm-1.504 7.324l.004-5.073-.002-2.253A2.25 2.25 0 005.003 2.5H1.5v9h3.757a3.75 3.75 0 011.994.574z\"></path></svg>\\n      Overview\\n</a>\\n    <a class=\"UnderlineNav-item \" data-hydro-click=\"{&quot;event_type&quot;:&quot;user_profile.click&quot;,&quot;payload&quot;:{&quot;profile_user_id&quot;:10536112,&quot;target&quot;:&quot;TAB_REPOSITORIES&quot;,&quot;user_id&quot;:null,&quot;originating_url&quot;:&quot;https://github.com/nayeemmz?access_token=super_secret_token&quot;}}\" data-hydro-click-hmac=\"c4dea236e0f31ba6946999c53f571890a2d2487defad5644283a5565a38c4ec9\" href=\"/nayeemmz?tab=repositories\">\\n      <svg class=\"octicon octicon-repo UnderlineNav-octicon hide-sm\" height=\"16\" viewBox=\"0 0 16 16\" version=\"1.1\" width=\"16\" aria-hidden=\"true\"><path fill-rule=\"evenodd\" d=\"M2 2.5A2.5 2.5 0 014.5 0h8.75a.75.75 0 01.75.75v12.5a.75.75 0 01-.75.75h-2.5a.75.75 0 110-1.5h1.75v-2h-8a1 1 0 00-.714 1.7.75.75 0 01-1.072 1.05A2.495 2.495 0 012 11.5v-9zm10.5-1V9h-8c-.356 0-.694.074-1 .208V2.5a1 1 0 011-1h8zM5 12.25v3.25a.25.25 0 00.4.2l1.45-1.087a.25.25 0 01.3 0L8.6 15.7a.25.25 0 00.4-.2v-3.25a.25.25 0 00-.25-.25h-3.5a.25.25 0 00-.25.25z\"></path></svg>\\n      Repositories\\n      <span title=\"14\" class=\"Counter \">14</span>\\n</a>\\n    <a class=\"UnderlineNav-item \" data-hydro-click=\"{&quot;event_type&quot;:&quot;user_profile.click&quot;,&quot;payload&quot;:{&quot;profile_user_id&quot;:10536112,&quot;target&quot;:&quot;TAB_PROJECTS&quot;,&quot;user_id&quot;:null,&quot;originating_url&quot;:&quot;https://github.com/nayeemmz?access_token=super_secret_token&quot;}}\" data-hydro-click-hmac=\"65b10318a705dbd95a4160ff18d693b23d84a5803c1b092a6be7394f12389e19\" href=\"/nayeemmz?tab=projects\">\\n      <svg class=\"octicon octicon-project UnderlineNav-octicon hide-sm\" height=\"16\" viewBox=\"0 0 16 16\" version=\"1.1\" width=\"16\" aria-hidden=\"true\"><path fill-rule=\"evenodd\" d=\"M1.75 0A1.75 1.75 0 000 1.75v12.5C0 15.216.784 16 1.75 16h12.5A1.75 1.75 0 0016 14.25V1.75A1.75 1.75 0 0014.25 0H1.75zM1.5 1.75a.25.25 0 01.25-.25h12.5a.25.25 0 01.25.25v12.5a.25.25 0 01-.25.25H1.75a.25.25 0 01-.25-.25V1.75zM11.75 3a.75.75 0 00-.75.75v7.5a.75.75 0 001.5 0v-7.5a.75.75 0 00-.75-.75zm-8.25.75a.75.75 0 011.5 0v5.5a.75.75 0 01-1.5 0v-5.5zM8 3a.75.75 0 00-.75.75v3.5a.75.75 0 001.5 0v-3.5A.75.75 0 008 3z\"></path></svg>\\n      Projects\\n      <span title=\"0\" hidden=\"hidden\" class=\"Counter \">0</span>\\n</a>\\n      <a class=\"UnderlineNav-item \" data-hydro-click=\"{&quot;event_type&quot;:&quot;user_profile.click&quot;,&quot;payload&quot;:{&quot;profile_user_id&quot;:10536112,&quot;target&quot;:&quot;TAB_PACKAGES&quot;,&quot;user_id&quot;:null,&quot;originating_url&quot;:&quot;https://github.com/nayeemmz?access_token=super_secret_token&quot;}}\" data-hydro-click-hmac=\"078b8393be62a57671d86e412fda240dff6291115184e81c38fb11575e98bb06\" href=\"/nayeemmz?tab=packages\">\\n        <svg class=\"octicon octicon-package UnderlineNav-octicon hide-sm\" height=\"16\" viewBox=\"0 0 16 16\" version=\"1.1\" width=\"16\" aria-hidden=\"true\"><path fill-rule=\"evenodd\" d=\"M8.878.392a1.75 1.75 0 00-1.756 0l-5.25 3.045A1.75 1.75 0 001 4.951v6.098c0 .624.332 1.2.872 1.514l5.25 3.045a1.75 1.75 0 001.756 0l5.25-3.045c.54-.313.872-.89.872-1.514V4.951c0-.624-.332-1.2-.872-1.514L8.878.392zM7.875 1.69a.25.25 0 01.25 0l4.63 2.685L8 7.133 3.245 4.375l4.63-2.685zM2.5 5.677v5.372c0 .09.047.171.125.216l4.625 2.683V8.432L2.5 5.677zm6.25 8.271l4.625-2.683a.25.25 0 00.125-.216V5.677L8.75 8.432v5.516z\"></path></svg>\\n        Packages\\n        <span title=\"0\" hidden=\"hidden\" class=\"Counter \">0</span>\\n</a>  </nav>\\n\\n        </div>\\n\\n</div>\\n</div>  </div>\\n</div>\\n<div class=\"container-xl px-3 px-md-4 px-lg-5\">\\n  <div class=\"gutter-condensed gutter-lg flex-column flex-md-row d-flex\">\\n    <div class=\"flex-shrink-0 col-12 col-md-3 mb-4 mb-md-0\">\\n            <div class=\"h-card mt-md-n5\" data-acv-badge-hovercards-enabled itemscope itemtype=\"http://schema.org/Person\">\\n\\n        <div class=\"user-profile-sticky-bar js-user-profile-sticky-bar d-none d-md-block\">\\n          <div class=\"user-profile-mini-vcard d-table\">\\n            <span class=\"user-profile-mini-avatar d-table-cell v-align-middle lh-condensed-ultra pr-2\">\\n              <img class=\"rounded-1 avatar-user\" height=\"32\" width=\"32\" alt=\"@nayeemmz\" src=\"https://avatars0.githubusercontent.com/u/10536112?s=88&amp;u=c7611547f258f458bf3a69e4e170c347983abbd0&amp;v=4\" />\\n            </span>\\n            <span class=\"d-table-cell v-align-middle lh-condensed\">\\n              <strong>nayeemmz</strong>\\n              \\n  <span class=\"user-following-container\">\\n    <span class=\"follow d-block\">\\n      <a class=\"btn btn-sm mini-follow-button \" data-hydro-click=\"{&quot;event_type&quot;:&quot;authentication.click&quot;,&quot;payload&quot;:{&quot;location_in_page&quot;:&quot;follow button&quot;,&quot;repository_id&quot;:null,&quot;auth_type&quot;:&quot;LOG_IN&quot;,&quot;originating_url&quot;:&quot;https://github.com/nayeemmz?access_token=super_secret_token&quot;,&quot;user_id&quot;:null}}\" data-hydro-click-hmac=\"cbb6112ab480df89063dbb5fcbabb925251f3ce6efbb22c1b0c90b0305f0f878\" href=\"/login?return_to=%2Fnayeemmz%3Faccess_token%3Dsuper_secret_token\">Follow</a>\\n    </span>\\n  </span>\\n\\n            </span>\\n          </div>\\n        </div>\\n\\n          \\n<div class=\"clearfix d-flex d-md-block flex-items-center mb-4 mb-md-0\">\\n  <div class=\"position-relative d-inline-block col-2 col-md-12 mr-3 mr-md-0 flex-shrink-0\" style=\"z-index:4;\">\\n      <a itemprop=\"image\" href=\"https://avatars3.githubusercontent.com/u/10536112?s=400&amp;u=c7611547f258f458bf3a69e4e170c347983abbd0&amp;v=4\"><img style=\"height:auto;\" alt=\"Avatar\" width=\"260\" height=\"260\" class=\"avatar avatar-user width-full border bg-white\" src=\"https://avatars3.githubusercontent.com/u/10536112?s=460&amp;u=c7611547f258f458bf3a69e4e170c347983abbd0&amp;v=4\" /></a>\\n    \\n\\n  </div>\\n\\n  <div class=\"vcard-names-container float-left col-10 col-md-12 pt-1 pt-md-3 pb-1 pb-md-3 js-sticky js-user-profile-sticky-fields\">\\n    <h1 class=\"vcard-names pl-2 pl-md-0\">\\n      <span class=\"p-name vcard-fullname d-block overflow-hidden\" itemprop=\"name\">Mohammad Nayeem Teli</span>\\n      <span class=\"p-nickname vcard-username d-block\" itemprop=\"additionalName\">nayeemmz</span>\\n    </h1>\\n  </div>\\n</div>\\n\\n\\n\\n\\n<div class=\"p-note user-profile-bio mb-3 js-user-profile-bio f4\"\\n  ><div>\\n   Senior Member IEEE, Computer Science Lecturer, University of Maryland, College Park.\\n</div></div>\\n\\n<div class=\"d-flex flex-column\">\\n  <div class=\"flex-order-1 flex-md-order-none\">\\n\\n      <div class=\"d-flex\">\\n            <div class=\"flex-1 mb-0 mb-md-3\">\\n              <div class=\"js-sticky js-user-profile-follow-button pb-1 mb-n1\"></div>\\n              \\n  <span class=\"user-following-container\">\\n    <span class=\"follow d-block\">\\n      <a class=\"btn btn-block \" data-hydro-click=\"{&quot;event_type&quot;:&quot;authentication.click&quot;,&quot;payload&quot;:{&quot;location_in_page&quot;:&quot;follow button&quot;,&quot;repository_id&quot;:null,&quot;auth_type&quot;:&quot;LOG_IN&quot;,&quot;originating_url&quot;:&quot;https://github.com/nayeemmz?access_token=super_secret_token&quot;,&quot;user_id&quot;:null}}\" data-hydro-click-hmac=\"cbb6112ab480df89063dbb5fcbabb925251f3ce6efbb22c1b0c90b0305f0f878\" href=\"/login?return_to=%2Fnayeemmz%3Faccess_token%3Dsuper_secret_token\">Follow</a>\\n    </span>\\n  </span>\\n\\n            </div>\\n          <div class=\"flex-shrink-0 ml-2 d-flex flex-items-center mb-0 mb-md-3\">\\n            <details id=\"blob-more-options-details\" class=\"details-overlay details-reset position-relative\">\\n  <summary role=\"button\" type=\"button\" class=\"btn \">\\n    <span class=\"px-2 link-gray\">\\n                  <svg aria-label=\"More options\" height=\"16\" class=\"octicon octicon-kebab-horizontal\" viewBox=\"0 0 16 16\" version=\"1.1\" width=\"16\" role=\"img\"><path d=\"M8 9a1.5 1.5 0 100-3 1.5 1.5 0 000 3zM1.5 9a1.5 1.5 0 100-3 1.5 1.5 0 000 3zm13 0a1.5 1.5 0 100-3 1.5 1.5 0 000 3z\"></path></svg>\\n                </span>\\n</summary>  <div>\\n    <ul class=\"dropdown-menu dropdown-menu-sw\">\\n                  <li>\\n                    <div>\\n  <details class=\"details-reset details-overlay details-overlay-dark \" >\\n          <summary class=\"dropdown-item text-small\">\\n        Block or report user\\n      </summary>\\n\\n  <details-dialog\\n    class=\"Box d-flex flex-column anim-fade-in fast Box-overlay--narrow\"\\n      aria-label=\"Block or report nayeemmz\"\\n>\\n    <div class=\"Box-header\">\\n      <button class=\"Box-btn-octicon btn-octicon float-right\" type=\"button\" aria-label=\"Close dialog\" data-close-dialog>\\n        <svg height=\"16\" class=\"octicon octicon-x\" viewBox=\"0 0 16 16\" version=\"1.1\" width=\"16\" aria-hidden=\"true\"><path fill-rule=\"evenodd\" d=\"M3.72 3.72a.75.75 0 011.06 0L8 6.94l3.22-3.22a.75.75 0 111.06 1.06L9.06 8l3.22 3.22a.75.75 0 11-1.06 1.06L8 9.06l-3.22 3.22a.75.75 0 01-1.06-1.06L6.94 8 3.72 4.78a.75.75 0 010-1.06z\"></path></svg>\\n      </button>\\n      <h1 class=\"Box-title\">Block or report nayeemmz</h1>\\n    </div>\\n      <div class=\"Box-body overflow-auto\">\\n              <div class=\"border-bottom\">\\n        <!-- \\'\"` --><!-- </textarea></xmp> --></option></form><form class=\"mb-3\" action=\"/account/ignore_user/nayeemmz\" accept-charset=\"UTF-8\" method=\"post\"><input type=\"hidden\" data-csrf=\"true\" name=\"authenticity_token\" value=\"3JcWIaFDrl8u9l5XBQdELlrp7FLKdICzzxF0WOW40TkVX4a4SFBcADTbC5/UU2bSLQcOF8x46TFameEsg6XRmA==\" />\\n          <strong>Block user</strong>\\n          <p>\\n              Prevent this user from interacting with your repositories and sending you notifications.\\n            Learn more about <a href=\"https://docs.github.com/en/articles/blocking-a-user-from-your-personal-account\">blocking users</a>.\\n          </p>\\n\\n\\n\\n\\n          <button type=\"submit\" class=\"btn btn-danger\">\\n            Block user\\n          </button>\\n</form>      </div>\\n      <div class=\"mt-3\">\\n        <strong>Report abuse</strong>\\n        <p>\\n          Contact GitHub support about this user\\xe2\\x80\\x99s behavior.\\n          Learn more about <a href=\"https://docs.github.com/en/articles/reporting-abuse-or-spam\">reporting abuse</a>.\\n        </p>\\n        <a href=\"/contact/report-abuse?report=nayeemmz+%28user%29\" class=\"btn btn-danger\">Report abuse</a>\\n      </div>\\n\\n      </div>\\n  </details-dialog>\\n</details>\\n</div>\\n\\n                  </li>\\n                </ul>\\n</div></details>          </div>\\n      </div>\\n\\n  </div>\\n\\n  \\n\\n<div class=\"js-profile-editable-area d-flex flex-column d-md-block\">\\n\\n    <div class=\"flex-order-1 flex-md-order-none mt-2 mt-md-0\">\\n      <div class=\"mb-3\">\\n        <a class=\"link-gray no-underline no-wrap\" href=\"/nayeemmz?tab=followers\">\\n          <svg text=\"gray-light\" height=\"16\" class=\"octicon octicon-people text-gray-light\" viewBox=\"0 0 16 16\" version=\"1.1\" width=\"16\" aria-hidden=\"true\"><path fill-rule=\"evenodd\" d=\"M5.5 3.5a2 2 0 100 4 2 2 0 000-4zM2 5.5a3.5 3.5 0 115.898 2.549 5.507 5.507 0 013.034 4.084.75.75 0 11-1.482.235 4.001 4.001 0 00-7.9 0 .75.75 0 01-1.482-.236A5.507 5.507 0 013.102 8.05 3.49 3.49 0 012 5.5zM11 4a.75.75 0 100 1.5 1.5 1.5 0 01.666 2.844.75.75 0 00-.416.672v.352a.75.75 0 00.574.73c1.2.289 2.162 1.2 2.522 2.372a.75.75 0 101.434-.44 5.01 5.01 0 00-2.56-3.012A3 3 0 0011 4z\"></path></svg>\\n          <span class=\"text-bold text-gray-dark\" >4</span>\\n          followers\\n</a>        &middot; <a class=\"link-gray no-underline no-wrap\" href=\"/nayeemmz?tab=following\">\\n          <span class=\"text-bold text-gray-dark\" >0</span>\\n          following\\n</a>        &middot; <a class=\"link-gray no-underline no-wrap\" href=\"/nayeemmz?tab=stars\">\\n          <svg text=\"gray-light\" height=\"16\" class=\"octicon octicon-star text-gray-light\" viewBox=\"0 0 16 16\" version=\"1.1\" width=\"16\" aria-hidden=\"true\"><path fill-rule=\"evenodd\" d=\"M8 .25a.75.75 0 01.673.418l1.882 3.815 4.21.612a.75.75 0 01.416 1.279l-3.046 2.97.719 4.192a.75.75 0 01-1.088.791L8 12.347l-3.766 1.98a.75.75 0 01-1.088-.79l.72-4.194L.818 6.374a.75.75 0 01.416-1.28l4.21-.611L7.327.668A.75.75 0 018 .25zm0 2.445L6.615 5.5a.75.75 0 01-.564.41l-3.097.45 2.24 2.184a.75.75 0 01.216.664l-.528 3.084 2.769-1.456a.75.75 0 01.698 0l2.77 1.456-.53-3.084a.75.75 0 01.216-.664l2.24-2.183-3.096-.45a.75.75 0 01-.564-.41L8 2.694v.001z\"></path></svg>\\n          <span class=\"text-bold text-gray-dark\">0</span>\\n</a>      </div>\\n\\n    </div>\\n\\n  <ul class=\"vcard-details\">\\n        <li class=\"vcard-detail pt-1 css-truncate css-truncate-target hide-sm hide-md\" itemprop=\"worksFor\" show_title=\"false\" aria-label=\"Organization: University of Maryland\"><svg class=\"octicon octicon-organization\" viewBox=\"0 0 16 16\" version=\"1.1\" width=\"16\" height=\"16\" aria-hidden=\"true\"><path fill-rule=\"evenodd\" d=\"M1.5 14.25c0 .138.112.25.25.25H4v-1.25a.75.75 0 01.75-.75h2.5a.75.75 0 01.75.75v1.25h2.25a.25.25 0 00.25-.25V1.75a.25.25 0 00-.25-.25h-8.5a.25.25 0 00-.25.25v12.5zM1.75 16A1.75 1.75 0 010 14.25V1.75C0 .784.784 0 1.75 0h8.5C11.216 0 12 .784 12 1.75v12.5c0 .085-.006.168-.018.25h2.268a.25.25 0 00.25-.25V8.285a.25.25 0 00-.111-.208l-1.055-.703a.75.75 0 11.832-1.248l1.055.703c.487.325.779.871.779 1.456v5.965A1.75 1.75 0 0114.25 16h-3.5a.75.75 0 01-.197-.026c-.099.017-.2.026-.303.026h-3a.75.75 0 01-.75-.75V14h-1v1.25a.75.75 0 01-.75.75h-3zM3 3.75A.75.75 0 013.75 3h.5a.75.75 0 010 1.5h-.5A.75.75 0 013 3.75zM3.75 6a.75.75 0 000 1.5h.5a.75.75 0 000-1.5h-.5zM3 9.75A.75.75 0 013.75 9h.5a.75.75 0 010 1.5h-.5A.75.75 0 013 9.75zM7.75 9a.75.75 0 000 1.5h.5a.75.75 0 000-1.5h-.5zM7 6.75A.75.75 0 017.75 6h.5a.75.75 0 010 1.5h-.5A.75.75 0 017 6.75zM7.75 3a.75.75 0 000 1.5h.5a.75.75 0 000-1.5h-.5z\"></path></svg>\\n          <span class=\"p-org\"><div>University of Maryland</div></span>\\n</li>\\n      <li class=\"vcard-detail pt-1 css-truncate css-truncate-target hide-sm hide-md\" itemprop=\"homeLocation\" show_title=\"false\" aria-label=\"Home location: College Park\"><svg class=\"octicon octicon-location\" viewBox=\"0 0 16 16\" version=\"1.1\" width=\"16\" height=\"16\" aria-hidden=\"true\"><path fill-rule=\"evenodd\" d=\"M11.536 3.464a5 5 0 010 7.072L8 14.07l-3.536-3.535a5 5 0 117.072-7.072v.001zm1.06 8.132a6.5 6.5 0 10-9.192 0l3.535 3.536a1.5 1.5 0 002.122 0l3.535-3.536zM8 9a2 2 0 100-4 2 2 0 000 4z\"></path></svg>\\n        <span class=\"p-label\">College Park</span>\\n</li>\\n\\n    <li itemprop=\"url\" data-test-selector=\"profile-website-url\" class=\"vcard-detail pt-1 css-truncate css-truncate-target \"><svg class=\"octicon octicon-link\" viewBox=\"0 0 16 16\" version=\"1.1\" width=\"16\" height=\"16\" aria-hidden=\"true\"><path fill-rule=\"evenodd\" d=\"M7.775 3.275a.75.75 0 001.06 1.06l1.25-1.25a2 2 0 112.83 2.83l-2.5 2.5a2 2 0 01-2.83 0 .75.75 0 00-1.06 1.06 3.5 3.5 0 004.95 0l2.5-2.5a3.5 3.5 0 00-4.95-4.95l-1.25 1.25zm-4.69 9.64a2 2 0 010-2.83l2.5-2.5a2 2 0 012.83 0 .75.75 0 001.06-1.06 3.5 3.5 0 00-4.95 0l-2.5 2.5a3.5 3.5 0 004.95 4.95l1.25-1.25a.75.75 0 00-1.06-1.06l-1.25 1.25a2 2 0 01-2.83 0z\"></path></svg>\\n      <a rel=\"nofollow me\" class=\"link-gray-dark \" href=\"http://www.cs.umd.edu/~nayeem/\">http://www.cs.umd.edu/~nayeem/</a>\\n</li>\\n    \\n  </ul>\\n</div>\\n\\n</div>\\n\\n  <div class=\"border-top pt-3 mt-3 d-none d-md-block\">\\n    <h2 class=\"h4 mb-2\">Highlights</h2>\\n\\n    <ul class=\"list-style-none\">\\n        <li class=\"mt-2 position-relative\">\\n          <span class=\"cursor-pointer\" data-hovercard-type=\"acv_badge\" data-hovercard-url=\"/users/nayeemmz/acv/hovercard\"\\n            >\\n            <svg class=\"octicon octicon-north-star text-gray-light mr-1\" viewBox=\"0 0 16 16\" version=\"1.1\" width=\"16\" height=\"16\" aria-hidden=\"true\"><path d=\"M8.5.75a.75.75 0 00-1.5 0v5.19L4.391 3.33a.75.75 0 10-1.06 1.061L5.939 7H.75a.75.75 0 000 1.5h5.19l-2.61 2.609a.75.75 0 101.061 1.06L7 9.561v5.189a.75.75 0 001.5 0V9.56l2.609 2.61a.75.75 0 101.06-1.061L9.561 8.5h5.189a.75.75 0 000-1.5H9.56l2.61-2.609a.75.75 0 00-1.061-1.06L8.5 5.939V.75z\"></path></svg>Arctic Code Vault Contributor\\n          </span>\\n        </li>\\n\\n\\n\\n\\n\\n\\n    </ul>\\n  </div>\\n\\n\\n\\n          \\n\\n\\n      </div>\\n\\n</div>\\n  <div class=\"flex-shrink-0 col-12 col-md-9 mb-4 mb-md-0\">\\n          <div class=\"UnderlineNav user-profile-nav d-block d-md-none position-sticky top-0 pl-3 ml-n3 mr-n3 pr-3 bg-white\" style=\"z-index:3;\">\\n          <nav class=\"UnderlineNav-body\" data-pjax aria-label=\"User profile\">\\n    <a aria-current=\"page\" class=\"UnderlineNav-item selected \" data-hydro-click=\"{&quot;event_type&quot;:&quot;user_profile.click&quot;,&quot;payload&quot;:{&quot;profile_user_id&quot;:10536112,&quot;target&quot;:&quot;TAB_OVERVIEW&quot;,&quot;user_id&quot;:null,&quot;originating_url&quot;:&quot;https://github.com/nayeemmz?access_token=super_secret_token&quot;}}\" data-hydro-click-hmac=\"38b66de0c0633bb0f6a5c7b09a64966914e5fc77cc66ec4e9b38d4dcb9212b30\" href=\"/nayeemmz\">\\n      <svg class=\"octicon octicon-book UnderlineNav-octicon hide-sm\" height=\"16\" viewBox=\"0 0 16 16\" version=\"1.1\" width=\"16\" aria-hidden=\"true\"><path fill-rule=\"evenodd\" d=\"M0 1.75A.75.75 0 01.75 1h4.253c1.227 0 2.317.59 3 1.501A3.744 3.744 0 0111.006 1h4.245a.75.75 0 01.75.75v10.5a.75.75 0 01-.75.75h-4.507a2.25 2.25 0 00-1.591.659l-.622.621a.75.75 0 01-1.06 0l-.622-.621A2.25 2.25 0 005.258 13H.75a.75.75 0 01-.75-.75V1.75zm8.755 3a2.25 2.25 0 012.25-2.25H14.5v9h-3.757c-.71 0-1.4.201-1.992.572l.004-7.322zm-1.504 7.324l.004-5.073-.002-2.253A2.25 2.25 0 005.003 2.5H1.5v9h3.757a3.75 3.75 0 011.994.574z\"></path></svg>\\n      Overview\\n</a>\\n    <a class=\"UnderlineNav-item \" data-hydro-click=\"{&quot;event_type&quot;:&quot;user_profile.click&quot;,&quot;payload&quot;:{&quot;profile_user_id&quot;:10536112,&quot;target&quot;:&quot;TAB_REPOSITORIES&quot;,&quot;user_id&quot;:null,&quot;originating_url&quot;:&quot;https://github.com/nayeemmz?access_token=super_secret_token&quot;}}\" data-hydro-click-hmac=\"c4dea236e0f31ba6946999c53f571890a2d2487defad5644283a5565a38c4ec9\" href=\"/nayeemmz?tab=repositories\">\\n      <svg class=\"octicon octicon-repo UnderlineNav-octicon hide-sm\" height=\"16\" viewBox=\"0 0 16 16\" version=\"1.1\" width=\"16\" aria-hidden=\"true\"><path fill-rule=\"evenodd\" d=\"M2 2.5A2.5 2.5 0 014.5 0h8.75a.75.75 0 01.75.75v12.5a.75.75 0 01-.75.75h-2.5a.75.75 0 110-1.5h1.75v-2h-8a1 1 0 00-.714 1.7.75.75 0 01-1.072 1.05A2.495 2.495 0 012 11.5v-9zm10.5-1V9h-8c-.356 0-.694.074-1 .208V2.5a1 1 0 011-1h8zM5 12.25v3.25a.25.25 0 00.4.2l1.45-1.087a.25.25 0 01.3 0L8.6 15.7a.25.25 0 00.4-.2v-3.25a.25.25 0 00-.25-.25h-3.5a.25.25 0 00-.25.25z\"></path></svg>\\n      Repositories\\n      <span title=\"14\" class=\"Counter \">14</span>\\n</a>\\n    <a class=\"UnderlineNav-item \" data-hydro-click=\"{&quot;event_type&quot;:&quot;user_profile.click&quot;,&quot;payload&quot;:{&quot;profile_user_id&quot;:10536112,&quot;target&quot;:&quot;TAB_PROJECTS&quot;,&quot;user_id&quot;:null,&quot;originating_url&quot;:&quot;https://github.com/nayeemmz?access_token=super_secret_token&quot;}}\" data-hydro-click-hmac=\"65b10318a705dbd95a4160ff18d693b23d84a5803c1b092a6be7394f12389e19\" href=\"/nayeemmz?tab=projects\">\\n      <svg class=\"octicon octicon-project UnderlineNav-octicon hide-sm\" height=\"16\" viewBox=\"0 0 16 16\" version=\"1.1\" width=\"16\" aria-hidden=\"true\"><path fill-rule=\"evenodd\" d=\"M1.75 0A1.75 1.75 0 000 1.75v12.5C0 15.216.784 16 1.75 16h12.5A1.75 1.75 0 0016 14.25V1.75A1.75 1.75 0 0014.25 0H1.75zM1.5 1.75a.25.25 0 01.25-.25h12.5a.25.25 0 01.25.25v12.5a.25.25 0 01-.25.25H1.75a.25.25 0 01-.25-.25V1.75zM11.75 3a.75.75 0 00-.75.75v7.5a.75.75 0 001.5 0v-7.5a.75.75 0 00-.75-.75zm-8.25.75a.75.75 0 011.5 0v5.5a.75.75 0 01-1.5 0v-5.5zM8 3a.75.75 0 00-.75.75v3.5a.75.75 0 001.5 0v-3.5A.75.75 0 008 3z\"></path></svg>\\n      Projects\\n      <span title=\"0\" hidden=\"hidden\" class=\"Counter \">0</span>\\n</a>\\n      <a class=\"UnderlineNav-item \" data-hydro-click=\"{&quot;event_type&quot;:&quot;user_profile.click&quot;,&quot;payload&quot;:{&quot;profile_user_id&quot;:10536112,&quot;target&quot;:&quot;TAB_PACKAGES&quot;,&quot;user_id&quot;:null,&quot;originating_url&quot;:&quot;https://github.com/nayeemmz?access_token=super_secret_token&quot;}}\" data-hydro-click-hmac=\"078b8393be62a57671d86e412fda240dff6291115184e81c38fb11575e98bb06\" href=\"/nayeemmz?tab=packages\">\\n        <svg class=\"octicon octicon-package UnderlineNav-octicon hide-sm\" height=\"16\" viewBox=\"0 0 16 16\" version=\"1.1\" width=\"16\" aria-hidden=\"true\"><path fill-rule=\"evenodd\" d=\"M8.878.392a1.75 1.75 0 00-1.756 0l-5.25 3.045A1.75 1.75 0 001 4.951v6.098c0 .624.332 1.2.872 1.514l5.25 3.045a1.75 1.75 0 001.756 0l5.25-3.045c.54-.313.872-.89.872-1.514V4.951c0-.624-.332-1.2-.872-1.514L8.878.392zM7.875 1.69a.25.25 0 01.25 0l4.63 2.685L8 7.133 3.245 4.375l4.63-2.685zM2.5 5.677v5.372c0 .09.047.171.125.216l4.625 2.683V8.432L2.5 5.677zm6.25 8.271l4.625-2.683a.25.25 0 00.125-.216V5.677L8.75 8.432v5.516z\"></path></svg>\\n        Packages\\n        <span title=\"0\" hidden=\"hidden\" class=\"Counter \">0</span>\\n</a>  </nav>\\n\\n      </div>\\n      <div>\\n          <signup-prompt class=\"signup-prompt-bg rounded-1 mt-4\" data-prompt=\"signup\" hidden>\\n    <div class=\"signup-prompt p-4 text-center mb-4 rounded-1\">\\n      <div class=\"position-relative\">\\n        <button\\n          type=\"button\"\\n          class=\"position-absolute top-0 right-0 btn-link link-gray\"\\n          data-action=\"click:signup-prompt#dismiss\"\\n          data-ga-click=\"(Logged out) Sign up prompt, clicked Dismiss, text:dismiss\"\\n        >\\n          Dismiss\\n        </button>\\n        <h3 class=\"pt-4 pt-lg-2\">Create your own GitHub profile</h3>\\n        <p class=\"col-8 mx-auto\">Sign up for your own profile on GitHub, the best place to host code, manage projects, and build software alongside 50 million developers.</p>\\n        <a class=\"btn btn-primary\" data-ga-click=\"Sign up, click to sign up for account, text:Sign up\" data-hydro-click=\"{&quot;event_type&quot;:&quot;authentication.click&quot;,&quot;payload&quot;:{&quot;location_in_page&quot;:&quot;sign up prompt&quot;,&quot;repository_id&quot;:null,&quot;auth_type&quot;:&quot;SIGN_UP&quot;,&quot;originating_url&quot;:&quot;https://github.com/nayeemmz?access_token=super_secret_token&quot;,&quot;user_id&quot;:null}}\" data-hydro-click-hmac=\"6e772331bdd7cc13c935c9db955d0ad19e8d0adb602a9d680838d838316b6622\" href=\"/join?source=prompt-users-profile\">Sign up</a>\\n      </div>\\n    </div>\\n  </signup-prompt>\\n\\n\\n\\n        <div class=\"position-relative\">\\n            \\n\\n<div class=\"mt-4\">\\n  \\n<div class=\"js-pinned-items-reorder-container\">\\n  <h2 class=\"f4 mb-2 text-normal\">\\n      Popular repositories\\n    <img src=\"https://github.githubassets.com/images/spinners/octocat-spinner-32.gif\"\\n         width=\"13\" class=\"spinner pinned-items-spinner js-pinned-items-spinner\" alt=\"\">\\n    <span class=\"ml-2 text-gray f6 js-pinned-items-reorder-message\"\\n      role=\"status\" aria-live=\"polite\"\\n      data-error-text=\"Something went wrong.\"\\n      data-success-text=\"Order updated.\"></span>\\n  </h2>\\n\\n    \\n<ol class=\"d-flex flex-wrap list-style-none gutter-condensed mb-4\">\\n    <li class=\"col-12 col-md-6 col-lg-6 mb-3 d-flex flex-content-stretch\">\\n      <div class=\"Box pinned-item-list-item d-flex p-3 width-full public source\">\\n        <div class=\"pinned-item-list-item-content\">\\n          <div class=\"d-flex width-full flex-items-center position-relative\">\\n            <a href=\"/nayeemmz/cmsc320fall2020\" class=\"text-bold flex-auto min-width-0\">\\n              <span class=\"repo\" title=\"cmsc320fall2020\">cmsc320fall2020</span>\\n            </a>\\n            \\n          </div>\\n\\n\\n          <p class=\"pinned-item-desc text-gray text-small d-block mt-2 mb-3\">\\n            \\n          </p>\\n\\n          <p class=\"mb-0 f6 text-gray\">\\n              <span class=\"d-inline-block mr-3\">\\n  <span class=\"repo-language-color\" style=\"background-color: #DA5B0B\"></span>\\n  <span itemprop=\"programmingLanguage\">Jupyter Notebook</span>\\n</span>\\n\\n              <a href=\"/nayeemmz/cmsc320fall2020/stargazers\" class=\"pinned-item-meta muted-link \">\\n                <svg aria-label=\"stars\" class=\"octicon octicon-star\" viewBox=\"0 0 16 16\" version=\"1.1\" width=\"16\" height=\"16\" role=\"img\"><path fill-rule=\"evenodd\" d=\"M8 .25a.75.75 0 01.673.418l1.882 3.815 4.21.612a.75.75 0 01.416 1.279l-3.046 2.97.719 4.192a.75.75 0 01-1.088.791L8 12.347l-3.766 1.98a.75.75 0 01-1.088-.79l.72-4.194L.818 6.374a.75.75 0 01.416-1.28l4.21-.611L7.327.668A.75.75 0 018 .25zm0 2.445L6.615 5.5a.75.75 0 01-.564.41l-3.097.45 2.24 2.184a.75.75 0 01.216.664l-.528 3.084 2.769-1.456a.75.75 0 01.698 0l2.77 1.456-.53-3.084a.75.75 0 01.216-.664l2.24-2.183-3.096-.45a.75.75 0 01-.564-.41L8 2.694v.001z\"></path></svg>\\n                4\\n              </a>\\n              <a href=\"/nayeemmz/cmsc320fall2020/network/members\" class=\"pinned-item-meta muted-link \">\\n                <svg aria-label=\"forks\" class=\"octicon octicon-repo-forked\" viewBox=\"0 0 16 16\" version=\"1.1\" width=\"16\" height=\"16\" role=\"img\"><path fill-rule=\"evenodd\" d=\"M5 3.25a.75.75 0 11-1.5 0 .75.75 0 011.5 0zm0 2.122a2.25 2.25 0 10-1.5 0v.878A2.25 2.25 0 005.75 8.5h1.5v2.128a2.251 2.251 0 101.5 0V8.5h1.5a2.25 2.25 0 002.25-2.25v-.878a2.25 2.25 0 10-1.5 0v.878a.75.75 0 01-.75.75h-4.5A.75.75 0 015 6.25v-.878zm3.75 7.378a.75.75 0 11-1.5 0 .75.75 0 011.5 0zm3-8.75a.75.75 0 100-1.5.75.75 0 000 1.5z\"></path></svg>\\n                16\\n              </a>\\n          </p>\\n        </div>\\n      </div>\\n    </li>\\n    <li class=\"col-12 col-md-6 col-lg-6 mb-3 d-flex flex-content-stretch\">\\n      <div class=\"Box pinned-item-list-item d-flex p-3 width-full public source\">\\n        <div class=\"pinned-item-list-item-content\">\\n          <div class=\"d-flex width-full flex-items-center position-relative\">\\n            <a href=\"/nayeemmz/cmsc320Summer2019\" class=\"text-bold flex-auto min-width-0\">\\n              <span class=\"repo\" title=\"cmsc320Summer2019\">cmsc320Summer2019</span>\\n            </a>\\n            \\n          </div>\\n\\n\\n          <p class=\"pinned-item-desc text-gray text-small d-block mt-2 mb-3\">\\n            \\n          </p>\\n\\n          <p class=\"mb-0 f6 text-gray\">\\n              <span class=\"d-inline-block mr-3\">\\n  <span class=\"repo-language-color\" style=\"background-color: #DA5B0B\"></span>\\n  <span itemprop=\"programmingLanguage\">Jupyter Notebook</span>\\n</span>\\n\\n              <a href=\"/nayeemmz/cmsc320Summer2019/stargazers\" class=\"pinned-item-meta muted-link \">\\n                <svg aria-label=\"stars\" class=\"octicon octicon-star\" viewBox=\"0 0 16 16\" version=\"1.1\" width=\"16\" height=\"16\" role=\"img\"><path fill-rule=\"evenodd\" d=\"M8 .25a.75.75 0 01.673.418l1.882 3.815 4.21.612a.75.75 0 01.416 1.279l-3.046 2.97.719 4.192a.75.75 0 01-1.088.791L8 12.347l-3.766 1.98a.75.75 0 01-1.088-.79l.72-4.194L.818 6.374a.75.75 0 01.416-1.28l4.21-.611L7.327.668A.75.75 0 018 .25zm0 2.445L6.615 5.5a.75.75 0 01-.564.41l-3.097.45 2.24 2.184a.75.75 0 01.216.664l-.528 3.084 2.769-1.456a.75.75 0 01.698 0l2.77 1.456-.53-3.084a.75.75 0 01.216-.664l2.24-2.183-3.096-.45a.75.75 0 01-.564-.41L8 2.694v.001z\"></path></svg>\\n                2\\n              </a>\\n              <a href=\"/nayeemmz/cmsc320Summer2019/network/members\" class=\"pinned-item-meta muted-link \">\\n                <svg aria-label=\"fork\" class=\"octicon octicon-repo-forked\" viewBox=\"0 0 16 16\" version=\"1.1\" width=\"16\" height=\"16\" role=\"img\"><path fill-rule=\"evenodd\" d=\"M5 3.25a.75.75 0 11-1.5 0 .75.75 0 011.5 0zm0 2.122a2.25 2.25 0 10-1.5 0v.878A2.25 2.25 0 005.75 8.5h1.5v2.128a2.251 2.251 0 101.5 0V8.5h1.5a2.25 2.25 0 002.25-2.25v-.878a2.25 2.25 0 10-1.5 0v.878a.75.75 0 01-.75.75h-4.5A.75.75 0 015 6.25v-.878zm3.75 7.378a.75.75 0 11-1.5 0 .75.75 0 011.5 0zm3-8.75a.75.75 0 100-1.5.75.75 0 000 1.5z\"></path></svg>\\n                1\\n              </a>\\n          </p>\\n        </div>\\n      </div>\\n    </li>\\n    <li class=\"col-12 col-md-6 col-lg-6 mb-3 d-flex flex-content-stretch\">\\n      <div class=\"Box pinned-item-list-item d-flex p-3 width-full public source\">\\n        <div class=\"pinned-item-list-item-content\">\\n          <div class=\"d-flex width-full flex-items-center position-relative\">\\n            <a href=\"/nayeemmz/DeepLearning\" class=\"text-bold flex-auto min-width-0\">\\n              <span class=\"repo\" title=\"DeepLearning\">DeepLearning</span>\\n            </a>\\n            \\n          </div>\\n\\n\\n          <p class=\"pinned-item-desc text-gray text-small d-block mt-2 mb-3\">\\n            \\n          </p>\\n\\n          <p class=\"mb-0 f6 text-gray\">\\n              <span class=\"d-inline-block mr-3\">\\n  <span class=\"repo-language-color\" style=\"background-color: #DA5B0B\"></span>\\n  <span itemprop=\"programmingLanguage\">Jupyter Notebook</span>\\n</span>\\n\\n              <a href=\"/nayeemmz/DeepLearning/network/members\" class=\"pinned-item-meta muted-link \">\\n                <svg aria-label=\"fork\" class=\"octicon octicon-repo-forked\" viewBox=\"0 0 16 16\" version=\"1.1\" width=\"16\" height=\"16\" role=\"img\"><path fill-rule=\"evenodd\" d=\"M5 3.25a.75.75 0 11-1.5 0 .75.75 0 011.5 0zm0 2.122a2.25 2.25 0 10-1.5 0v.878A2.25 2.25 0 005.75 8.5h1.5v2.128a2.251 2.251 0 101.5 0V8.5h1.5a2.25 2.25 0 002.25-2.25v-.878a2.25 2.25 0 10-1.5 0v.878a.75.75 0 01-.75.75h-4.5A.75.75 0 015 6.25v-.878zm3.75 7.378a.75.75 0 11-1.5 0 .75.75 0 011.5 0zm3-8.75a.75.75 0 100-1.5.75.75 0 000 1.5z\"></path></svg>\\n                1\\n              </a>\\n          </p>\\n        </div>\\n      </div>\\n    </li>\\n    <li class=\"col-12 col-md-6 col-lg-6 mb-3 d-flex flex-content-stretch\">\\n      <div class=\"Box pinned-item-list-item d-flex p-3 width-full public source\">\\n        <div class=\"pinned-item-list-item-content\">\\n          <div class=\"d-flex width-full flex-items-center position-relative\">\\n            <a href=\"/nayeemmz/R-Machine-Learning-Projects-Book\" class=\"text-bold flex-auto min-width-0\">\\n              <span class=\"repo\" title=\"R-Machine-Learning-Projects-Book\">R-Machine-Learning-Projects-Book</span>\\n            </a>\\n            \\n          </div>\\n\\n\\n          <p class=\"pinned-item-desc text-gray text-small d-block mt-2 mb-3\">\\n            \\n          </p>\\n\\n          <p class=\"mb-0 f6 text-gray\">\\n              <span class=\"d-inline-block mr-3\">\\n  <span class=\"repo-language-color\" style=\"background-color: #e34c26\"></span>\\n  <span itemprop=\"programmingLanguage\">HTML</span>\\n</span>\\n\\n          </p>\\n        </div>\\n      </div>\\n    </li>\\n    <li class=\"col-12 col-md-6 col-lg-6 mb-3 d-flex flex-content-stretch\">\\n      <div class=\"Box pinned-item-list-item d-flex p-3 width-full public fork\">\\n        <div class=\"pinned-item-list-item-content\">\\n          <div class=\"d-flex width-full flex-items-center position-relative\">\\n            <a href=\"/nayeemmz/cmsc426spring2019.github.io\" class=\"text-bold flex-auto min-width-0\">\\n              <span class=\"repo\" title=\"cmsc426spring2019.github.io\">cmsc426spring2019.github.io</span>\\n            </a>\\n            <span class=\"Label Label--outline v-align-middle \">Template</span>\\n          </div>\\n\\n            <p class=\"text-gray text-small mb-2\">Forked from <a class=\"muted-link\" href=\"/cmsc426spring2019/cmsc426spring2019.github.io\">cmsc426spring2019/cmsc426spring2019.github.io</a></p>\\n\\n          <p class=\"pinned-item-desc text-gray text-small d-block mt-2 mb-3\">\\n            Course materials and notes for University of Maryland\\'s class CMSC426: Computer Vision Spring 2019\\n          </p>\\n\\n          <p class=\"mb-0 f6 text-gray\">\\n              <span class=\"d-inline-block mr-3\">\\n  <span class=\"repo-language-color\" style=\"background-color: #e34c26\"></span>\\n  <span itemprop=\"programmingLanguage\">HTML</span>\\n</span>\\n\\n          </p>\\n        </div>\\n      </div>\\n    </li>\\n    <li class=\"col-12 col-md-6 col-lg-6 mb-3 d-flex flex-content-stretch\">\\n      <div class=\"Box pinned-item-list-item d-flex p-3 width-full public source\">\\n        <div class=\"pinned-item-list-item-content\">\\n          <div class=\"d-flex width-full flex-items-center position-relative\">\\n            <a href=\"/nayeemmz/cmsc426fall2019\" class=\"text-bold flex-auto min-width-0\">\\n              <span class=\"repo\" title=\"cmsc426fall2019\">cmsc426fall2019</span>\\n            </a>\\n            \\n          </div>\\n\\n\\n          <p class=\"pinned-item-desc text-gray text-small d-block mt-2 mb-3\">\\n            \\n          </p>\\n\\n          <p class=\"mb-0 f6 text-gray\">\\n              <span class=\"d-inline-block mr-3\">\\n  <span class=\"repo-language-color\" style=\"background-color: #DA5B0B\"></span>\\n  <span itemprop=\"programmingLanguage\">Jupyter Notebook</span>\\n</span>\\n\\n              <a href=\"/nayeemmz/cmsc426fall2019/network/members\" class=\"pinned-item-meta muted-link \">\\n                <svg aria-label=\"fork\" class=\"octicon octicon-repo-forked\" viewBox=\"0 0 16 16\" version=\"1.1\" width=\"16\" height=\"16\" role=\"img\"><path fill-rule=\"evenodd\" d=\"M5 3.25a.75.75 0 11-1.5 0 .75.75 0 011.5 0zm0 2.122a2.25 2.25 0 10-1.5 0v.878A2.25 2.25 0 005.75 8.5h1.5v2.128a2.251 2.251 0 101.5 0V8.5h1.5a2.25 2.25 0 002.25-2.25v-.878a2.25 2.25 0 10-1.5 0v.878a.75.75 0 01-.75.75h-4.5A.75.75 0 015 6.25v-.878zm3.75 7.378a.75.75 0 11-1.5 0 .75.75 0 011.5 0zm3-8.75a.75.75 0 100-1.5.75.75 0 000 1.5z\"></path></svg>\\n                1\\n              </a>\\n          </p>\\n        </div>\\n      </div>\\n    </li>\\n</ol>\\n\\n</div>\\n\\n</div>\\n\\n<div class=\"mt-4 position-relative\">\\n    \\n\\n<div class=\"js-yearly-contributions\">\\n  \\n<div class=\"position-relative\">\\n\\n\\n\\n    <h2 class=\"f4 text-normal mb-2\">\\n      472 contributions\\n        in the last year\\n    </h2>\\n\\n    <div class=\"border py-2 graph-before-activity-overview\">\\n      <div class=\"js-calendar-graph mx-md-2 mx-3 d-flex flex-column flex-items-end flex-xl-items-center overflow-hidden pt-1 is-graph-loading graph-canvas calendar-graph height-full text-center\"\\n          data-graph-url=\"/users/nayeemmz/contributions?to=2020-09-22\"\\n          data-url=\"/nayeemmz\"\\n          data-from=\"2019-09-22 00:00:00 UTC\"\\n          data-to=\"2020-09-22 23:59:59 UTC\"\\n          data-org=\"\">\\n        \\n<svg width=\"828\" height=\"128\" class=\"js-calendar-graph-svg\">\\n  <g transform=\"translate(10, 20)\" data-hydro-click=\"{&quot;event_type&quot;:&quot;user_profile.click&quot;,&quot;payload&quot;:{&quot;profile_user_id&quot;:10536112,&quot;target&quot;:&quot;CONTRIBUTION_CALENDAR_SQUARE&quot;,&quot;user_id&quot;:null,&quot;originating_url&quot;:&quot;https://github.com/nayeemmz?access_token=super_secret_token&quot;}}\" data-hydro-click-hmac=\"cbe1c0e32303d691c3bea45f0afd8ac579b5b7471698937b1aaaed23cf7197f1\">\\n      <g transform=\"translate(0, 0)\">\\n          <rect class=\"day\" width=\"11\" height=\"11\" x=\"16\" y=\"0\" fill=\"#ebedf0\" data-count=\"0\" data-date=\"2019-09-22\"/>\\n          <rect class=\"day\" width=\"11\" height=\"11\" x=\"16\" y=\"15\" fill=\"#ebedf0\" data-count=\"0\" data-date=\"2019-09-23\"/>\\n          <rect class=\"day\" width=\"11\" height=\"11\" x=\"16\" y=\"30\" fill=\"#ebedf0\" data-count=\"0\" data-date=\"2019-09-24\"/>\\n          <rect class=\"day\" width=\"11\" height=\"11\" x=\"16\" y=\"45\" fill=\"#ebedf0\" data-count=\"0\" data-date=\"2019-09-25\"/>\\n          <rect class=\"day\" width=\"11\" height=\"11\" x=\"16\" y=\"60\" fill=\"#ebedf0\" data-count=\"0\" data-date=\"2019-09-26\"/>\\n          <rect class=\"day\" width=\"11\" height=\"11\" x=\"16\" y=\"75\" fill=\"#40c463\" data-count=\"26\" data-date=\"2019-09-27\"/>\\n          <rect class=\"day\" width=\"11\" height=\"11\" x=\"16\" y=\"90\" fill=\"#30a14e\" data-count=\"38\" data-date=\"2019-09-28\"/>\\n      </g>\\n      <g transform=\"translate(16, 0)\">\\n          <rect class=\"day\" width=\"11\" height=\"11\" x=\"15\" y=\"0\" fill=\"#30a14e\" data-count=\"32\" data-date=\"2019-09-29\"/>\\n          <rect class=\"day\" width=\"11\" height=\"11\" x=\"15\" y=\"15\" fill=\"#ebedf0\" data-count=\"0\" data-date=\"2019-09-30\"/>\\n          <rect class=\"day\" width=\"11\" height=\"11\" x=\"15\" y=\"30\" fill=\"#ebedf0\" data-count=\"0\" data-date=\"2019-10-01\"/>\\n          <rect class=\"day\" width=\"11\" height=\"11\" x=\"15\" y=\"45\" fill=\"#ebedf0\" data-count=\"0\" data-date=\"2019-10-02\"/>\\n          <rect class=\"day\" width=\"11\" height=\"11\" x=\"15\" y=\"60\" fill=\"#9be9a8\" data-count=\"6\" data-date=\"2019-10-03\"/>\\n          <rect class=\"day\" width=\"11\" height=\"11\" x=\"15\" y=\"75\" fill=\"#ebedf0\" data-count=\"0\" data-date=\"2019-10-04\"/>\\n          <rect class=\"day\" width=\"11\" height=\"11\" x=\"15\" y=\"90\" fill=\"#ebedf0\" data-count=\"0\" data-date=\"2019-10-05\"/>\\n      </g>\\n      <g transform=\"translate(32, 0)\">\\n          <rect class=\"day\" width=\"11\" height=\"11\" x=\"14\" y=\"0\" fill=\"#ebedf0\" data-count=\"0\" data-date=\"2019-10-06\"/>\\n          <rect class=\"day\" width=\"11\" height=\"11\" x=\"14\" y=\"15\" fill=\"#9be9a8\" data-count=\"6\" data-date=\"2019-10-07\"/>\\n          <rect class=\"day\" width=\"11\" height=\"11\" x=\"14\" y=\"30\" fill=\"#ebedf0\" data-count=\"0\" data-date=\"2019-10-08\"/>\\n          <rect class=\"day\" width=\"11\" height=\"11\" x=\"14\" y=\"45\" fill=\"#ebedf0\" data-count=\"0\" data-date=\"2019-10-09\"/>\\n          <rect class=\"day\" width=\"11\" height=\"11\" x=\"14\" y=\"60\" fill=\"#ebedf0\" data-count=\"0\" data-date=\"2019-10-10\"/>\\n          <rect class=\"day\" width=\"11\" height=\"11\" x=\"14\" y=\"75\" fill=\"#9be9a8\" data-count=\"2\" data-date=\"2019-10-11\"/>\\n          <rect class=\"day\" width=\"11\" height=\"11\" x=\"14\" y=\"90\" fill=\"#9be9a8\" data-count=\"2\" data-date=\"2019-10-12\"/>\\n      </g>\\n      <g transform=\"translate(48, 0)\">\\n          <rect class=\"day\" width=\"11\" height=\"11\" x=\"13\" y=\"0\" fill=\"#ebedf0\" data-count=\"0\" data-date=\"2019-10-13\"/>\\n          <rect class=\"day\" width=\"11\" height=\"11\" x=\"13\" y=\"15\" fill=\"#ebedf0\" data-count=\"0\" data-date=\"2019-10-14\"/>\\n          <rect class=\"day\" width=\"11\" height=\"11\" x=\"13\" y=\"30\" fill=\"#ebedf0\" data-count=\"0\" data-date=\"2019-10-15\"/>\\n          <rect class=\"day\" width=\"11\" height=\"11\" x=\"13\" y=\"45\" fill=\"#ebedf0\" data-count=\"0\" data-date=\"2019-10-16\"/>\\n          <rect class=\"day\" width=\"11\" height=\"11\" x=\"13\" y=\"60\" fill=\"#40c463\" data-count=\"14\" data-date=\"2019-10-17\"/>\\n          <rect class=\"day\" width=\"11\" height=\"11\" x=\"13\" y=\"75\" fill=\"#40c463\" data-count=\"26\" data-date=\"2019-10-18\"/>\\n          <rect class=\"day\" width=\"11\" height=\"11\" x=\"13\" y=\"90\" fill=\"#9be9a8\" data-count=\"2\" data-date=\"2019-10-19\"/>\\n      </g>\\n      <g transform=\"translate(64, 0)\">\\n          <rect class=\"day\" width=\"11\" height=\"11\" x=\"12\" y=\"0\" fill=\"#ebedf0\" data-count=\"0\" data-date=\"2019-10-20\"/>\\n          <rect class=\"day\" width=\"11\" height=\"11\" x=\"12\" y=\"15\" fill=\"#ebedf0\" data-count=\"0\" data-date=\"2019-10-21\"/>\\n          <rect class=\"day\" width=\"11\" height=\"11\" x=\"12\" y=\"30\" fill=\"#ebedf0\" data-count=\"0\" data-date=\"2019-10-22\"/>\\n          <rect class=\"day\" width=\"11\" height=\"11\" x=\"12\" y=\"45\" fill=\"#9be9a8\" data-count=\"13\" data-date=\"2019-10-23\"/>\\n          <rect class=\"day\" width=\"11\" height=\"11\" x=\"12\" y=\"60\" fill=\"#ebedf0\" data-count=\"0\" data-date=\"2019-10-24\"/>\\n          <rect class=\"day\" width=\"11\" height=\"11\" x=\"12\" y=\"75\" fill=\"#ebedf0\" data-count=\"0\" data-date=\"2019-10-25\"/>\\n          <rect class=\"day\" width=\"11\" height=\"11\" x=\"12\" y=\"90\" fill=\"#ebedf0\" data-count=\"0\" data-date=\"2019-10-26\"/>\\n      </g>\\n      <g transform=\"translate(80, 0)\">\\n          <rect class=\"day\" width=\"11\" height=\"11\" x=\"11\" y=\"0\" fill=\"#9be9a8\" data-count=\"2\" data-date=\"2019-10-27\"/>\\n          <rect class=\"day\" width=\"11\" height=\"11\" x=\"11\" y=\"15\" fill=\"#ebedf0\" data-count=\"0\" data-date=\"2019-10-28\"/>\\n          <rect class=\"day\" width=\"11\" height=\"11\" x=\"11\" y=\"30\" fill=\"#ebedf0\" data-count=\"0\" data-date=\"2019-10-29\"/>\\n          <rect class=\"day\" width=\"11\" height=\"11\" x=\"11\" y=\"45\" fill=\"#ebedf0\" data-count=\"0\" data-date=\"2019-10-30\"/>\\n          <rect class=\"day\" width=\"11\" height=\"11\" x=\"11\" y=\"60\" fill=\"#ebedf0\" data-count=\"0\" data-date=\"2019-10-31\"/>\\n          <rect class=\"day\" width=\"11\" height=\"11\" x=\"11\" y=\"75\" fill=\"#ebedf0\" data-count=\"0\" data-date=\"2019-11-01\"/>\\n          <rect class=\"day\" width=\"11\" height=\"11\" x=\"11\" y=\"90\" fill=\"#ebedf0\" data-count=\"0\" data-date=\"2019-11-02\"/>\\n      </g>\\n      <g transform=\"translate(96, 0)\">\\n          <rect class=\"day\" width=\"11\" height=\"11\" x=\"10\" y=\"0\" fill=\"#ebedf0\" data-count=\"0\" data-date=\"2019-11-03\"/>\\n          <rect class=\"day\" width=\"11\" height=\"11\" x=\"10\" y=\"15\" fill=\"#ebedf0\" data-count=\"0\" data-date=\"2019-11-04\"/>\\n          <rect class=\"day\" width=\"11\" height=\"11\" x=\"10\" y=\"30\" fill=\"#ebedf0\" data-count=\"0\" data-date=\"2019-11-05\"/>\\n          <rect class=\"day\" width=\"11\" height=\"11\" x=\"10\" y=\"45\" fill=\"#ebedf0\" data-count=\"0\" data-date=\"2019-11-06\"/>\\n          <rect class=\"day\" width=\"11\" height=\"11\" x=\"10\" y=\"60\" fill=\"#ebedf0\" data-count=\"0\" data-date=\"2019-11-07\"/>\\n          <rect class=\"day\" width=\"11\" height=\"11\" x=\"10\" y=\"75\" fill=\"#9be9a8\" data-count=\"2\" data-date=\"2019-11-08\"/>\\n          <rect class=\"day\" width=\"11\" height=\"11\" x=\"10\" y=\"90\" fill=\"#ebedf0\" data-count=\"0\" data-date=\"2019-11-09\"/>\\n      </g>\\n      <g transform=\"translate(112, 0)\">\\n          <rect class=\"day\" width=\"11\" height=\"11\" x=\"9\" y=\"0\" fill=\"#ebedf0\" data-count=\"0\" data-date=\"2019-11-10\"/>\\n          <rect class=\"day\" width=\"11\" height=\"11\" x=\"9\" y=\"15\" fill=\"#ebedf0\" data-count=\"0\" data-date=\"2019-11-11\"/>\\n          <rect class=\"day\" width=\"11\" height=\"11\" x=\"9\" y=\"30\" fill=\"#30a14e\" data-count=\"38\" data-date=\"2019-11-12\"/>\\n          <rect class=\"day\" width=\"11\" height=\"11\" x=\"9\" y=\"45\" fill=\"#ebedf0\" data-count=\"0\" data-date=\"2019-11-13\"/>\\n          <rect class=\"day\" width=\"11\" height=\"11\" x=\"9\" y=\"60\" fill=\"#30a14e\" data-count=\"38\" data-date=\"2019-11-14\"/>\\n          <rect class=\"day\" width=\"11\" height=\"11\" x=\"9\" y=\"75\" fill=\"#ebedf0\" data-count=\"0\" data-date=\"2019-11-15\"/>\\n          <rect class=\"day\" width=\"11\" height=\"11\" x=\"9\" y=\"90\" fill=\"#ebedf0\" data-count=\"0\" data-date=\"2019-11-16\"/>\\n      </g>\\n      <g transform=\"translate(128, 0)\">\\n          <rect class=\"day\" width=\"11\" height=\"11\" x=\"8\" y=\"0\" fill=\"#ebedf0\" data-count=\"0\" data-date=\"2019-11-17\"/>\\n          <rect class=\"day\" width=\"11\" height=\"11\" x=\"8\" y=\"15\" fill=\"#ebedf0\" data-count=\"0\" data-date=\"2019-11-18\"/>\\n          <rect class=\"day\" width=\"11\" height=\"11\" x=\"8\" y=\"30\" fill=\"#ebedf0\" data-count=\"0\" data-date=\"2019-11-19\"/>\\n          <rect class=\"day\" width=\"11\" height=\"11\" x=\"8\" y=\"45\" fill=\"#ebedf0\" data-count=\"0\" data-date=\"2019-11-20\"/>\\n          <rect class=\"day\" width=\"11\" height=\"11\" x=\"8\" y=\"60\" fill=\"#ebedf0\" data-count=\"0\" data-date=\"2019-11-21\"/>\\n          <rect class=\"day\" width=\"11\" height=\"11\" x=\"8\" y=\"75\" fill=\"#9be9a8\" data-count=\"2\" data-date=\"2019-11-22\"/>\\n          <rect class=\"day\" width=\"11\" height=\"11\" x=\"8\" y=\"90\" fill=\"#9be9a8\" data-count=\"2\" data-date=\"2019-11-23\"/>\\n      </g>\\n      <g transform=\"translate(144, 0)\">\\n          <rect class=\"day\" width=\"11\" height=\"11\" x=\"7\" y=\"0\" fill=\"#ebedf0\" data-count=\"0\" data-date=\"2019-11-24\"/>\\n          <rect class=\"day\" width=\"11\" height=\"11\" x=\"7\" y=\"15\" fill=\"#ebedf0\" data-count=\"0\" data-date=\"2019-11-25\"/>\\n          <rect class=\"day\" width=\"11\" height=\"11\" x=\"7\" y=\"30\" fill=\"#ebedf0\" data-count=\"0\" data-date=\"2019-11-26\"/>\\n          <rect class=\"day\" width=\"11\" height=\"11\" x=\"7\" y=\"45\" fill=\"#ebedf0\" data-count=\"0\" data-date=\"2019-11-27\"/>\\n          <rect class=\"day\" width=\"11\" height=\"11\" x=\"7\" y=\"60\" fill=\"#ebedf0\" data-count=\"0\" data-date=\"2019-11-28\"/>\\n          <rect class=\"day\" width=\"11\" height=\"11\" x=\"7\" y=\"75\" fill=\"#ebedf0\" data-count=\"0\" data-date=\"2019-11-29\"/>\\n          <rect class=\"day\" width=\"11\" height=\"11\" x=\"7\" y=\"90\" fill=\"#ebedf0\" data-count=\"0\" data-date=\"2019-11-30\"/>\\n      </g>\\n      <g transform=\"translate(160, 0)\">\\n          <rect class=\"day\" width=\"11\" height=\"11\" x=\"6\" y=\"0\" fill=\"#ebedf0\" data-count=\"0\" data-date=\"2019-12-01\"/>\\n          <rect class=\"day\" width=\"11\" height=\"11\" x=\"6\" y=\"15\" fill=\"#216e39\" data-count=\"54\" data-date=\"2019-12-02\"/>\\n          <rect class=\"day\" width=\"11\" height=\"11\" x=\"6\" y=\"30\" fill=\"#ebedf0\" data-count=\"0\" data-date=\"2019-12-03\"/>\\n          <rect class=\"day\" width=\"11\" height=\"11\" x=\"6\" y=\"45\" fill=\"#ebedf0\" data-count=\"0\" data-date=\"2019-12-04\"/>\\n          <rect class=\"day\" width=\"11\" height=\"11\" x=\"6\" y=\"60\" fill=\"#9be9a8\" data-count=\"4\" data-date=\"2019-12-05\"/>\\n          <rect class=\"day\" width=\"11\" height=\"11\" x=\"6\" y=\"75\" fill=\"#ebedf0\" data-count=\"0\" data-date=\"2019-12-06\"/>\\n          <rect class=\"day\" width=\"11\" height=\"11\" x=\"6\" y=\"90\" fill=\"#ebedf0\" data-count=\"0\" data-date=\"2019-12-07\"/>\\n      </g>\\n      <g transform=\"translate(176, 0)\">\\n          <rect class=\"day\" width=\"11\" height=\"11\" x=\"5\" y=\"0\" fill=\"#ebedf0\" data-count=\"0\" data-date=\"2019-12-08\"/>\\n          <rect class=\"day\" width=\"11\" height=\"11\" x=\"5\" y=\"15\" fill=\"#ebedf0\" data-count=\"0\" data-date=\"2019-12-09\"/>\\n          <rect class=\"day\" width=\"11\" height=\"11\" x=\"5\" y=\"30\" fill=\"#ebedf0\" data-count=\"0\" data-date=\"2019-12-10\"/>\\n          <rect class=\"day\" width=\"11\" height=\"11\" x=\"5\" y=\"45\" fill=\"#ebedf0\" data-count=\"0\" data-date=\"2019-12-11\"/>\\n          <rect class=\"day\" width=\"11\" height=\"11\" x=\"5\" y=\"60\" fill=\"#ebedf0\" data-count=\"0\" data-date=\"2019-12-12\"/>\\n          <rect class=\"day\" width=\"11\" height=\"11\" x=\"5\" y=\"75\" fill=\"#ebedf0\" data-count=\"0\" data-date=\"2019-12-13\"/>\\n          <rect class=\"day\" width=\"11\" height=\"11\" x=\"5\" y=\"90\" fill=\"#ebedf0\" data-count=\"0\" data-date=\"2019-12-14\"/>\\n      </g>\\n      <g transform=\"translate(192, 0)\">\\n          <rect class=\"day\" width=\"11\" height=\"11\" x=\"4\" y=\"0\" fill=\"#ebedf0\" data-count=\"0\" data-date=\"2019-12-15\"/>\\n          <rect class=\"day\" width=\"11\" height=\"11\" x=\"4\" y=\"15\" fill=\"#ebedf0\" data-count=\"0\" data-date=\"2019-12-16\"/>\\n          <rect class=\"day\" width=\"11\" height=\"11\" x=\"4\" y=\"30\" fill=\"#ebedf0\" data-count=\"0\" data-date=\"2019-12-17\"/>\\n          <rect class=\"day\" width=\"11\" height=\"11\" x=\"4\" y=\"45\" fill=\"#ebedf0\" data-count=\"0\" data-date=\"2019-12-18\"/>\\n          <rect class=\"day\" width=\"11\" height=\"11\" x=\"4\" y=\"60\" fill=\"#ebedf0\" data-count=\"0\" data-date=\"2019-12-19\"/>\\n          <rect class=\"day\" width=\"11\" height=\"11\" x=\"4\" y=\"75\" fill=\"#ebedf0\" data-count=\"0\" data-date=\"2019-12-20\"/>\\n          <rect class=\"day\" width=\"11\" height=\"11\" x=\"4\" y=\"90\" fill=\"#ebedf0\" data-count=\"0\" data-date=\"2019-12-21\"/>\\n      </g>\\n      <g transform=\"translate(208, 0)\">\\n          <rect class=\"day\" width=\"11\" height=\"11\" x=\"3\" y=\"0\" fill=\"#ebedf0\" data-count=\"0\" data-date=\"2019-12-22\"/>\\n          <rect class=\"day\" width=\"11\" height=\"11\" x=\"3\" y=\"15\" fill=\"#ebedf0\" data-count=\"0\" data-date=\"2019-12-23\"/>\\n          <rect class=\"day\" width=\"11\" height=\"11\" x=\"3\" y=\"30\" fill=\"#ebedf0\" data-count=\"0\" data-date=\"2019-12-24\"/>\\n          <rect class=\"day\" width=\"11\" height=\"11\" x=\"3\" y=\"45\" fill=\"#ebedf0\" data-count=\"0\" data-date=\"2019-12-25\"/>\\n          <rect class=\"day\" width=\"11\" height=\"11\" x=\"3\" y=\"60\" fill=\"#ebedf0\" data-count=\"0\" data-date=\"2019-12-26\"/>\\n          <rect class=\"day\" width=\"11\" height=\"11\" x=\"3\" y=\"75\" fill=\"#ebedf0\" data-count=\"0\" data-date=\"2019-12-27\"/>\\n          <rect class=\"day\" width=\"11\" height=\"11\" x=\"3\" y=\"90\" fill=\"#ebedf0\" data-count=\"0\" data-date=\"2019-12-28\"/>\\n      </g>\\n      <g transform=\"translate(224, 0)\">\\n          <rect class=\"day\" width=\"11\" height=\"11\" x=\"2\" y=\"0\" fill=\"#ebedf0\" data-count=\"0\" data-date=\"2019-12-29\"/>\\n          <rect class=\"day\" width=\"11\" height=\"11\" x=\"2\" y=\"15\" fill=\"#ebedf0\" data-count=\"0\" data-date=\"2019-12-30\"/>\\n          <rect class=\"day\" width=\"11\" height=\"11\" x=\"2\" y=\"30\" fill=\"#ebedf0\" data-count=\"0\" data-date=\"2019-12-31\"/>\\n          <rect class=\"day\" width=\"11\" height=\"11\" x=\"2\" y=\"45\" fill=\"#ebedf0\" data-count=\"0\" data-date=\"2020-01-01\"/>\\n          <rect class=\"day\" width=\"11\" height=\"11\" x=\"2\" y=\"60\" fill=\"#ebedf0\" data-count=\"0\" data-date=\"2020-01-02\"/>\\n          <rect class=\"day\" width=\"11\" height=\"11\" x=\"2\" y=\"75\" fill=\"#ebedf0\" data-count=\"0\" data-date=\"2020-01-03\"/>\\n          <rect class=\"day\" width=\"11\" height=\"11\" x=\"2\" y=\"90\" fill=\"#ebedf0\" data-count=\"0\" data-date=\"2020-01-04\"/>\\n      </g>\\n      <g transform=\"translate(240, 0)\">\\n          <rect class=\"day\" width=\"11\" height=\"11\" x=\"1\" y=\"0\" fill=\"#ebedf0\" data-count=\"0\" data-date=\"2020-01-05\"/>\\n          <rect class=\"day\" width=\"11\" height=\"11\" x=\"1\" y=\"15\" fill=\"#ebedf0\" data-count=\"0\" data-date=\"2020-01-06\"/>\\n          <rect class=\"day\" width=\"11\" height=\"11\" x=\"1\" y=\"30\" fill=\"#ebedf0\" data-count=\"0\" data-date=\"2020-01-07\"/>\\n          <rect class=\"day\" width=\"11\" height=\"11\" x=\"1\" y=\"45\" fill=\"#ebedf0\" data-count=\"0\" data-date=\"2020-01-08\"/>\\n          <rect class=\"day\" width=\"11\" height=\"11\" x=\"1\" y=\"60\" fill=\"#ebedf0\" data-count=\"0\" data-date=\"2020-01-09\"/>\\n          <rect class=\"day\" width=\"11\" height=\"11\" x=\"1\" y=\"75\" fill=\"#ebedf0\" data-count=\"0\" data-date=\"2020-01-10\"/>\\n          <rect class=\"day\" width=\"11\" height=\"11\" x=\"1\" y=\"90\" fill=\"#ebedf0\" data-count=\"0\" data-date=\"2020-01-11\"/>\\n      </g>\\n      <g transform=\"translate(256, 0)\">\\n          <rect class=\"day\" width=\"11\" height=\"11\" x=\"0\" y=\"0\" fill=\"#ebedf0\" data-count=\"0\" data-date=\"2020-01-12\"/>\\n          <rect class=\"day\" width=\"11\" height=\"11\" x=\"0\" y=\"15\" fill=\"#ebedf0\" data-count=\"0\" data-date=\"2020-01-13\"/>\\n          <rect class=\"day\" width=\"11\" height=\"11\" x=\"0\" y=\"30\" fill=\"#ebedf0\" data-count=\"0\" data-date=\"2020-01-14\"/>\\n          <rect class=\"day\" width=\"11\" height=\"11\" x=\"0\" y=\"45\" fill=\"#ebedf0\" data-count=\"0\" data-date=\"2020-01-15\"/>\\n          <rect class=\"day\" width=\"11\" height=\"11\" x=\"0\" y=\"60\" fill=\"#ebedf0\" data-count=\"0\" data-date=\"2020-01-16\"/>\\n          <rect class=\"day\" width=\"11\" height=\"11\" x=\"0\" y=\"75\" fill=\"#ebedf0\" data-count=\"0\" data-date=\"2020-01-17\"/>\\n          <rect class=\"day\" width=\"11\" height=\"11\" x=\"0\" y=\"90\" fill=\"#ebedf0\" data-count=\"0\" data-date=\"2020-01-18\"/>\\n      </g>\\n      <g transform=\"translate(272, 0)\">\\n          <rect class=\"day\" width=\"11\" height=\"11\" x=\"-1\" y=\"0\" fill=\"#ebedf0\" data-count=\"0\" data-date=\"2020-01-19\"/>\\n          <rect class=\"day\" width=\"11\" height=\"11\" x=\"-1\" y=\"15\" fill=\"#ebedf0\" data-count=\"0\" data-date=\"2020-01-20\"/>\\n          <rect class=\"day\" width=\"11\" height=\"11\" x=\"-1\" y=\"30\" fill=\"#ebedf0\" data-count=\"0\" data-date=\"2020-01-21\"/>\\n          <rect class=\"day\" width=\"11\" height=\"11\" x=\"-1\" y=\"45\" fill=\"#ebedf0\" data-count=\"0\" data-date=\"2020-01-22\"/>\\n          <rect class=\"day\" width=\"11\" height=\"11\" x=\"-1\" y=\"60\" fill=\"#ebedf0\" data-count=\"0\" data-date=\"2020-01-23\"/>\\n          <rect class=\"day\" width=\"11\" height=\"11\" x=\"-1\" y=\"75\" fill=\"#ebedf0\" data-count=\"0\" data-date=\"2020-01-24\"/>\\n          <rect class=\"day\" width=\"11\" height=\"11\" x=\"-1\" y=\"90\" fill=\"#ebedf0\" data-count=\"0\" data-date=\"2020-01-25\"/>\\n      </g>\\n      <g transform=\"translate(288, 0)\">\\n          <rect class=\"day\" width=\"11\" height=\"11\" x=\"-2\" y=\"0\" fill=\"#ebedf0\" data-count=\"0\" data-date=\"2020-01-26\"/>\\n          <rect class=\"day\" width=\"11\" height=\"11\" x=\"-2\" y=\"15\" fill=\"#ebedf0\" data-count=\"0\" data-date=\"2020-01-27\"/>\\n          <rect class=\"day\" width=\"11\" height=\"11\" x=\"-2\" y=\"30\" fill=\"#ebedf0\" data-count=\"0\" data-date=\"2020-01-28\"/>\\n          <rect class=\"day\" width=\"11\" height=\"11\" x=\"-2\" y=\"45\" fill=\"#ebedf0\" data-count=\"0\" data-date=\"2020-01-29\"/>\\n          <rect class=\"day\" width=\"11\" height=\"11\" x=\"-2\" y=\"60\" fill=\"#ebedf0\" data-count=\"0\" data-date=\"2020-01-30\"/>\\n          <rect class=\"day\" width=\"11\" height=\"11\" x=\"-2\" y=\"75\" fill=\"#ebedf0\" data-count=\"0\" data-date=\"2020-01-31\"/>\\n          <rect class=\"day\" width=\"11\" height=\"11\" x=\"-2\" y=\"90\" fill=\"#ebedf0\" data-count=\"0\" data-date=\"2020-02-01\"/>\\n      </g>\\n      <g transform=\"translate(304, 0)\">\\n          <rect class=\"day\" width=\"11\" height=\"11\" x=\"-3\" y=\"0\" fill=\"#ebedf0\" data-count=\"0\" data-date=\"2020-02-02\"/>\\n          <rect class=\"day\" width=\"11\" height=\"11\" x=\"-3\" y=\"15\" fill=\"#ebedf0\" data-count=\"0\" data-date=\"2020-02-03\"/>\\n          <rect class=\"day\" width=\"11\" height=\"11\" x=\"-3\" y=\"30\" fill=\"#9be9a8\" data-count=\"5\" data-date=\"2020-02-04\"/>\\n          <rect class=\"day\" width=\"11\" height=\"11\" x=\"-3\" y=\"45\" fill=\"#9be9a8\" data-count=\"7\" data-date=\"2020-02-05\"/>\\n          <rect class=\"day\" width=\"11\" height=\"11\" x=\"-3\" y=\"60\" fill=\"#ebedf0\" data-count=\"0\" data-date=\"2020-02-06\"/>\\n          <rect class=\"day\" width=\"11\" height=\"11\" x=\"-3\" y=\"75\" fill=\"#ebedf0\" data-count=\"0\" data-date=\"2020-02-07\"/>\\n          <rect class=\"day\" width=\"11\" height=\"11\" x=\"-3\" y=\"90\" fill=\"#ebedf0\" data-count=\"0\" data-date=\"2020-02-08\"/>\\n      </g>\\n      <g transform=\"translate(320, 0)\">\\n          <rect class=\"day\" width=\"11\" height=\"11\" x=\"-4\" y=\"0\" fill=\"#ebedf0\" data-count=\"0\" data-date=\"2020-02-09\"/>\\n          <rect class=\"day\" width=\"11\" height=\"11\" x=\"-4\" y=\"15\" fill=\"#ebedf0\" data-count=\"0\" data-date=\"2020-02-10\"/>\\n          <rect class=\"day\" width=\"11\" height=\"11\" x=\"-4\" y=\"30\" fill=\"#ebedf0\" data-count=\"0\" data-date=\"2020-02-11\"/>\\n          <rect class=\"day\" width=\"11\" height=\"11\" x=\"-4\" y=\"45\" fill=\"#ebedf0\" data-count=\"0\" data-date=\"2020-02-12\"/>\\n          <rect class=\"day\" width=\"11\" height=\"11\" x=\"-4\" y=\"60\" fill=\"#ebedf0\" data-count=\"0\" data-date=\"2020-02-13\"/>\\n          <rect class=\"day\" width=\"11\" height=\"11\" x=\"-4\" y=\"75\" fill=\"#ebedf0\" data-count=\"0\" data-date=\"2020-02-14\"/>\\n          <rect class=\"day\" width=\"11\" height=\"11\" x=\"-4\" y=\"90\" fill=\"#9be9a8\" data-count=\"7\" data-date=\"2020-02-15\"/>\\n      </g>\\n      <g transform=\"translate(336, 0)\">\\n          <rect class=\"day\" width=\"11\" height=\"11\" x=\"-5\" y=\"0\" fill=\"#ebedf0\" data-count=\"0\" data-date=\"2020-02-16\"/>\\n          <rect class=\"day\" width=\"11\" height=\"11\" x=\"-5\" y=\"15\" fill=\"#ebedf0\" data-count=\"0\" data-date=\"2020-02-17\"/>\\n          <rect class=\"day\" width=\"11\" height=\"11\" x=\"-5\" y=\"30\" fill=\"#ebedf0\" data-count=\"0\" data-date=\"2020-02-18\"/>\\n          <rect class=\"day\" width=\"11\" height=\"11\" x=\"-5\" y=\"45\" fill=\"#ebedf0\" data-count=\"0\" data-date=\"2020-02-19\"/>\\n          <rect class=\"day\" width=\"11\" height=\"11\" x=\"-5\" y=\"60\" fill=\"#ebedf0\" data-count=\"0\" data-date=\"2020-02-20\"/>\\n          <rect class=\"day\" width=\"11\" height=\"11\" x=\"-5\" y=\"75\" fill=\"#ebedf0\" data-count=\"0\" data-date=\"2020-02-21\"/>\\n          <rect class=\"day\" width=\"11\" height=\"11\" x=\"-5\" y=\"90\" fill=\"#ebedf0\" data-count=\"0\" data-date=\"2020-02-22\"/>\\n      </g>\\n      <g transform=\"translate(352, 0)\">\\n          <rect class=\"day\" width=\"11\" height=\"11\" x=\"-6\" y=\"0\" fill=\"#ebedf0\" data-count=\"0\" data-date=\"2020-02-23\"/>\\n          <rect class=\"day\" width=\"11\" height=\"11\" x=\"-6\" y=\"15\" fill=\"#ebedf0\" data-count=\"0\" data-date=\"2020-02-24\"/>\\n          <rect class=\"day\" width=\"11\" height=\"11\" x=\"-6\" y=\"30\" fill=\"#ebedf0\" data-count=\"0\" data-date=\"2020-02-25\"/>\\n          <rect class=\"day\" width=\"11\" height=\"11\" x=\"-6\" y=\"45\" fill=\"#ebedf0\" data-count=\"0\" data-date=\"2020-02-26\"/>\\n          <rect class=\"day\" width=\"11\" height=\"11\" x=\"-6\" y=\"60\" fill=\"#ebedf0\" data-count=\"0\" data-date=\"2020-02-27\"/>\\n          <rect class=\"day\" width=\"11\" height=\"11\" x=\"-6\" y=\"75\" fill=\"#ebedf0\" data-count=\"0\" data-date=\"2020-02-28\"/>\\n          <rect class=\"day\" width=\"11\" height=\"11\" x=\"-6\" y=\"90\" fill=\"#40c463\" data-count=\"24\" data-date=\"2020-02-29\"/>\\n      </g>\\n      <g transform=\"translate(368, 0)\">\\n          <rect class=\"day\" width=\"11\" height=\"11\" x=\"-7\" y=\"0\" fill=\"#ebedf0\" data-count=\"0\" data-date=\"2020-03-01\"/>\\n          <rect class=\"day\" width=\"11\" height=\"11\" x=\"-7\" y=\"15\" fill=\"#ebedf0\" data-count=\"0\" data-date=\"2020-03-02\"/>\\n          <rect class=\"day\" width=\"11\" height=\"11\" x=\"-7\" y=\"30\" fill=\"#ebedf0\" data-count=\"0\" data-date=\"2020-03-03\"/>\\n          <rect class=\"day\" width=\"11\" height=\"11\" x=\"-7\" y=\"45\" fill=\"#9be9a8\" data-count=\"2\" data-date=\"2020-03-04\"/>\\n          <rect class=\"day\" width=\"11\" height=\"11\" x=\"-7\" y=\"60\" fill=\"#ebedf0\" data-count=\"0\" data-date=\"2020-03-05\"/>\\n          <rect class=\"day\" width=\"11\" height=\"11\" x=\"-7\" y=\"75\" fill=\"#ebedf0\" data-count=\"0\" data-date=\"2020-03-06\"/>\\n          <rect class=\"day\" width=\"11\" height=\"11\" x=\"-7\" y=\"90\" fill=\"#ebedf0\" data-count=\"0\" data-date=\"2020-03-07\"/>\\n      </g>\\n      <g transform=\"translate(384, 0)\">\\n          <rect class=\"day\" width=\"11\" height=\"11\" x=\"-8\" y=\"0\" fill=\"#ebedf0\" data-count=\"0\" data-date=\"2020-03-08\"/>\\n          <rect class=\"day\" width=\"11\" height=\"11\" x=\"-8\" y=\"15\" fill=\"#ebedf0\" data-count=\"0\" data-date=\"2020-03-09\"/>\\n          <rect class=\"day\" width=\"11\" height=\"11\" x=\"-8\" y=\"30\" fill=\"#ebedf0\" data-count=\"0\" data-date=\"2020-03-10\"/>\\n          <rect class=\"day\" width=\"11\" height=\"11\" x=\"-8\" y=\"45\" fill=\"#ebedf0\" data-count=\"0\" data-date=\"2020-03-11\"/>\\n          <rect class=\"day\" width=\"11\" height=\"11\" x=\"-8\" y=\"60\" fill=\"#ebedf0\" data-count=\"0\" data-date=\"2020-03-12\"/>\\n          <rect class=\"day\" width=\"11\" height=\"11\" x=\"-8\" y=\"75\" fill=\"#ebedf0\" data-count=\"0\" data-date=\"2020-03-13\"/>\\n          <rect class=\"day\" width=\"11\" height=\"11\" x=\"-8\" y=\"90\" fill=\"#ebedf0\" data-count=\"0\" data-date=\"2020-03-14\"/>\\n      </g>\\n      <g transform=\"translate(400, 0)\">\\n          <rect class=\"day\" width=\"11\" height=\"11\" x=\"-9\" y=\"0\" fill=\"#ebedf0\" data-count=\"0\" data-date=\"2020-03-15\"/>\\n          <rect class=\"day\" width=\"11\" height=\"11\" x=\"-9\" y=\"15\" fill=\"#ebedf0\" data-count=\"0\" data-date=\"2020-03-16\"/>\\n          <rect class=\"day\" width=\"11\" height=\"11\" x=\"-9\" y=\"30\" fill=\"#ebedf0\" data-count=\"0\" data-date=\"2020-03-17\"/>\\n          <rect class=\"day\" width=\"11\" height=\"11\" x=\"-9\" y=\"45\" fill=\"#ebedf0\" data-count=\"0\" data-date=\"2020-03-18\"/>\\n          <rect class=\"day\" width=\"11\" height=\"11\" x=\"-9\" y=\"60\" fill=\"#ebedf0\" data-count=\"0\" data-date=\"2020-03-19\"/>\\n          <rect class=\"day\" width=\"11\" height=\"11\" x=\"-9\" y=\"75\" fill=\"#ebedf0\" data-count=\"0\" data-date=\"2020-03-20\"/>\\n          <rect class=\"day\" width=\"11\" height=\"11\" x=\"-9\" y=\"90\" fill=\"#ebedf0\" data-count=\"0\" data-date=\"2020-03-21\"/>\\n      </g>\\n      <g transform=\"translate(416, 0)\">\\n          <rect class=\"day\" width=\"11\" height=\"11\" x=\"-10\" y=\"0\" fill=\"#ebedf0\" data-count=\"0\" data-date=\"2020-03-22\"/>\\n          <rect class=\"day\" width=\"11\" height=\"11\" x=\"-10\" y=\"15\" fill=\"#ebedf0\" data-count=\"0\" data-date=\"2020-03-23\"/>\\n          <rect class=\"day\" width=\"11\" height=\"11\" x=\"-10\" y=\"30\" fill=\"#ebedf0\" data-count=\"0\" data-date=\"2020-03-24\"/>\\n          <rect class=\"day\" width=\"11\" height=\"11\" x=\"-10\" y=\"45\" fill=\"#ebedf0\" data-count=\"0\" data-date=\"2020-03-25\"/>\\n          <rect class=\"day\" width=\"11\" height=\"11\" x=\"-10\" y=\"60\" fill=\"#ebedf0\" data-count=\"0\" data-date=\"2020-03-26\"/>\\n          <rect class=\"day\" width=\"11\" height=\"11\" x=\"-10\" y=\"75\" fill=\"#ebedf0\" data-count=\"0\" data-date=\"2020-03-27\"/>\\n          <rect class=\"day\" width=\"11\" height=\"11\" x=\"-10\" y=\"90\" fill=\"#ebedf0\" data-count=\"0\" data-date=\"2020-03-28\"/>\\n      </g>\\n      <g transform=\"translate(432, 0)\">\\n          <rect class=\"day\" width=\"11\" height=\"11\" x=\"-11\" y=\"0\" fill=\"#ebedf0\" data-count=\"0\" data-date=\"2020-03-29\"/>\\n          <rect class=\"day\" width=\"11\" height=\"11\" x=\"-11\" y=\"15\" fill=\"#ebedf0\" data-count=\"0\" data-date=\"2020-03-30\"/>\\n          <rect class=\"day\" width=\"11\" height=\"11\" x=\"-11\" y=\"30\" fill=\"#ebedf0\" data-count=\"0\" data-date=\"2020-03-31\"/>\\n          <rect class=\"day\" width=\"11\" height=\"11\" x=\"-11\" y=\"45\" fill=\"#ebedf0\" data-count=\"0\" data-date=\"2020-04-01\"/>\\n          <rect class=\"day\" width=\"11\" height=\"11\" x=\"-11\" y=\"60\" fill=\"#ebedf0\" data-count=\"0\" data-date=\"2020-04-02\"/>\\n          <rect class=\"day\" width=\"11\" height=\"11\" x=\"-11\" y=\"75\" fill=\"#ebedf0\" data-count=\"0\" data-date=\"2020-04-03\"/>\\n          <rect class=\"day\" width=\"11\" height=\"11\" x=\"-11\" y=\"90\" fill=\"#40c463\" data-count=\"19\" data-date=\"2020-04-04\"/>\\n      </g>\\n      <g transform=\"translate(448, 0)\">\\n          <rect class=\"day\" width=\"11\" height=\"11\" x=\"-12\" y=\"0\" fill=\"#ebedf0\" data-count=\"0\" data-date=\"2020-04-05\"/>\\n          <rect class=\"day\" width=\"11\" height=\"11\" x=\"-12\" y=\"15\" fill=\"#9be9a8\" data-count=\"1\" data-date=\"2020-04-06\"/>\\n          <rect class=\"day\" width=\"11\" height=\"11\" x=\"-12\" y=\"30\" fill=\"#ebedf0\" data-count=\"0\" data-date=\"2020-04-07\"/>\\n          <rect class=\"day\" width=\"11\" height=\"11\" x=\"-12\" y=\"45\" fill=\"#ebedf0\" data-count=\"0\" data-date=\"2020-04-08\"/>\\n          <rect class=\"day\" width=\"11\" height=\"11\" x=\"-12\" y=\"60\" fill=\"#ebedf0\" data-count=\"0\" data-date=\"2020-04-09\"/>\\n          <rect class=\"day\" width=\"11\" height=\"11\" x=\"-12\" y=\"75\" fill=\"#ebedf0\" data-count=\"0\" data-date=\"2020-04-10\"/>\\n          <rect class=\"day\" width=\"11\" height=\"11\" x=\"-12\" y=\"90\" fill=\"#9be9a8\" data-count=\"1\" data-date=\"2020-04-11\"/>\\n      </g>\\n      <g transform=\"translate(464, 0)\">\\n          <rect class=\"day\" width=\"11\" height=\"11\" x=\"-13\" y=\"0\" fill=\"#ebedf0\" data-count=\"0\" data-date=\"2020-04-12\"/>\\n          <rect class=\"day\" width=\"11\" height=\"11\" x=\"-13\" y=\"15\" fill=\"#ebedf0\" data-count=\"0\" data-date=\"2020-04-13\"/>\\n          <rect class=\"day\" width=\"11\" height=\"11\" x=\"-13\" y=\"30\" fill=\"#ebedf0\" data-count=\"0\" data-date=\"2020-04-14\"/>\\n          <rect class=\"day\" width=\"11\" height=\"11\" x=\"-13\" y=\"45\" fill=\"#ebedf0\" data-count=\"0\" data-date=\"2020-04-15\"/>\\n          <rect class=\"day\" width=\"11\" height=\"11\" x=\"-13\" y=\"60\" fill=\"#ebedf0\" data-count=\"0\" data-date=\"2020-04-16\"/>\\n          <rect class=\"day\" width=\"11\" height=\"11\" x=\"-13\" y=\"75\" fill=\"#ebedf0\" data-count=\"0\" data-date=\"2020-04-17\"/>\\n          <rect class=\"day\" width=\"11\" height=\"11\" x=\"-13\" y=\"90\" fill=\"#ebedf0\" data-count=\"0\" data-date=\"2020-04-18\"/>\\n      </g>\\n      <g transform=\"translate(480, 0)\">\\n          <rect class=\"day\" width=\"11\" height=\"11\" x=\"-14\" y=\"0\" fill=\"#ebedf0\" data-count=\"0\" data-date=\"2020-04-19\"/>\\n          <rect class=\"day\" width=\"11\" height=\"11\" x=\"-14\" y=\"15\" fill=\"#ebedf0\" data-count=\"0\" data-date=\"2020-04-20\"/>\\n          <rect class=\"day\" width=\"11\" height=\"11\" x=\"-14\" y=\"30\" fill=\"#ebedf0\" data-count=\"0\" data-date=\"2020-04-21\"/>\\n          <rect class=\"day\" width=\"11\" height=\"11\" x=\"-14\" y=\"45\" fill=\"#ebedf0\" data-count=\"0\" data-date=\"2020-04-22\"/>\\n          <rect class=\"day\" width=\"11\" height=\"11\" x=\"-14\" y=\"60\" fill=\"#ebedf0\" data-count=\"0\" data-date=\"2020-04-23\"/>\\n          <rect class=\"day\" width=\"11\" height=\"11\" x=\"-14\" y=\"75\" fill=\"#ebedf0\" data-count=\"0\" data-date=\"2020-04-24\"/>\\n          <rect class=\"day\" width=\"11\" height=\"11\" x=\"-14\" y=\"90\" fill=\"#ebedf0\" data-count=\"0\" data-date=\"2020-04-25\"/>\\n      </g>\\n      <g transform=\"translate(496, 0)\">\\n          <rect class=\"day\" width=\"11\" height=\"11\" x=\"-15\" y=\"0\" fill=\"#40c463\" data-count=\"26\" data-date=\"2020-04-26\"/>\\n          <rect class=\"day\" width=\"11\" height=\"11\" x=\"-15\" y=\"15\" fill=\"#40c463\" data-count=\"20\" data-date=\"2020-04-27\"/>\\n          <rect class=\"day\" width=\"11\" height=\"11\" x=\"-15\" y=\"30\" fill=\"#ebedf0\" data-count=\"0\" data-date=\"2020-04-28\"/>\\n          <rect class=\"day\" width=\"11\" height=\"11\" x=\"-15\" y=\"45\" fill=\"#ebedf0\" data-count=\"0\" data-date=\"2020-04-29\"/>\\n          <rect class=\"day\" width=\"11\" height=\"11\" x=\"-15\" y=\"60\" fill=\"#ebedf0\" data-count=\"0\" data-date=\"2020-04-30\"/>\\n          <rect class=\"day\" width=\"11\" height=\"11\" x=\"-15\" y=\"75\" fill=\"#ebedf0\" data-count=\"0\" data-date=\"2020-05-01\"/>\\n          <rect class=\"day\" width=\"11\" height=\"11\" x=\"-15\" y=\"90\" fill=\"#ebedf0\" data-count=\"0\" data-date=\"2020-05-02\"/>\\n      </g>\\n      <g transform=\"translate(512, 0)\">\\n          <rect class=\"day\" width=\"11\" height=\"11\" x=\"-16\" y=\"0\" fill=\"#ebedf0\" data-count=\"0\" data-date=\"2020-05-03\"/>\\n          <rect class=\"day\" width=\"11\" height=\"11\" x=\"-16\" y=\"15\" fill=\"#ebedf0\" data-count=\"0\" data-date=\"2020-05-04\"/>\\n          <rect class=\"day\" width=\"11\" height=\"11\" x=\"-16\" y=\"30\" fill=\"#9be9a8\" data-count=\"2\" data-date=\"2020-05-05\"/>\\n          <rect class=\"day\" width=\"11\" height=\"11\" x=\"-16\" y=\"45\" fill=\"#ebedf0\" data-count=\"0\" data-date=\"2020-05-06\"/>\\n          <rect class=\"day\" width=\"11\" height=\"11\" x=\"-16\" y=\"60\" fill=\"#9be9a8\" data-count=\"1\" data-date=\"2020-05-07\"/>\\n          <rect class=\"day\" width=\"11\" height=\"11\" x=\"-16\" y=\"75\" fill=\"#ebedf0\" data-count=\"0\" data-date=\"2020-05-08\"/>\\n          <rect class=\"day\" width=\"11\" height=\"11\" x=\"-16\" y=\"90\" fill=\"#9be9a8\" data-count=\"5\" data-date=\"2020-05-09\"/>\\n      </g>\\n      <g transform=\"translate(528, 0)\">\\n          <rect class=\"day\" width=\"11\" height=\"11\" x=\"-17\" y=\"0\" fill=\"#9be9a8\" data-count=\"8\" data-date=\"2020-05-10\"/>\\n          <rect class=\"day\" width=\"11\" height=\"11\" x=\"-17\" y=\"15\" fill=\"#ebedf0\" data-count=\"0\" data-date=\"2020-05-11\"/>\\n          <rect class=\"day\" width=\"11\" height=\"11\" x=\"-17\" y=\"30\" fill=\"#ebedf0\" data-count=\"0\" data-date=\"2020-05-12\"/>\\n          <rect class=\"day\" width=\"11\" height=\"11\" x=\"-17\" y=\"45\" fill=\"#ebedf0\" data-count=\"0\" data-date=\"2020-05-13\"/>\\n          <rect class=\"day\" width=\"11\" height=\"11\" x=\"-17\" y=\"60\" fill=\"#ebedf0\" data-count=\"0\" data-date=\"2020-05-14\"/>\\n          <rect class=\"day\" width=\"11\" height=\"11\" x=\"-17\" y=\"75\" fill=\"#ebedf0\" data-count=\"0\" data-date=\"2020-05-15\"/>\\n          <rect class=\"day\" width=\"11\" height=\"11\" x=\"-17\" y=\"90\" fill=\"#ebedf0\" data-count=\"0\" data-date=\"2020-05-16\"/>\\n      </g>\\n      <g transform=\"translate(544, 0)\">\\n          <rect class=\"day\" width=\"11\" height=\"11\" x=\"-18\" y=\"0\" fill=\"#ebedf0\" data-count=\"0\" data-date=\"2020-05-17\"/>\\n          <rect class=\"day\" width=\"11\" height=\"11\" x=\"-18\" y=\"15\" fill=\"#ebedf0\" data-count=\"0\" data-date=\"2020-05-18\"/>\\n          <rect class=\"day\" width=\"11\" height=\"11\" x=\"-18\" y=\"30\" fill=\"#ebedf0\" data-count=\"0\" data-date=\"2020-05-19\"/>\\n          <rect class=\"day\" width=\"11\" height=\"11\" x=\"-18\" y=\"45\" fill=\"#ebedf0\" data-count=\"0\" data-date=\"2020-05-20\"/>\\n          <rect class=\"day\" width=\"11\" height=\"11\" x=\"-18\" y=\"60\" fill=\"#ebedf0\" data-count=\"0\" data-date=\"2020-05-21\"/>\\n          <rect class=\"day\" width=\"11\" height=\"11\" x=\"-18\" y=\"75\" fill=\"#ebedf0\" data-count=\"0\" data-date=\"2020-05-22\"/>\\n          <rect class=\"day\" width=\"11\" height=\"11\" x=\"-18\" y=\"90\" fill=\"#ebedf0\" data-count=\"0\" data-date=\"2020-05-23\"/>\\n      </g>\\n      <g transform=\"translate(560, 0)\">\\n          <rect class=\"day\" width=\"11\" height=\"11\" x=\"-19\" y=\"0\" fill=\"#ebedf0\" data-count=\"0\" data-date=\"2020-05-24\"/>\\n          <rect class=\"day\" width=\"11\" height=\"11\" x=\"-19\" y=\"15\" fill=\"#ebedf0\" data-count=\"0\" data-date=\"2020-05-25\"/>\\n          <rect class=\"day\" width=\"11\" height=\"11\" x=\"-19\" y=\"30\" fill=\"#ebedf0\" data-count=\"0\" data-date=\"2020-05-26\"/>\\n          <rect class=\"day\" width=\"11\" height=\"11\" x=\"-19\" y=\"45\" fill=\"#9be9a8\" data-count=\"12\" data-date=\"2020-05-27\"/>\\n          <rect class=\"day\" width=\"11\" height=\"11\" x=\"-19\" y=\"60\" fill=\"#ebedf0\" data-count=\"0\" data-date=\"2020-05-28\"/>\\n          <rect class=\"day\" width=\"11\" height=\"11\" x=\"-19\" y=\"75\" fill=\"#ebedf0\" data-count=\"0\" data-date=\"2020-05-29\"/>\\n          <rect class=\"day\" width=\"11\" height=\"11\" x=\"-19\" y=\"90\" fill=\"#ebedf0\" data-count=\"0\" data-date=\"2020-05-30\"/>\\n      </g>\\n      <g transform=\"translate(576, 0)\">\\n          <rect class=\"day\" width=\"11\" height=\"11\" x=\"-20\" y=\"0\" fill=\"#ebedf0\" data-count=\"0\" data-date=\"2020-05-31\"/>\\n          <rect class=\"day\" width=\"11\" height=\"11\" x=\"-20\" y=\"15\" fill=\"#ebedf0\" data-count=\"0\" data-date=\"2020-06-01\"/>\\n          <rect class=\"day\" width=\"11\" height=\"11\" x=\"-20\" y=\"30\" fill=\"#ebedf0\" data-count=\"0\" data-date=\"2020-06-02\"/>\\n          <rect class=\"day\" width=\"11\" height=\"11\" x=\"-20\" y=\"45\" fill=\"#ebedf0\" data-count=\"0\" data-date=\"2020-06-03\"/>\\n          <rect class=\"day\" width=\"11\" height=\"11\" x=\"-20\" y=\"60\" fill=\"#ebedf0\" data-count=\"0\" data-date=\"2020-06-04\"/>\\n          <rect class=\"day\" width=\"11\" height=\"11\" x=\"-20\" y=\"75\" fill=\"#ebedf0\" data-count=\"0\" data-date=\"2020-06-05\"/>\\n          <rect class=\"day\" width=\"11\" height=\"11\" x=\"-20\" y=\"90\" fill=\"#ebedf0\" data-count=\"0\" data-date=\"2020-06-06\"/>\\n      </g>\\n      <g transform=\"translate(592, 0)\">\\n          <rect class=\"day\" width=\"11\" height=\"11\" x=\"-21\" y=\"0\" fill=\"#ebedf0\" data-count=\"0\" data-date=\"2020-06-07\"/>\\n          <rect class=\"day\" width=\"11\" height=\"11\" x=\"-21\" y=\"15\" fill=\"#ebedf0\" data-count=\"0\" data-date=\"2020-06-08\"/>\\n          <rect class=\"day\" width=\"11\" height=\"11\" x=\"-21\" y=\"30\" fill=\"#ebedf0\" data-count=\"0\" data-date=\"2020-06-09\"/>\\n          <rect class=\"day\" width=\"11\" height=\"11\" x=\"-21\" y=\"45\" fill=\"#ebedf0\" data-count=\"0\" data-date=\"2020-06-10\"/>\\n          <rect class=\"day\" width=\"11\" height=\"11\" x=\"-21\" y=\"60\" fill=\"#ebedf0\" data-count=\"0\" data-date=\"2020-06-11\"/>\\n          <rect class=\"day\" width=\"11\" height=\"11\" x=\"-21\" y=\"75\" fill=\"#ebedf0\" data-count=\"0\" data-date=\"2020-06-12\"/>\\n          <rect class=\"day\" width=\"11\" height=\"11\" x=\"-21\" y=\"90\" fill=\"#ebedf0\" data-count=\"0\" data-date=\"2020-06-13\"/>\\n      </g>\\n      <g transform=\"translate(608, 0)\">\\n          <rect class=\"day\" width=\"11\" height=\"11\" x=\"-22\" y=\"0\" fill=\"#ebedf0\" data-count=\"0\" data-date=\"2020-06-14\"/>\\n          <rect class=\"day\" width=\"11\" height=\"11\" x=\"-22\" y=\"15\" fill=\"#ebedf0\" data-count=\"0\" data-date=\"2020-06-15\"/>\\n          <rect class=\"day\" width=\"11\" height=\"11\" x=\"-22\" y=\"30\" fill=\"#ebedf0\" data-count=\"0\" data-date=\"2020-06-16\"/>\\n          <rect class=\"day\" width=\"11\" height=\"11\" x=\"-22\" y=\"45\" fill=\"#ebedf0\" data-count=\"0\" data-date=\"2020-06-17\"/>\\n          <rect class=\"day\" width=\"11\" height=\"11\" x=\"-22\" y=\"60\" fill=\"#ebedf0\" data-count=\"0\" data-date=\"2020-06-18\"/>\\n          <rect class=\"day\" width=\"11\" height=\"11\" x=\"-22\" y=\"75\" fill=\"#ebedf0\" data-count=\"0\" data-date=\"2020-06-19\"/>\\n          <rect class=\"day\" width=\"11\" height=\"11\" x=\"-22\" y=\"90\" fill=\"#ebedf0\" data-count=\"0\" data-date=\"2020-06-20\"/>\\n      </g>\\n      <g transform=\"translate(624, 0)\">\\n          <rect class=\"day\" width=\"11\" height=\"11\" x=\"-23\" y=\"0\" fill=\"#ebedf0\" data-count=\"0\" data-date=\"2020-06-21\"/>\\n          <rect class=\"day\" width=\"11\" height=\"11\" x=\"-23\" y=\"15\" fill=\"#ebedf0\" data-count=\"0\" data-date=\"2020-06-22\"/>\\n          <rect class=\"day\" width=\"11\" height=\"11\" x=\"-23\" y=\"30\" fill=\"#ebedf0\" data-count=\"0\" data-date=\"2020-06-23\"/>\\n          <rect class=\"day\" width=\"11\" height=\"11\" x=\"-23\" y=\"45\" fill=\"#ebedf0\" data-count=\"0\" data-date=\"2020-06-24\"/>\\n          <rect class=\"day\" width=\"11\" height=\"11\" x=\"-23\" y=\"60\" fill=\"#ebedf0\" data-count=\"0\" data-date=\"2020-06-25\"/>\\n          <rect class=\"day\" width=\"11\" height=\"11\" x=\"-23\" y=\"75\" fill=\"#ebedf0\" data-count=\"0\" data-date=\"2020-06-26\"/>\\n          <rect class=\"day\" width=\"11\" height=\"11\" x=\"-23\" y=\"90\" fill=\"#ebedf0\" data-count=\"0\" data-date=\"2020-06-27\"/>\\n      </g>\\n      <g transform=\"translate(640, 0)\">\\n          <rect class=\"day\" width=\"11\" height=\"11\" x=\"-24\" y=\"0\" fill=\"#ebedf0\" data-count=\"0\" data-date=\"2020-06-28\"/>\\n          <rect class=\"day\" width=\"11\" height=\"11\" x=\"-24\" y=\"15\" fill=\"#ebedf0\" data-count=\"0\" data-date=\"2020-06-29\"/>\\n          <rect class=\"day\" width=\"11\" height=\"11\" x=\"-24\" y=\"30\" fill=\"#ebedf0\" data-count=\"0\" data-date=\"2020-06-30\"/>\\n          <rect class=\"day\" width=\"11\" height=\"11\" x=\"-24\" y=\"45\" fill=\"#ebedf0\" data-count=\"0\" data-date=\"2020-07-01\"/>\\n          <rect class=\"day\" width=\"11\" height=\"11\" x=\"-24\" y=\"60\" fill=\"#ebedf0\" data-count=\"0\" data-date=\"2020-07-02\"/>\\n          <rect class=\"day\" width=\"11\" height=\"11\" x=\"-24\" y=\"75\" fill=\"#ebedf0\" data-count=\"0\" data-date=\"2020-07-03\"/>\\n          <rect class=\"day\" width=\"11\" height=\"11\" x=\"-24\" y=\"90\" fill=\"#ebedf0\" data-count=\"0\" data-date=\"2020-07-04\"/>\\n      </g>\\n      <g transform=\"translate(656, 0)\">\\n          <rect class=\"day\" width=\"11\" height=\"11\" x=\"-25\" y=\"0\" fill=\"#ebedf0\" data-count=\"0\" data-date=\"2020-07-05\"/>\\n          <rect class=\"day\" width=\"11\" height=\"11\" x=\"-25\" y=\"15\" fill=\"#ebedf0\" data-count=\"0\" data-date=\"2020-07-06\"/>\\n          <rect class=\"day\" width=\"11\" height=\"11\" x=\"-25\" y=\"30\" fill=\"#ebedf0\" data-count=\"0\" data-date=\"2020-07-07\"/>\\n          <rect class=\"day\" width=\"11\" height=\"11\" x=\"-25\" y=\"45\" fill=\"#ebedf0\" data-count=\"0\" data-date=\"2020-07-08\"/>\\n          <rect class=\"day\" width=\"11\" height=\"11\" x=\"-25\" y=\"60\" fill=\"#ebedf0\" data-count=\"0\" data-date=\"2020-07-09\"/>\\n          <rect class=\"day\" width=\"11\" height=\"11\" x=\"-25\" y=\"75\" fill=\"#ebedf0\" data-count=\"0\" data-date=\"2020-07-10\"/>\\n          <rect class=\"day\" width=\"11\" height=\"11\" x=\"-25\" y=\"90\" fill=\"#ebedf0\" data-count=\"0\" data-date=\"2020-07-11\"/>\\n      </g>\\n      <g transform=\"translate(672, 0)\">\\n          <rect class=\"day\" width=\"11\" height=\"11\" x=\"-26\" y=\"0\" fill=\"#ebedf0\" data-count=\"0\" data-date=\"2020-07-12\"/>\\n          <rect class=\"day\" width=\"11\" height=\"11\" x=\"-26\" y=\"15\" fill=\"#ebedf0\" data-count=\"0\" data-date=\"2020-07-13\"/>\\n          <rect class=\"day\" width=\"11\" height=\"11\" x=\"-26\" y=\"30\" fill=\"#ebedf0\" data-count=\"0\" data-date=\"2020-07-14\"/>\\n          <rect class=\"day\" width=\"11\" height=\"11\" x=\"-26\" y=\"45\" fill=\"#ebedf0\" data-count=\"0\" data-date=\"2020-07-15\"/>\\n          <rect class=\"day\" width=\"11\" height=\"11\" x=\"-26\" y=\"60\" fill=\"#ebedf0\" data-count=\"0\" data-date=\"2020-07-16\"/>\\n          <rect class=\"day\" width=\"11\" height=\"11\" x=\"-26\" y=\"75\" fill=\"#ebedf0\" data-count=\"0\" data-date=\"2020-07-17\"/>\\n          <rect class=\"day\" width=\"11\" height=\"11\" x=\"-26\" y=\"90\" fill=\"#ebedf0\" data-count=\"0\" data-date=\"2020-07-18\"/>\\n      </g>\\n      <g transform=\"translate(688, 0)\">\\n          <rect class=\"day\" width=\"11\" height=\"11\" x=\"-27\" y=\"0\" fill=\"#ebedf0\" data-count=\"0\" data-date=\"2020-07-19\"/>\\n          <rect class=\"day\" width=\"11\" height=\"11\" x=\"-27\" y=\"15\" fill=\"#ebedf0\" data-count=\"0\" data-date=\"2020-07-20\"/>\\n          <rect class=\"day\" width=\"11\" height=\"11\" x=\"-27\" y=\"30\" fill=\"#ebedf0\" data-count=\"0\" data-date=\"2020-07-21\"/>\\n          <rect class=\"day\" width=\"11\" height=\"11\" x=\"-27\" y=\"45\" fill=\"#ebedf0\" data-count=\"0\" data-date=\"2020-07-22\"/>\\n          <rect class=\"day\" width=\"11\" height=\"11\" x=\"-27\" y=\"60\" fill=\"#ebedf0\" data-count=\"0\" data-date=\"2020-07-23\"/>\\n          <rect class=\"day\" width=\"11\" height=\"11\" x=\"-27\" y=\"75\" fill=\"#ebedf0\" data-count=\"0\" data-date=\"2020-07-24\"/>\\n          <rect class=\"day\" width=\"11\" height=\"11\" x=\"-27\" y=\"90\" fill=\"#ebedf0\" data-count=\"0\" data-date=\"2020-07-25\"/>\\n      </g>\\n      <g transform=\"translate(704, 0)\">\\n          <rect class=\"day\" width=\"11\" height=\"11\" x=\"-28\" y=\"0\" fill=\"#ebedf0\" data-count=\"0\" data-date=\"2020-07-26\"/>\\n          <rect class=\"day\" width=\"11\" height=\"11\" x=\"-28\" y=\"15\" fill=\"#ebedf0\" data-count=\"0\" data-date=\"2020-07-27\"/>\\n          <rect class=\"day\" width=\"11\" height=\"11\" x=\"-28\" y=\"30\" fill=\"#ebedf0\" data-count=\"0\" data-date=\"2020-07-28\"/>\\n          <rect class=\"day\" width=\"11\" height=\"11\" x=\"-28\" y=\"45\" fill=\"#ebedf0\" data-count=\"0\" data-date=\"2020-07-29\"/>\\n          <rect class=\"day\" width=\"11\" height=\"11\" x=\"-28\" y=\"60\" fill=\"#ebedf0\" data-count=\"0\" data-date=\"2020-07-30\"/>\\n          <rect class=\"day\" width=\"11\" height=\"11\" x=\"-28\" y=\"75\" fill=\"#ebedf0\" data-count=\"0\" data-date=\"2020-07-31\"/>\\n          <rect class=\"day\" width=\"11\" height=\"11\" x=\"-28\" y=\"90\" fill=\"#ebedf0\" data-count=\"0\" data-date=\"2020-08-01\"/>\\n      </g>\\n      <g transform=\"translate(720, 0)\">\\n          <rect class=\"day\" width=\"11\" height=\"11\" x=\"-29\" y=\"0\" fill=\"#ebedf0\" data-count=\"0\" data-date=\"2020-08-02\"/>\\n          <rect class=\"day\" width=\"11\" height=\"11\" x=\"-29\" y=\"15\" fill=\"#ebedf0\" data-count=\"0\" data-date=\"2020-08-03\"/>\\n          <rect class=\"day\" width=\"11\" height=\"11\" x=\"-29\" y=\"30\" fill=\"#ebedf0\" data-count=\"0\" data-date=\"2020-08-04\"/>\\n          <rect class=\"day\" width=\"11\" height=\"11\" x=\"-29\" y=\"45\" fill=\"#ebedf0\" data-count=\"0\" data-date=\"2020-08-05\"/>\\n          <rect class=\"day\" width=\"11\" height=\"11\" x=\"-29\" y=\"60\" fill=\"#ebedf0\" data-count=\"0\" data-date=\"2020-08-06\"/>\\n          <rect class=\"day\" width=\"11\" height=\"11\" x=\"-29\" y=\"75\" fill=\"#ebedf0\" data-count=\"0\" data-date=\"2020-08-07\"/>\\n          <rect class=\"day\" width=\"11\" height=\"11\" x=\"-29\" y=\"90\" fill=\"#ebedf0\" data-count=\"0\" data-date=\"2020-08-08\"/>\\n      </g>\\n      <g transform=\"translate(736, 0)\">\\n          <rect class=\"day\" width=\"11\" height=\"11\" x=\"-30\" y=\"0\" fill=\"#ebedf0\" data-count=\"0\" data-date=\"2020-08-09\"/>\\n          <rect class=\"day\" width=\"11\" height=\"11\" x=\"-30\" y=\"15\" fill=\"#ebedf0\" data-count=\"0\" data-date=\"2020-08-10\"/>\\n          <rect class=\"day\" width=\"11\" height=\"11\" x=\"-30\" y=\"30\" fill=\"#ebedf0\" data-count=\"0\" data-date=\"2020-08-11\"/>\\n          <rect class=\"day\" width=\"11\" height=\"11\" x=\"-30\" y=\"45\" fill=\"#ebedf0\" data-count=\"0\" data-date=\"2020-08-12\"/>\\n          <rect class=\"day\" width=\"11\" height=\"11\" x=\"-30\" y=\"60\" fill=\"#ebedf0\" data-count=\"0\" data-date=\"2020-08-13\"/>\\n          <rect class=\"day\" width=\"11\" height=\"11\" x=\"-30\" y=\"75\" fill=\"#ebedf0\" data-count=\"0\" data-date=\"2020-08-14\"/>\\n          <rect class=\"day\" width=\"11\" height=\"11\" x=\"-30\" y=\"90\" fill=\"#ebedf0\" data-count=\"0\" data-date=\"2020-08-15\"/>\\n      </g>\\n      <g transform=\"translate(752, 0)\">\\n          <rect class=\"day\" width=\"11\" height=\"11\" x=\"-31\" y=\"0\" fill=\"#ebedf0\" data-count=\"0\" data-date=\"2020-08-16\"/>\\n          <rect class=\"day\" width=\"11\" height=\"11\" x=\"-31\" y=\"15\" fill=\"#ebedf0\" data-count=\"0\" data-date=\"2020-08-17\"/>\\n          <rect class=\"day\" width=\"11\" height=\"11\" x=\"-31\" y=\"30\" fill=\"#ebedf0\" data-count=\"0\" data-date=\"2020-08-18\"/>\\n          <rect class=\"day\" width=\"11\" height=\"11\" x=\"-31\" y=\"45\" fill=\"#ebedf0\" data-count=\"0\" data-date=\"2020-08-19\"/>\\n          <rect class=\"day\" width=\"11\" height=\"11\" x=\"-31\" y=\"60\" fill=\"#ebedf0\" data-count=\"0\" data-date=\"2020-08-20\"/>\\n          <rect class=\"day\" width=\"11\" height=\"11\" x=\"-31\" y=\"75\" fill=\"#ebedf0\" data-count=\"0\" data-date=\"2020-08-21\"/>\\n          <rect class=\"day\" width=\"11\" height=\"11\" x=\"-31\" y=\"90\" fill=\"#ebedf0\" data-count=\"0\" data-date=\"2020-08-22\"/>\\n      </g>\\n      <g transform=\"translate(768, 0)\">\\n          <rect class=\"day\" width=\"11\" height=\"11\" x=\"-32\" y=\"0\" fill=\"#ebedf0\" data-count=\"0\" data-date=\"2020-08-23\"/>\\n          <rect class=\"day\" width=\"11\" height=\"11\" x=\"-32\" y=\"15\" fill=\"#ebedf0\" data-count=\"0\" data-date=\"2020-08-24\"/>\\n          <rect class=\"day\" width=\"11\" height=\"11\" x=\"-32\" y=\"30\" fill=\"#ebedf0\" data-count=\"0\" data-date=\"2020-08-25\"/>\\n          <rect class=\"day\" width=\"11\" height=\"11\" x=\"-32\" y=\"45\" fill=\"#ebedf0\" data-count=\"0\" data-date=\"2020-08-26\"/>\\n          <rect class=\"day\" width=\"11\" height=\"11\" x=\"-32\" y=\"60\" fill=\"#ebedf0\" data-count=\"0\" data-date=\"2020-08-27\"/>\\n          <rect class=\"day\" width=\"11\" height=\"11\" x=\"-32\" y=\"75\" fill=\"#ebedf0\" data-count=\"0\" data-date=\"2020-08-28\"/>\\n          <rect class=\"day\" width=\"11\" height=\"11\" x=\"-32\" y=\"90\" fill=\"#9be9a8\" data-count=\"4\" data-date=\"2020-08-29\"/>\\n      </g>\\n      <g transform=\"translate(784, 0)\">\\n          <rect class=\"day\" width=\"11\" height=\"11\" x=\"-33\" y=\"0\" fill=\"#ebedf0\" data-count=\"0\" data-date=\"2020-08-30\"/>\\n          <rect class=\"day\" width=\"11\" height=\"11\" x=\"-33\" y=\"15\" fill=\"#9be9a8\" data-count=\"1\" data-date=\"2020-08-31\"/>\\n          <rect class=\"day\" width=\"11\" height=\"11\" x=\"-33\" y=\"30\" fill=\"#ebedf0\" data-count=\"0\" data-date=\"2020-09-01\"/>\\n          <rect class=\"day\" width=\"11\" height=\"11\" x=\"-33\" y=\"45\" fill=\"#ebedf0\" data-count=\"0\" data-date=\"2020-09-02\"/>\\n          <rect class=\"day\" width=\"11\" height=\"11\" x=\"-33\" y=\"60\" fill=\"#9be9a8\" data-count=\"4\" data-date=\"2020-09-03\"/>\\n          <rect class=\"day\" width=\"11\" height=\"11\" x=\"-33\" y=\"75\" fill=\"#ebedf0\" data-count=\"0\" data-date=\"2020-09-04\"/>\\n          <rect class=\"day\" width=\"11\" height=\"11\" x=\"-33\" y=\"90\" fill=\"#ebedf0\" data-count=\"0\" data-date=\"2020-09-05\"/>\\n      </g>\\n      <g transform=\"translate(800, 0)\">\\n          <rect class=\"day\" width=\"11\" height=\"11\" x=\"-34\" y=\"0\" fill=\"#9be9a8\" data-count=\"1\" data-date=\"2020-09-06\"/>\\n          <rect class=\"day\" width=\"11\" height=\"11\" x=\"-34\" y=\"15\" fill=\"#ebedf0\" data-count=\"0\" data-date=\"2020-09-07\"/>\\n          <rect class=\"day\" width=\"11\" height=\"11\" x=\"-34\" y=\"30\" fill=\"#9be9a8\" data-count=\"1\" data-date=\"2020-09-08\"/>\\n          <rect class=\"day\" width=\"11\" height=\"11\" x=\"-34\" y=\"45\" fill=\"#ebedf0\" data-count=\"0\" data-date=\"2020-09-09\"/>\\n          <rect class=\"day\" width=\"11\" height=\"11\" x=\"-34\" y=\"60\" fill=\"#9be9a8\" data-count=\"2\" data-date=\"2020-09-10\"/>\\n          <rect class=\"day\" width=\"11\" height=\"11\" x=\"-34\" y=\"75\" fill=\"#ebedf0\" data-count=\"0\" data-date=\"2020-09-11\"/>\\n          <rect class=\"day\" width=\"11\" height=\"11\" x=\"-34\" y=\"90\" fill=\"#ebedf0\" data-count=\"0\" data-date=\"2020-09-12\"/>\\n      </g>\\n      <g transform=\"translate(816, 0)\">\\n          <rect class=\"day\" width=\"11\" height=\"11\" x=\"-35\" y=\"0\" fill=\"#ebedf0\" data-count=\"0\" data-date=\"2020-09-13\"/>\\n          <rect class=\"day\" width=\"11\" height=\"11\" x=\"-35\" y=\"15\" fill=\"#ebedf0\" data-count=\"0\" data-date=\"2020-09-14\"/>\\n          <rect class=\"day\" width=\"11\" height=\"11\" x=\"-35\" y=\"30\" fill=\"#9be9a8\" data-count=\"6\" data-date=\"2020-09-15\"/>\\n          <rect class=\"day\" width=\"11\" height=\"11\" x=\"-35\" y=\"45\" fill=\"#9be9a8\" data-count=\"4\" data-date=\"2020-09-16\"/>\\n          <rect class=\"day\" width=\"11\" height=\"11\" x=\"-35\" y=\"60\" fill=\"#ebedf0\" data-count=\"0\" data-date=\"2020-09-17\"/>\\n          <rect class=\"day\" width=\"11\" height=\"11\" x=\"-35\" y=\"75\" fill=\"#ebedf0\" data-count=\"0\" data-date=\"2020-09-18\"/>\\n          <rect class=\"day\" width=\"11\" height=\"11\" x=\"-35\" y=\"90\" fill=\"#ebedf0\" data-count=\"0\" data-date=\"2020-09-19\"/>\\n      </g>\\n      <g transform=\"translate(832, 0)\">\\n          <rect class=\"day\" width=\"11\" height=\"11\" x=\"-36\" y=\"0\" fill=\"#ebedf0\" data-count=\"0\" data-date=\"2020-09-20\"/>\\n          <rect class=\"day\" width=\"11\" height=\"11\" x=\"-36\" y=\"15\" fill=\"#ebedf0\" data-count=\"0\" data-date=\"2020-09-21\"/>\\n          <rect class=\"day\" width=\"11\" height=\"11\" x=\"-36\" y=\"30\" fill=\"#ebedf0\" data-count=\"0\" data-date=\"2020-09-22\"/>\\n      </g>\\n      <text x=\"16\" y=\"-8\" class=\"month\">Sep</text>\\n      <text x=\"46\" y=\"-8\" class=\"month\">Oct</text>\\n      <text x=\"106\" y=\"-8\" class=\"month\">Nov</text>\\n      <text x=\"166\" y=\"-8\" class=\"month\">Dec</text>\\n      <text x=\"241\" y=\"-8\" class=\"month\">Jan</text>\\n      <text x=\"301\" y=\"-8\" class=\"month\">Feb</text>\\n      <text x=\"361\" y=\"-8\" class=\"month\">Mar</text>\\n      <text x=\"436\" y=\"-8\" class=\"month\">Apr</text>\\n      <text x=\"496\" y=\"-8\" class=\"month\">May</text>\\n      <text x=\"571\" y=\"-8\" class=\"month\">Jun</text>\\n      <text x=\"631\" y=\"-8\" class=\"month\">Jul</text>\\n      <text x=\"691\" y=\"-8\" class=\"month\">Aug</text>\\n      <text x=\"766\" y=\"-8\" class=\"month\">Sep</text>\\n    <text text-anchor=\"start\" class=\"wday\" dx=\"-10\" dy=\"8\" style=\"display: none;\">Sun</text>\\n    <text text-anchor=\"start\" class=\"wday\" dx=\"-10\" dy=\"25\">Mon</text>\\n    <text text-anchor=\"start\" class=\"wday\" dx=\"-10\" dy=\"32\" style=\"display: none;\">Tue</text>\\n    <text text-anchor=\"start\" class=\"wday\" dx=\"-10\" dy=\"56\">Wed</text>\\n    <text text-anchor=\"start\" class=\"wday\" dx=\"-10\" dy=\"57\" style=\"display: none;\">Thu</text>\\n    <text text-anchor=\"start\" class=\"wday\" dx=\"-10\" dy=\"85\">Fri</text>\\n    <text text-anchor=\"start\" class=\"wday\" dx=\"-10\" dy=\"81\" style=\"display: none;\">Sat</text>\\n</g></svg>\\n\\n      </div>\\n      <div class=\"contrib-footer clearfix mt-1 mx-3 px-3 pb-1\">\\n        <div class=\"float-left text-gray\">\\n\\n\\n          <a href=\"https://docs.github.com/articles/why-are-my-contributions-not-showing-up-on-my-profile\" class=\"\">\\n            Learn how we count contributions</a>.\\n        </div>\\n        <div class=\"contrib-legend text-gray\" title=\"A summary of pull requests, issues opened, and commits to the default and gh-pages branches.\">\\n          Less\\n          <ul class=\"legend\">\\n            <li style=\"background-color: #ebedf0\"></li>\\n              <li style=\"background-color: #9be9a8\"></li>\\n              <li style=\"background-color: #40c463\"></li>\\n              <li style=\"background-color: #30a14e\"></li>\\n              <li style=\"background-color: #216e39\"></li>\\n          </ul>\\n          More\\n        </div>\\n      </div>\\n\\n    </div>\\n</div>\\n\\n\\n</div>\\n\\n\\n  <div id=\"js-contribution-activity\" class=\"activity-listing contribution-activity\" data-pjax-container>\\n    \\n    \\n<div class=\"d-none d-lg-block\">\\n  <div class=\"profile-timeline-year-list js-profile-timeline-year-list bg-white js-sticky float-right col-2 pl-5\">\\n    <ul class=\"filter-list small\">\\n        <li>\\n          <a id=\"year-link-2020\" class=\"js-year-link filter-item px-3 mb-2 py-2 selected \" aria-label=\"Contribution activity in 2020\" data-hydro-click=\"{&quot;event_type&quot;:&quot;user_profile.click&quot;,&quot;payload&quot;:{&quot;profile_user_id&quot;:10536112,&quot;target&quot;:&quot;CONTRIBUTION_YEAR_LINK&quot;,&quot;user_id&quot;:null,&quot;originating_url&quot;:&quot;https://github.com/nayeemmz?access_token=super_secret_token&quot;}}\" data-hydro-click-hmac=\"74bba7ae672a249f94091d80e6324b377c695d203f62a0e793e0fe76c9cd3d98\" href=\"/nayeemmz?tab=overview&amp;from=2020-09-01&amp;to=2020-09-22\">2020</a>\\n        </li>\\n        <li>\\n          <a id=\"year-link-2019\" class=\"js-year-link filter-item px-3 mb-2 py-2 \" aria-label=\"Contribution activity in 2019\" data-hydro-click=\"{&quot;event_type&quot;:&quot;user_profile.click&quot;,&quot;payload&quot;:{&quot;profile_user_id&quot;:10536112,&quot;target&quot;:&quot;CONTRIBUTION_YEAR_LINK&quot;,&quot;user_id&quot;:null,&quot;originating_url&quot;:&quot;https://github.com/nayeemmz?access_token=super_secret_token&quot;}}\" data-hydro-click-hmac=\"74bba7ae672a249f94091d80e6324b377c695d203f62a0e793e0fe76c9cd3d98\" href=\"/nayeemmz?tab=overview&amp;from=2019-12-01&amp;to=2019-12-31\">2019</a>\\n        </li>\\n        <li>\\n          <a id=\"year-link-2018\" class=\"js-year-link filter-item px-3 mb-2 py-2 \" aria-label=\"Contribution activity in 2018\" data-hydro-click=\"{&quot;event_type&quot;:&quot;user_profile.click&quot;,&quot;payload&quot;:{&quot;profile_user_id&quot;:10536112,&quot;target&quot;:&quot;CONTRIBUTION_YEAR_LINK&quot;,&quot;user_id&quot;:null,&quot;originating_url&quot;:&quot;https://github.com/nayeemmz?access_token=super_secret_token&quot;}}\" data-hydro-click-hmac=\"74bba7ae672a249f94091d80e6324b377c695d203f62a0e793e0fe76c9cd3d98\" href=\"/nayeemmz?tab=overview&amp;from=2018-12-01&amp;to=2018-12-31\">2018</a>\\n        </li>\\n        <li>\\n          <a id=\"year-link-2017\" class=\"js-year-link filter-item px-3 mb-2 py-2 \" aria-label=\"Contribution activity in 2017\" data-hydro-click=\"{&quot;event_type&quot;:&quot;user_profile.click&quot;,&quot;payload&quot;:{&quot;profile_user_id&quot;:10536112,&quot;target&quot;:&quot;CONTRIBUTION_YEAR_LINK&quot;,&quot;user_id&quot;:null,&quot;originating_url&quot;:&quot;https://github.com/nayeemmz?access_token=super_secret_token&quot;}}\" data-hydro-click-hmac=\"74bba7ae672a249f94091d80e6324b377c695d203f62a0e793e0fe76c9cd3d98\" href=\"/nayeemmz?tab=overview&amp;from=2017-12-01&amp;to=2017-12-31\">2017</a>\\n        </li>\\n        <li>\\n          <a id=\"year-link-2016\" class=\"js-year-link filter-item px-3 mb-2 py-2 \" aria-label=\"Contribution activity in 2016\" data-hydro-click=\"{&quot;event_type&quot;:&quot;user_profile.click&quot;,&quot;payload&quot;:{&quot;profile_user_id&quot;:10536112,&quot;target&quot;:&quot;CONTRIBUTION_YEAR_LINK&quot;,&quot;user_id&quot;:null,&quot;originating_url&quot;:&quot;https://github.com/nayeemmz?access_token=super_secret_token&quot;}}\" data-hydro-click-hmac=\"74bba7ae672a249f94091d80e6324b377c695d203f62a0e793e0fe76c9cd3d98\" href=\"/nayeemmz?tab=overview&amp;from=2016-12-01&amp;to=2016-12-31\">2016</a>\\n        </li>\\n        <li>\\n          <a id=\"year-link-2015\" class=\"js-year-link filter-item px-3 mb-2 py-2 \" aria-label=\"Contribution activity in 2015\" data-hydro-click=\"{&quot;event_type&quot;:&quot;user_profile.click&quot;,&quot;payload&quot;:{&quot;profile_user_id&quot;:10536112,&quot;target&quot;:&quot;CONTRIBUTION_YEAR_LINK&quot;,&quot;user_id&quot;:null,&quot;originating_url&quot;:&quot;https://github.com/nayeemmz?access_token=super_secret_token&quot;}}\" data-hydro-click-hmac=\"74bba7ae672a249f94091d80e6324b377c695d203f62a0e793e0fe76c9cd3d98\" href=\"/nayeemmz?tab=overview&amp;from=2015-12-01&amp;to=2015-12-31\">2015</a>\\n        </li>\\n    </ul>\\n  </div>\\n</div>\\n\\n\\n  <h2 class=\"f4 text-normal mb-2\">\\n    Contribution activity\\n  </h2>\\n\\n  \\n<div class=\"contribution-activity-listing float-left col-12 col-lg-10\">\\n  <div class=\"profile-timeline discussion-timeline width-full pb-4\">\\n    <h3 class=\"profile-timeline-month-heading bg-white d-inline-block h6 pr-2 py-1\">\\n      September <span class=\"text-gray\">2020</span>\\n    </h3>\\n\\n    \\n  <div class=\"profile-rollup-wrapper py-4 pl-4 position-relative ml-3 js-details-container Details open\">\\n    <span class=\"discussion-item-icon\"><svg class=\"octicon octicon-repo-push\" viewBox=\"0 0 16 16\" version=\"1.1\" width=\"16\" height=\"16\" aria-hidden=\"true\"><path fill-rule=\"evenodd\" d=\"M1 2.5A2.5 2.5 0 013.5 0h8.75a.75.75 0 01.75.75v3.5a.75.75 0 01-1.5 0V1.5h-8a1 1 0 00-1 1v6.708A2.492 2.492 0 013.5 9h3.25a.75.75 0 010 1.5H3.5a1 1 0 100 2h5.75a.75.75 0 010 1.5H3.5A2.5 2.5 0 011 11.5v-9zm13.23 7.79a.75.75 0 001.06-1.06l-2.505-2.505a.75.75 0 00-1.06 0L9.22 9.229a.75.75 0 001.06 1.061l1.225-1.224v6.184a.75.75 0 001.5 0V9.066l1.224 1.224z\"></path></svg></span>\\n    <button type=\"button\" class=\"btn-link f4 muted-link no-underline lh-condensed width-full js-details-target \" aria-expanded=\"false\">\\n      <span class=\"float-left ws-normal text-left\">\\n        Created 18\\n        commits in\\n        1\\n        repository\\n      </span>\\n      <span class=\"d-inline-block float-right\">\\n        <span class=\"profile-rollup-toggle-closed float-right\" aria_label=\"Collapse\" data-hydro-click=\"{&quot;event_type&quot;:&quot;user_profile.click&quot;,&quot;payload&quot;:{&quot;profile_user_id&quot;:10536112,&quot;target&quot;:&quot;TIMELINE_CATEGORY_ROLLUP_COLLAPSE&quot;,&quot;user_id&quot;:null,&quot;originating_url&quot;:&quot;https://github.com/nayeemmz?access_token=super_secret_token&quot;}}\" data-hydro-click-hmac=\"aec2993939195dd5393268a6139788dc7bc7683f9eceb7c5c60b99b7166d70ff\"><svg class=\"octicon octicon-fold\" viewBox=\"0 0 16 16\" version=\"1.1\" width=\"16\" height=\"16\" aria-hidden=\"true\"><path fill-rule=\"evenodd\" d=\"M10.896 2H8.75V.75a.75.75 0 00-1.5 0V2H5.104a.25.25 0 00-.177.427l2.896 2.896a.25.25 0 00.354 0l2.896-2.896A.25.25 0 0010.896 2zM8.75 15.25a.75.75 0 01-1.5 0V14H5.104a.25.25 0 01-.177-.427l2.896-2.896a.25.25 0 01.354 0l2.896 2.896a.25.25 0 01-.177.427H8.75v1.25zm-6.5-6.5a.75.75 0 000-1.5h-.5a.75.75 0 000 1.5h.5zM6 8a.75.75 0 01-.75.75h-.5a.75.75 0 010-1.5h.5A.75.75 0 016 8zm2.25.75a.75.75 0 000-1.5h-.5a.75.75 0 000 1.5h.5zM12 8a.75.75 0 01-.75.75h-.5a.75.75 0 010-1.5h.5A.75.75 0 0112 8zm2.25.75a.75.75 0 000-1.5h-.5a.75.75 0 000 1.5h.5z\"></path></svg></span>\\n        <span class=\"profile-rollup-toggle-open float-right\" aria_label=\"Expand\" data-hydro-click=\"{&quot;event_type&quot;:&quot;user_profile.click&quot;,&quot;payload&quot;:{&quot;profile_user_id&quot;:10536112,&quot;target&quot;:&quot;TIMELINE_CATEGORY_ROLLUP_EXPAND&quot;,&quot;user_id&quot;:null,&quot;originating_url&quot;:&quot;https://github.com/nayeemmz?access_token=super_secret_token&quot;}}\" data-hydro-click-hmac=\"32935f84d469d5eda9e678791ac94343e4be7e64800f90fcec9f7bbc4e298d10\"><svg class=\"octicon octicon-unfold\" viewBox=\"0 0 16 16\" version=\"1.1\" width=\"16\" height=\"16\" aria-hidden=\"true\"><path fill-rule=\"evenodd\" d=\"M8.177.677l2.896 2.896a.25.25 0 01-.177.427H8.75v1.25a.75.75 0 01-1.5 0V4H5.104a.25.25 0 01-.177-.427L7.823.677a.25.25 0 01.354 0zM7.25 10.75a.75.75 0 011.5 0V12h2.146a.25.25 0 01.177.427l-2.896 2.896a.25.25 0 01-.354 0l-2.896-2.896A.25.25 0 015.104 12H7.25v-1.25zm-5-2a.75.75 0 000-1.5h-.5a.75.75 0 000 1.5h.5zM6 8a.75.75 0 01-.75.75h-.5a.75.75 0 010-1.5h.5A.75.75 0 016 8zm2.25.75a.75.75 0 000-1.5h-.5a.75.75 0 000 1.5h.5zM12 8a.75.75 0 01-.75.75h-.5a.75.75 0 010-1.5h.5A.75.75 0 0112 8zm2.25.75a.75.75 0 000-1.5h-.5a.75.75 0 000 1.5h.5z\"></path></svg></span>\\n      </span>\\n    </button>\\n    <ul class=\"profile-rollup-content list-style-none\" data-repository-hovercards-enabled>\\n      \\n  <li class=\"ml-0 py-1\">\\n    <div class=\"d-inline-block col-8 css-truncate css-truncate-target lh-condensed\">\\n      <a data-hovercard-type=\"repository\" data-hovercard-url=\"/nayeemmz/cmsc320fall2020/hovercard\" data-hydro-click=\"{&quot;event_type&quot;:&quot;user_profile.click&quot;,&quot;payload&quot;:{&quot;profile_user_id&quot;:10536112,&quot;target&quot;:&quot;TIMELINE_REPO_LINK&quot;,&quot;user_id&quot;:null,&quot;originating_url&quot;:&quot;https://github.com/nayeemmz?access_token=super_secret_token&quot;}}\" data-hydro-click-hmac=\"3956204c1be5c3a083489d5e9eb6eecb1f45dea44cb10c0c4e8bed1686252cfa\" href=\"/nayeemmz/cmsc320fall2020\">nayeemmz/cmsc320fall2020</a>\\n      <a class=\"f6 muted-link ml-lg-1 mt-1 mt-lg-0 d-block d-lg-inline \" data-hydro-click=\"{&quot;event_type&quot;:&quot;user_profile.click&quot;,&quot;payload&quot;:{&quot;profile_user_id&quot;:10536112,&quot;target&quot;:&quot;TIMELINE_COMMIT_RANGE&quot;,&quot;user_id&quot;:null,&quot;originating_url&quot;:&quot;https://github.com/nayeemmz?access_token=super_secret_token&quot;}}\" data-hydro-click-hmac=\"6930b5909710fb2b6bb219b0e3257d25e57aaab28cf42d23cd54adab22f7afbc\" href=\"/nayeemmz/cmsc320fall2020/commits?author=nayeemmz&amp;since=2020-09-01&amp;until=2020-09-23\">\\n        18 commits\\n</a>    </div>\\n\\n    <div class=\"col-3 d-inline-block float-right\">\\n      <div class=\"tooltipped tooltipped-n\"\\n           style=\"width: 100%\"\\n           aria-label=\"100% of commits in September were made to nayeemmz/cmsc320fall2020 \">\\n        <span class=\"d-flex anim-grow-x progress-bar mt-1\" style=\"background-color: #216e39\"></span>\\n      </div>\\n    </div>\\n  </li>\\n\\n    </ul>\\n  </div>\\n\\n\\n\\n    \\n\\n\\n\\n\\n    \\n\\n\\n    \\n\\n\\n\\n\\n    \\n\\n\\n      \\n\\n      \\n\\n\\n    \\n\\n\\n\\n\\n\\n    \\n\\n  </div>\\n</div>\\n\\n\\n<!-- \\'\"` --><!-- </textarea></xmp> --></option></form><form class=\"ajax-pagination-form js-ajax-pagination js-show-more-timeline-form col-lg-10 col-12\" data-title=\"nayeemmz (Mohammad Nayeem Teli) / August 2020\" data-year=\"2020\" data-url=\"/nayeemmz?tab=overview&amp;from=2020-08-01&amp;to=2020-08-31\" data-from=\"2020-09-01\" data-to=\"2020-09-22\" action=\"/nayeemmz?tab=overview&amp;from=2020-08-01&amp;to=2020-08-31&amp;include_header=no\" accept-charset=\"UTF-8\" method=\"get\">\\n\\n    <img class=\"contribution-activity-spinner col-10 next\" alt=\"\" src=\"https://github.githubassets.com/images/spinners/octocat-spinner-128.gif\" />\\n\\n    <button name=\"button\" type=\"submit\" class=\"ajax-pagination-btn btn btn-outline border-gray-dark width-full f6 mt-0 py-2 contribution-activity-show-more \" data-hydro-click=\"{&quot;event_type&quot;:&quot;user_profile.click&quot;,&quot;payload&quot;:{&quot;profile_user_id&quot;:10536112,&quot;target&quot;:&quot;TIMELINE_SHOW_MORE&quot;,&quot;user_id&quot;:null,&quot;originating_url&quot;:&quot;https://github.com/nayeemmz?access_token=super_secret_token&quot;}}\" data-hydro-click-hmac=\"b61504347ceba3ad00d40c0d583d46a5c27fc44f74f4af252bf8f0c4897fc699\" data-disable-with=\"Loading...\">Show more activity</button>\\n\\n  <p class=\"text-gray f6 mt-4\">\\n    Seeing something unexpected? Take a look at the\\n    <a href=\"https://docs.github.com/categories/setting-up-and-managing-your-github-profile\">GitHub profile guide</a>.\\n  </p>\\n</form>\\n\\n\\n  </div>\\n\\n</div>\\n\\n\\n        </div>\\n      </div>\\n\\n</div>\\n</div></div>\\n\\n      </main>\\n  </div>\\n\\n        \\n<div class=\"footer container-xl width-full p-responsive\" role=\"contentinfo\">\\n    <div class=\"position-relative d-flex flex-row-reverse flex-lg-row flex-wrap flex-lg-nowrap flex-justify-center flex-lg-justify-between pt-6 pb-2 mt-6 f6 text-gray border-top border-gray-light \">\\n      <ul class=\"list-style-none d-flex flex-wrap col-12 col-lg-5 flex-justify-center flex-lg-justify-between mb-2 mb-lg-0\">\\n        <li class=\"mr-3 mr-lg-0\">&copy; 2020 GitHub, Inc.</li>\\n          <li class=\"mr-3 mr-lg-0\"><a data-ga-click=\"Footer, go to terms, text:terms\" href=\"https://github.com/site/terms\">Terms</a></li>\\n          <li class=\"mr-3 mr-lg-0\"><a data-ga-click=\"Footer, go to privacy, text:privacy\" href=\"https://github.com/site/privacy\">Privacy</a></li>\\n          <li class=\"mr-3 mr-lg-0\"><a data-ga-click=\"Footer, go to security, text:security\" href=\"https://github.com/security\">Security</a></li>\\n          <li class=\"mr-3 mr-lg-0\"><a href=\"https://githubstatus.com/\" data-ga-click=\"Footer, go to status, text:status\">Status</a></li>\\n          <li><a data-ga-click=\"Footer, go to help, text:help\" href=\"https://docs.github.com\">Help</a></li>\\n      </ul>\\n\\n      <a aria-label=\"Homepage\" title=\"GitHub\" class=\"footer-octicon d-none d-lg-block mx-lg-4\" href=\"https://github.com\">\\n        <svg height=\"24\" class=\"octicon octicon-mark-github\" viewBox=\"0 0 16 16\" version=\"1.1\" width=\"24\" aria-hidden=\"true\"><path fill-rule=\"evenodd\" d=\"M8 0C3.58 0 0 3.58 0 8c0 3.54 2.29 6.53 5.47 7.59.4.07.55-.17.55-.38 0-.19-.01-.82-.01-1.49-2.01.37-2.53-.49-2.69-.94-.09-.23-.48-.94-.82-1.13-.28-.15-.68-.52-.01-.53.63-.01 1.08.58 1.23.82.72 1.21 1.87.87 2.33.66.07-.52.28-.87.51-1.07-1.78-.2-3.64-.89-3.64-3.95 0-.87.31-1.59.82-2.15-.08-.2-.36-1.02.08-2.12 0 0 .67-.21 2.2.82.64-.18 1.32-.27 2-.27.68 0 1.36.09 2 .27 1.53-1.04 2.2-.82 2.2-.82.44 1.1.16 1.92.08 2.12.51.56.82 1.27.82 2.15 0 3.07-1.87 3.75-3.65 3.95.29.25.54.73.54 1.48 0 1.07-.01 1.93-.01 2.2 0 .21.15.46.55.38A8.013 8.013 0 0016 8c0-4.42-3.58-8-8-8z\"></path></svg>\\n</a>\\n      <ul class=\"list-style-none d-flex flex-wrap col-12 col-lg-5 flex-justify-center flex-lg-justify-between mb-2 mb-lg-0\">\\n          <li class=\"mr-3 mr-lg-0\"><a data-ga-click=\"Footer, go to contact, text:contact\" href=\"https://github.com/contact\">Contact GitHub</a></li>\\n          <li class=\"mr-3 mr-lg-0\"><a href=\"https://github.com/pricing\" data-ga-click=\"Footer, go to Pricing, text:Pricing\">Pricing</a></li>\\n        <li class=\"mr-3 mr-lg-0\"><a href=\"https://docs.github.com\" data-ga-click=\"Footer, go to api, text:api\">API</a></li>\\n        <li class=\"mr-3 mr-lg-0\"><a href=\"https://services.github.com\" data-ga-click=\"Footer, go to training, text:training\">Training</a></li>\\n          <li class=\"mr-3 mr-lg-0\"><a href=\"https://github.blog\" data-ga-click=\"Footer, go to blog, text:blog\">Blog</a></li>\\n          <li><a data-ga-click=\"Footer, go to about, text:about\" href=\"https://github.com/about\">About</a></li>\\n      </ul>\\n    </div>\\n  <div class=\"d-flex flex-justify-center pb-6\">\\n    <span class=\"f6 text-gray-light\"></span>\\n  </div>\\n</div>\\n\\n\\n\\n  <div id=\"ajax-error-message\" class=\"ajax-error-message flash flash-error\">\\n    <svg class=\"octicon octicon-alert\" viewBox=\"0 0 16 16\" version=\"1.1\" width=\"16\" height=\"16\" aria-hidden=\"true\"><path fill-rule=\"evenodd\" d=\"M8.22 1.754a.25.25 0 00-.44 0L1.698 13.132a.25.25 0 00.22.368h12.164a.25.25 0 00.22-.368L8.22 1.754zm-1.763-.707c.659-1.234 2.427-1.234 3.086 0l6.082 11.378A1.75 1.75 0 0114.082 15H1.918a1.75 1.75 0 01-1.543-2.575L6.457 1.047zM9 11a1 1 0 11-2 0 1 1 0 012 0zm-.25-5.25a.75.75 0 00-1.5 0v2.5a.75.75 0 001.5 0v-2.5z\"></path></svg>\\n    <button type=\"button\" class=\"flash-close js-ajax-error-dismiss\" aria-label=\"Dismiss error\">\\n      <svg class=\"octicon octicon-x\" viewBox=\"0 0 16 16\" version=\"1.1\" width=\"16\" height=\"16\" aria-hidden=\"true\"><path fill-rule=\"evenodd\" d=\"M3.72 3.72a.75.75 0 011.06 0L8 6.94l3.22-3.22a.75.75 0 111.06 1.06L9.06 8l3.22 3.22a.75.75 0 11-1.06 1.06L8 9.06l-3.22 3.22a.75.75 0 01-1.06-1.06L6.94 8 3.72 4.78a.75.75 0 010-1.06z\"></path></svg>\\n    </button>\\n    You can\\xe2\\x80\\x99t perform that action at this time.\\n  </div>\\n\\n\\n    <script crossorigin=\"anonymous\" async=\"async\" integrity=\"sha512-bn/3rKJzBl2H64K38R8KaVcT26vKK7BJQC59lwYc+9fjlHzmy0fwh+hzBtsgTdhIi13dxjzNKWhdSN8WTM9qUw==\" type=\"application/javascript\" id=\"js-conditional-compat\" data-src=\"https://github.githubassets.com/assets/compat-bootstrap-6e7ff7ac.js\"></script>\\n    <script crossorigin=\"anonymous\" integrity=\"sha512-CxjaMepCmi+z0LTeztU2S8qGD25LyHD6j9t0RSPevy63trFWJVwUM6ipAVLgtpMBBgZ53wq8JPkSeQ6ruaZL2w==\" type=\"application/javascript\" src=\"https://github.githubassets.com/assets/environment-bootstrap-0b18da31.js\"></script>\\n    <script crossorigin=\"anonymous\" async=\"async\" integrity=\"sha512-RfppUarPSAK/NmCh35j2W1iRMf+kFc9kClYtzCZH8ETzhm/T8ZOOmycB1zl3Y26TfmMZmPrZ5OzYwpbq0p8/xA==\" type=\"application/javascript\" src=\"https://github.githubassets.com/assets/vendor-45fa6951.js\"></script>\\n    <script crossorigin=\"anonymous\" async=\"async\" integrity=\"sha512-/243EvD/hbTy2DIK600gb4yaXcq+E4BEHLKQ79tJ0H8gk/OiLPNvVSMSx21kQ6P37YswUqavV0tFhrYBWQQ38Q==\" type=\"application/javascript\" src=\"https://github.githubassets.com/assets/frameworks-ff6e3712.js\"></script>\\n    \\n    <script crossorigin=\"anonymous\" async=\"async\" integrity=\"sha512-blwEszOwaddsnrAsParHcSjOBwZa8DFSBt2QbGG/0tkDx7BQQqJ94PaTWhSyCOQxh5rzBpdaLgpeYbP9rNpCJg==\" type=\"application/javascript\" src=\"https://github.githubassets.com/assets/behaviors-bootstrap-6e5c04b3.js\"></script>\\n    \\n      <script crossorigin=\"anonymous\" async=\"async\" integrity=\"sha512-WmLHdpvEzC/gyDbs4RKm2+pVCCIDmiJ4vPW5zdX6lQN1CxH/gYnRSi0gyMHMJv5Xv7zUbD6vOgwlAO6yNI87Vg==\" type=\"application/javascript\" data-module-id=\"./contributions-spider-graph.js\" data-src=\"https://github.githubassets.com/assets/contributions-spider-graph-5a62c776.js\"></script>\\n      <script crossorigin=\"anonymous\" async=\"async\" integrity=\"sha512-2tVomjR7M73FMhb8dUvdjjzAErhNyLB9tL++hwpJeElQv494sCpS8OnWZL981ktAg30aqIypXD6TJjdvxcPEWQ==\" type=\"application/javascript\" data-module-id=\"./drag-drop.js\" data-src=\"https://github.githubassets.com/assets/drag-drop-dad5689a.js\"></script>\\n      <script crossorigin=\"anonymous\" async=\"async\" integrity=\"sha512-jf8iVVfrIvcAQpqTZiUWj1agFOpaDE3UwUrd1Jk0dbUQ5yUm0nPeIo4TCG5N3TKWQJA5pyyK+QeGDUO3oGES5A==\" type=\"application/javascript\" data-module-id=\"./jump-to.js\" data-src=\"https://github.githubassets.com/assets/jump-to-8dff2255.js\"></script>\\n      <script crossorigin=\"anonymous\" async=\"async\" integrity=\"sha512-O5MUDplY2zVCSB3Jq0MiMf/lhuo8NBywywSaMZnViWL4ynNrhfhtn1LtGMfqYvyPP3BlHsq3Qli2a1ei19IqsQ==\" type=\"application/javascript\" data-module-id=\"./manage-membership.js\" data-src=\"https://github.githubassets.com/assets/manage-membership-bootstrap-3b93140e.js\"></script>\\n      <script crossorigin=\"anonymous\" async=\"async\" integrity=\"sha512-GXqeOCYEltJWd47xVVqH53iRabsKLaHtK+MghaEHcgJLsldjQ7+WLn7lDL9vXH2yofaMWuu9lAXJ7IOPvl6JEA==\" type=\"application/javascript\" data-module-id=\"./profile-pins-element.js\" data-src=\"https://github.githubassets.com/assets/profile-pins-element-197a9e38.js\"></script>\\n      <script crossorigin=\"anonymous\" async=\"async\" integrity=\"sha512-JXSmOrOQXof4xz7y+engxtqrugUopipC5LwEmsfxit4PlVe48UECBUCLuujjIADm1kjb2f/9/azX+qNspSy90w==\" type=\"application/javascript\" data-module-id=\"./randomColor.js\" data-src=\"https://github.githubassets.com/assets/randomColor-2574a63a.js\"></script>\\n      <script crossorigin=\"anonymous\" async=\"async\" integrity=\"sha512-FOUgzyCYz3T1et4Stcl3MeKUX3mZkQcsMsTQDgBj6/CtW3HrwyGMaCeXGyhSjTGibphNptgZKgDNkvL+O+2uYw==\" type=\"application/javascript\" data-module-id=\"./sortable-behavior.js\" data-src=\"https://github.githubassets.com/assets/sortable-behavior-14e520cf.js\"></script>\\n      <script crossorigin=\"anonymous\" async=\"async\" integrity=\"sha512-Sqqua2FOZToK8Mzg1e4jBubR6ZCFO0gL2JHjgpqafLawUXr69ffELu+IhApoX5uhWlxXxJ0ooE89ANBMtWiUNA==\" type=\"application/javascript\" data-module-id=\"./tweetsodium.js\" data-src=\"https://github.githubassets.com/assets/tweetsodium-4aaaae6b.js\"></script>\\n      <script crossorigin=\"anonymous\" async=\"async\" integrity=\"sha512-3Q6/aKl7PXjI+jB+sUpF8+h/c+m0WOOTiExsBCxtrmhCgQX5kVWx1SA7LuELWaK0EjS4SNffZcXJMbs0hbqx8w==\" type=\"application/javascript\" data-module-id=\"./user-status-submit.js\" data-src=\"https://github.githubassets.com/assets/user-status-submit-dd0ebf68.js\"></script>\\n    \\n    <script crossorigin=\"anonymous\" async=\"async\" integrity=\"sha512-3/yIpOWCtoaZF1bZXXWoD9Wa+kAPII9AIJCjLTAWr9KEyx/9Nwt2b+FdCVmhPKAIPPLjypFypPcIXgmbVD8/bw==\" type=\"application/javascript\" src=\"https://github.githubassets.com/assets/profile-bootstrap-dffc88a4.js\"></script>\\n<script crossorigin=\"anonymous\" async=\"async\" integrity=\"sha512-vP/OwC/vIBXD7zMG1EUXpL7BCEh9zUbGOnPqxNYjcpkLH1ZgWnAXD3TxBAtJv0X8JlHmskbrNlSbdHD/vksVHg==\" type=\"application/javascript\" src=\"https://github.githubassets.com/assets/github-bootstrap-bcffcec0.js\"></script>\\n  <div class=\"js-stale-session-flash flash flash-warn flash-banner\" hidden\\n    >\\n    <svg class=\"octicon octicon-alert\" viewBox=\"0 0 16 16\" version=\"1.1\" width=\"16\" height=\"16\" aria-hidden=\"true\"><path fill-rule=\"evenodd\" d=\"M8.22 1.754a.25.25 0 00-.44 0L1.698 13.132a.25.25 0 00.22.368h12.164a.25.25 0 00.22-.368L8.22 1.754zm-1.763-.707c.659-1.234 2.427-1.234 3.086 0l6.082 11.378A1.75 1.75 0 0114.082 15H1.918a1.75 1.75 0 01-1.543-2.575L6.457 1.047zM9 11a1 1 0 11-2 0 1 1 0 012 0zm-.25-5.25a.75.75 0 00-1.5 0v2.5a.75.75 0 001.5 0v-2.5z\"></path></svg>\\n    <span class=\"js-stale-session-flash-signed-in\" hidden>You signed in with another tab or window. <a href=\"\">Reload</a> to refresh your session.</span>\\n    <span class=\"js-stale-session-flash-signed-out\" hidden>You signed out in another tab or window. <a href=\"\">Reload</a> to refresh your session.</span>\\n  </div>\\n  <template id=\"site-details-dialog\">\\n  <details class=\"details-reset details-overlay details-overlay-dark lh-default text-gray-dark hx_rsm\" open>\\n    <summary role=\"button\" aria-label=\"Close dialog\"></summary>\\n    <details-dialog class=\"Box Box--overlay d-flex flex-column anim-fade-in fast hx_rsm-dialog hx_rsm-modal\">\\n      <button class=\"Box-btn-octicon m-0 btn-octicon position-absolute right-0 top-0\" type=\"button\" aria-label=\"Close dialog\" data-close-dialog>\\n        <svg class=\"octicon octicon-x\" viewBox=\"0 0 16 16\" version=\"1.1\" width=\"16\" height=\"16\" aria-hidden=\"true\"><path fill-rule=\"evenodd\" d=\"M3.72 3.72a.75.75 0 011.06 0L8 6.94l3.22-3.22a.75.75 0 111.06 1.06L9.06 8l3.22 3.22a.75.75 0 11-1.06 1.06L8 9.06l-3.22 3.22a.75.75 0 01-1.06-1.06L6.94 8 3.72 4.78a.75.75 0 010-1.06z\"></path></svg>\\n      </button>\\n      <div class=\"octocat-spinner my-6 js-details-dialog-spinner\"></div>\\n    </details-dialog>\\n  </details>\\n</template>\\n\\n  <div class=\"Popover js-hovercard-content position-absolute\" style=\"display: none; outline: none;\" tabindex=\"0\">\\n  <div class=\"Popover-message Popover-message--bottom-left Popover-message--large Box box-shadow-large\" style=\"width:360px;\">\\n  </div>\\n</div>\\n\\n\\n  </body>\\n</html>\\n'"
      ]
     },
     "execution_count": 27,
     "metadata": {},
     "output_type": "execute_result"
    }
   ],
   "source": [
    "r.content"
   ]
  },
  {
   "cell_type": "code",
   "execution_count": 28,
   "metadata": {},
   "outputs": [],
   "source": [
    "r = requests.get('https://www.google.com/?q=cmsc320&tbs=qdr:m')"
   ]
  },
  {
   "cell_type": "code",
   "execution_count": 29,
   "metadata": {},
   "outputs": [],
   "source": [
    "r = requests.get(\"http://www.cs.umd.edu/class/fall2020/cmsc320-0201/\")"
   ]
  },
  {
   "cell_type": "code",
   "execution_count": 30,
   "metadata": {},
   "outputs": [
    {
     "data": {
      "text/plain": [
       "200"
      ]
     },
     "execution_count": 30,
     "metadata": {},
     "output_type": "execute_result"
    }
   ],
   "source": [
    "r.status_code"
   ]
  },
  {
   "cell_type": "code",
   "execution_count": 31,
   "metadata": {},
   "outputs": [
    {
     "data": {
      "text/plain": [
       "b'<!DOCTYPE html>\\n<html lang=\"en\">\\n\\n  <head>\\n\\n    <meta charset=\"utf-8\">\\n    <meta name=\"viewport\" content=\"width=device-width, initial-scale=1, shrink-to-fit=no\">\\n    <meta name=\"description\" content=\"\">\\n    <meta name=\"author\" content=\"\">\\n\\n    <title>CMSC - 320</title>\\n\\n    <!-- Bootstrap core CSS -->\\n    <link href=\"vendor/bootstrap/css/bootstrap.min.css\" rel=\"stylesheet\">\\n\\n    <!-- Custom fonts for this template -->\\n    <link href=\"https://fonts.googleapis.com/css?family=Saira+Extra+Condensed:100,200,300,400,500,600,700,800,900\" rel=\"stylesheet\">\\n    <link href=\"https://fonts.googleapis.com/css?family=Open+Sans:300,300i,400,400i,600,600i,700,700i,800,800i\" rel=\"stylesheet\">\\n    <link href=\"vendor/font-awesome/css/font-awesome.min.css\" rel=\"stylesheet\">\\n    <link href=\"vendor/devicons/css/devicons.min.css\" rel=\"stylesheet\">\\n    <link href=\"vendor/simple-line-icons/css/simple-line-icons.css\" rel=\"stylesheet\">\\n\\n    <!-- Custom styles for this template -->\\n    <link href=\"css/resume.min.css\" rel=\"stylesheet\">\\n    <!-- <link rel=\"stylesheet\" href=\"https://www.cs.umd.edu/sites/all/themes/cs/css/template.css\"> -->\\n\\n  </head>\\n\\n  <body id=\"page-top\">\\n\\n    <nav class=\"navbar navbar-expand-lg navbar-dark bg-primary fixed-top\" id=\"sideNav\">\\n    \\t<!-- <h5>CMSC 131 - Fall 2018</h5> -->\\n      <span class=\"d-none d-lg-block\">\\n      <!-- <img class=\"img-fluid img-profile rounded-circle mx-auto mb-2\" src=\"img/logo1.png\" alt=\"\"> -->\\n    </span>\\n      <a class=\"navbar-brand js-scroll-trigger\" href=\"#page-top\">\\n\\n        <span class=\"d-block d-lg-none\">CMSC 320</span>\\n\\n        <span class=\"d-none d-lg-block\">\\n          <h6 style=\"color: #fff;\">CMSC 320 - Fall 2020<br>\\n            <h6 style=\"color: #fff;\"> Sections: 0201 </h6>\\n          </h5>\\n          <img class=\"img-fluid img-profile rounded-circle mx-auto mb-2\" src=\"img/logo1.png\" alt=\"\">\\n        </span>\\n      </a>\\n      <button class=\"navbar-toggler\" type=\"button\" data-toggle=\"collapse\" data-target=\"#navbarSupportedContent\" aria-controls=\"navbarSupportedContent\" aria-expanded=\"false\" aria-label=\"Toggle navigation\">\\n        <span class=\"navbar-toggler-icon\"></span>\\n      </button>\\n      <div class=\"collapse navbar-collapse\" id=\"navbarSupportedContent\">\\n        <ul class=\"navbar-nav\">\\n          <li class=\"nav-item\">\\n            <a class=\"nav-link js-scroll-trigger\" href=\"#description\">Description</a>\\n          </li>\\n          <!-- <li class=\"nav-item\">\\n            <a class=\"nav-link js-scroll-trigger\" href=\"#announcements\">Announcements</a>\\n          </li> -->\\n          <li class=\"nav-item\">\\n            <a class=\"nav-link js-scroll-trigger\" href=\"#schedule\">Schedule</a>\\n          </li>\\n          <li class=\"nav-item\">\\n            <a class=\"nav-link js-scroll-trigger\" href=\"#staff\">Staff and Office hours</a>\\n          </li>\\n          <!-- li class=\"nav-item\">\\n            <a class=\"nav-link js-scroll-trigger\" href=\"#officehours\">Office Hours</a>\\n          </li> -->\\n          <li class=\"nav-item\">\\n            <a class=\"nav-link js-scroll-trigger\" href=\"#classresources\">Class Resources</a>\\n          </li>\\n          <!-- <li class=\"nav-item\">\\n            <a class=\"nav-link js-scroll-trigger\" href=\"#studymaterial\">Study Material</a>\\n          </li> -->\\n          <li class=\"nav-item\">\\n            <a class=\"nav-link js-scroll-trigger\" href=\"#assignments\">Projects</a>\\n          </li>\\n        </ul>\\n      </div>\\n    </nav>\\n\\n    <div class=\"container-fluid p-0\">\\n\\n      <section class=\"resume-section p-3 p-lg-5 d-flex d-column\" id=\"description\" style=\"background-color: #fff;\">\\n        <div class=\"my-auto\">\\n          <h1 style=\"color: #000;\">CMSC 320 - \\n            <span class=\"text-primary\">Introduction to Data Science</span>\\n          </h1>\\n          <br>\\n          <br>\\n          <div class=\"subheading mb-5\">Class:         \\n                 <label>TuTh 11:00 AM - 12:15 PM,  Online</label>\\n                 <br>\\n          \\t<!-- <br>Discussions: <br>\\n                 <label>\\n                  0201: MW  8:00 AM - 8:50 AM, CSI 3117<br>\\n                  0202: MW  9:00 AM - 9:50 AM, CSI 3117<br>\\n                  0203: MW  2:00 PM - 2:50 PM, CSI 2120</label>\\n            <a href=\"mailto:name@email.com\"></a> -->\\n          </div>\\n          <p class=\"mb-5\">Welcome to CMSC 320. This course focuses on (i) data management systems, (ii) exploratory and statistical data analysis, (iii) data and information visualization, and (iv) the presentation and communication of analysis results. It will be centered around case studies drawing extensively from applications, and will yield a publicly-available final project that will strengthen course participants\\' data science portfolios.</b> </p>\\n          \\t<!-- <h2>Major Topics</h2>\\n          \\t<ul>\\n          \\t\\t<li>Introduction to Computer Systems</li>\\n          \\t\\t<li>Programming basics: variables, operators, expressions, statements, methods</li>\\n          \\t\\t<li>Java text input/output</li>\\n          \\t\\t<li>Conditionals</li>\\n          \\t\\t<li>Loops</li>\\n          \\t\\t<li>Principles of Object Oriented Programming</li>\\n          \\t\\t<li>Basics of program design</li>\\n          \\t\\t<li>Testing and debugging</li>\\n          \\t\\t<li>Java memory map</li>\\n          \\t\\t<li>Arrays and Java arraylists</li>\\n          \\t\\t<li>Java interfaces</li>\\n          \\t\\t<li>Inheritance</li>\\n          \\t\\t<li>Recursion</li>\\n          \\t</ul> -->\\n          \\t<button class=\"btn btn-outline-secondary btn-small\" style=\"background-color: #0097A7;\"><a href=\"files/syllabus.pdf\" style=\"color: white;\">Syllabus</a></button>\\n          </p>\\n          <!-- <ul class=\"list-inline list-social-icons mb-0\">\\n            <li class=\"list-inline-item\">\\n              <a href=\"#\">\\n                <span class=\"fa-stack fa-lg\">\\n                  <i class=\"fa fa-circle fa-stack-2x\"></i>\\n                  <i class=\"fa fa-facebook fa-stack-1x fa-inverse\"></i>\\n                </span>\\n              </a>\\n            </li>\\n            <li class=\"list-inline-item\">\\n              <a href=\"#\">\\n                <span class=\"fa-stack fa-lg\">\\n                  <i class=\"fa fa-circle fa-stack-2x\"></i>\\n                  <i class=\"fa fa-twitter fa-stack-1x fa-inverse\"></i>\\n                </span>\\n              </a>\\n            </li>\\n            <li class=\"list-inline-item\">\\n              <a href=\"#\">\\n                <span class=\"fa-stack fa-lg\">\\n                  <i class=\"fa fa-circle fa-stack-2x\"></i>\\n                  <i class=\"fa fa-linkedin fa-stack-1x fa-inverse\"></i>\\n                </span>\\n              </a>\\n            </li>\\n            <li class=\"list-inline-item\">\\n              <a href=\"#\">\\n                <span class=\"fa-stack fa-lg\">\\n                  <i class=\"fa fa-circle fa-stack-2x\"></i>\\n                  <i class=\"fa fa-github fa-stack-1x fa-inverse\"></i>\\n                </span>\\n              </a>\\n            </li>\\n          </ul> -->\\n        </div>\\n      </section>\\n\\n\\n      <!-- <section class=\"resume-section p-3 p-lg-5 d-flex flex-column\" id=\"announcements\" style=\"background-color: #fff;\">\\n        <div class=\"my-auto\">\\n          <h2 class=\"mb-5\">Class Announcements</h2>\\n\\n          <ul>\\n             <li>\\n              <b>05/20/2019</b>\\n              <ul>\\n                <li>\\n                  This is the class webpage for CMSC320, section 0101. Please check here often (at least once a day) for important class announcements.\\n                </li>\\n              </ul>\\n            </li>\\n            <br>\\n          </ul>\\n\\n        </div>\\n      </section> -->\\n\\n\\n      <section class=\"resume-section p-3 p-lg-5 d-flex flex-column\" id=\"schedule\" style=\"background-color: #fff;\">\\n        <div class=\"my-auto\">\\n          <h2 class=\"mb-5\">Schedule</h2>\\n\\n     \\t\\t<h3>Exam Dates:</h3>\\n        <br>\\n     \\t\\t<ul>\\n     \\t\\t\\t<li><b>Midterm:</b> Thursday, November 19th, in Lecture.</li>\\n     \\t\\t\\t<!-- <li><b>Midterm #2:</b> Tuesday, April 9th, in Lecture.</li> -->\\n     \\t\\t\\t<li><b>Final Tutorial:</b> Friday, December 18th, 11:59 PM.</li>\\n     \\t\\t</ul>\\n        <br>\\n     \\t\\t<h3>Lectures </h3>\\n        <br>\\n     \\t\\t<table >\\n     \\t\\t\\t<tr >\\n            <th>Date</th>\\n     \\t\\t\\t\\t<th><center>Topic (files)</center></th>\\n     \\t\\t\\t\\t\\n     \\t\\t\\t\\t<th><center>Reading</center></th>\\n\\n     \\t\\t\\t\\t<th><center>Due<br>(When)</center></th>\\n\\n     \\t\\t\\t</tr>\\n     \\t\\t\\t\\t<tr>\\n     \\t\\t\\t\\t\\t<td>09/01</td>\\n     \\t\\t\\t\\t\\t<td >Course Intro (<a href=\"files/lec01_Introduction.pdf\" target=\"_blank\" style=\"color: #0D47A1;\">Slides</a>)\\n     \\t\\t\\t\\t\\t</td>\\n     \\t\\t\\t\\t\\t<td rowspan=\"2\"><a href=\"https://fivethirtyeight.com/features/what-the-fox-knows/\" target=\"_blank\" style=\"color: #2196F3;\">What the fox knows</a></td>\\n     \\t\\t\\t\\t\\t<td rowspan=\"2\"><a href=\"https://github.com/nayeemmz/cmsc320fall2020/tree/master/Project0\" target=\"_blank\" style=\"color: #0D47A1;\">Project 0 </a><br>(11:59 PM 09/04)</td>\\n            \\n\\n     \\t\\t\\t\\t</tr>\\n     \\t\\t\\t\\t<tr >\\n     \\t\\t\\t\\t\\t<td>\\n     \\t\\t\\t\\t\\t\\t09/03\\n     \\t\\t\\t\\t\\t</td>\\n     \\t\\t\\t\\t\\t<td>\\n     \\t\\t\\t\\t\\t\\tPython Primer,  Data Collection <br>(<a href=\"files/lec02_PythonPrimer_DataCollection.pdf\" target=\"_blank\" style=\"color: #0D47A1;\">Slides</a>,\\n              <a href=\"https://github.com/nayeemmz/cmsc320fall2020/blob/master/Notebooks/DataCollection-Lec2.ipynb\" target=\"_blank\" style=\"color: #0D47A1;\">Notebook</a>)\\n     \\t\\t\\t\\t\\t</td>\\n     \\t\\t\\t\\t</tr>\\n\\n            <tr>\\n              <td>09/08</td>\\n              <td >Data Processing: Numpy  / <b>Quiz</b><br>\\n                (<a href=\"files/lec03-Numpy.pdf\" target=\"_blank\" style=\"color: #0D47A1;\">Slides</a>,\\n              <a href=\"https://github.com/nayeemmz/cmsc320fall2020/blob/master/Notebooks/Lec3-DataProcessing-Numpy.ipynb\" target=\"_blank\" style=\"color: #0D47A1;\">Notebook</a>) \\n              </td> \\n              <td rowspan=\"2\"><a href=\"https://conda.io/projects/conda/en/latest/user-guide/getting-started.html\" target=\"_blank\" style=\"color: #2196F3;\">Introduction to Anaconda</a><br></td>    \\n              <td rowspan=\"2\"></td>      \\n\\n            </tr>\\n\\n            <tr >\\n              <td>\\n                09/10\\n              </td>\\n              <td>\\n               More Numpy (<a href=\"files/lec04_MoreNumpy.pdf\" target=\"_blank\" style=\"color: #0D47A1;\">Slides</a>, <a href=\"https://github.com/nayeemmz/cmsc320fall2020/tree/master/Notebooks/Lec4-DataProcessing-MoreNumpy/\" target=\"_blank\" style=\"color: #0D47A1;\">Notebooks</a>)\\n              </td>\\n            </tr>\\n\\n            <tr>\\n              <td>09/15</td>\\n              <td >Data Processing: Scipy, Pandas  / <b>Quiz</b><br>\\n                (<a href=\"files/Lec05-SciPy-Pandas.pdf\" target=\"_blank\" style=\"color: #0D47A1;\">Slides</a>,\\n              <a href=\"https://github.com/nayeemmz/cmsc320fall2020/tree/master/Notebooks/Lec5-Scipy-Pandas\" target=\"_blank\" style=\"color: #0D47A1;\">Notebooks</a>) \\n              </td> \\n              <td rowspan=\"2\"><a href=\"https://pandas.pydata.org/docs/user_guide/10min.html#min\" target=\"_blank\" style=\"color: #2196F3;\">10 minutes to Pandas</a><br></td>    \\n              <td rowspan=\"2\"><a href=\"https://github.com/nayeemmz/cmsc320fall2020/blob/master/Project1/Project1.md\" target=\"_blank\" style=\"color: #0D47A1;\">Project 1 </a><br>(11:59 PM 09/29)</td></td>      \\n\\n            </tr>\\n\\n            <tr >\\n              <td>\\n                09/17\\n              </td>\\n              <td>\\n               Tidy Data (<a href=\"files/Lec06-TidyData.pdf\" target=\"_blank\" style=\"color: #0D47A1;\">Slides</a>, <a href=\"https://www.jeannicholashould.com/tidy-data-in-python.html\" target=\"_blank\" style=\"color: #0D47A1;\"><br>Hould\\'s Tidy Data tutorial in Python</a>)\\n              </td>\\n            </tr>\\n\\n            <tr>\\n              <td>09/22</td>\\n              <td >Linear Regression Overview / <b>Quiz</b><br>\\n                 (<a href=\"files/Lec07-LinearRegression.pdf\" target=\"_blank\" style=\"color: #0D47A1;\">Slides</a>)<!--,\\n              <a href=\"https://github.com/nayeemmz/cmsc320fall2020/tree/master/Notebooks/Lec5-Scipy-Pandas\" target=\"_blank\" style=\"color: #0D47A1;\">Notebooks</a>)  -->\\n              </td> \\n              <td rowspan=\"2\">Hadley Wickham, <a href=\"http://vita.had.co.nz/papers/tidy-data.pdf\" target=\"_blank\" style=\"color: #2196F3;\">Tidy Data</a><br></td>    \\n              <td rowspan=\"2\"><!-- <a href=\"https://github.com/nayeemmz/cmsc320fall2020/blob/master/Project1/Project1.md\" target=\"_blank\" style=\"color: #0D47A1;\">Project 1 </a><br>(11:59 PM 09/29) --></td>      \\n\\n            </tr>\\n\\n            <tr >\\n              <td>\\n                09/24\\n              </td>\\n              <td>\\n               Missing Data <!-- (<a href=\"files/Lec06-TidyData.pdf\" target=\"_blank\" style=\"color: #0D47A1;\">Slides</a>) --><!-- , <a href=\"https://github.com/nayeemmz/cmsc320fall2020/tree/master/Notebooks/Lec4-DataProcessing-MoreNumpy/\" target=\"_blank\" style=\"color: #0D47A1;\">Notebooks</a>) -->\\n              </td>\\n            </tr>\\n\\n     \\t\\t\\t\\t<!-- <tr>\\n     \\t\\t\\t\\t\\t<td>\\n     \\t\\t\\t\\t\\t\\t05/30\\n     \\t\\t\\t\\t\\t</td>\\n     \\t\\t\\t\\t\\t<td>\\n     \\t\\t\\t\\t\\t\\tData Collection --> <!-- (<a href=\"files/Lec03.pdf\" target=\"_blank\" style=\"color: brown;\">Slides</a>,\\n     \\t\\t\\t\\t\\t<a href=\"https://github.com/nayeemmz/cmsc320Summer2019/blob/master/Notebooks/Lec03.ipynb\" target=\"_blank\" style=\"color: brown;\">Notebook</a>) -->\\n     \\t\\t\\t\\t\\t<!-- </td>\\n     \\t\\t\\t\\t</tr>\\n     \\t\\t\\t\\t\\t\\n     \\t\\t\\t\\t<tr>\\n     \\t\\t\\t\\t\\t<td>\\n     \\t\\t\\t\\t\\t\\t05/31\\n     \\t\\t\\t\\t\\t</td>\\n     \\t\\t\\t\\t\\t<td>\\n     \\t\\t\\t\\t\\t\\tData Processing --> <!-- (<a href=\"files/Lec04.pdf\" target=\"_blank\" style=\"color: brown;\">Slides</a>,\\n     \\t\\t\\t\\t\\t<a href=\"https://github.com/nayeemmz/cmsc320Summer2019/blob/master/Notebooks/Lec04.ipynb\" target=\"_blank\" style=\"color: brown;\">Notebook</a>) -->\\n     \\t\\t\\t\\t\\t<!-- </td> -->\\n     \\t\\t\\t\\t<!-- </tr>\\t -->\\n     \\t\\t\\t\\t<!-- <tr>\\n              <td>09/03</td>\\n              <td ><b>Quiz</b>, Data Processing, Pandas<br> --> <!-- (<a href=\"files/Lec05-June3-2019.pdf\" target=\"_blank\" style=\"color: brown;\">Slides</a>,\\n              \\t<a href=\"https://github.com/nayeemmz/cmsc320Summer2019/blob/master/Notebooks/Lec5_Pandas.ipynb\" target=\"_blank\" style=\"color: brown;\">Notebook</a>, <a href=\"http://pandas.pydata.org/pandas-docs/stable/getting_started/tutorials.html\" target=\"_blank\" style=\"color: brown;\">Tutorial</a>) -->\\n              <!-- </td>\\n              <td rowspan=\"2\"> --><!-- <a href=\"http://pandas.pydata.org/pandas-docs/stable/getting_started/dsintro.html\" target=\"_blank\" style=\"color: brown;\"> --><!-- Introduction to Pandas</a> -->\\n              <!-- </td>\\n              <td rowspan=\"2\"> --><!-- <a href=\"https://github.com/nayeemmz/cmsc320Summer2019/tree/master/Project0\" target=\"_blank\" style=\"color: brown;\">Project 0 </a><br>(11:59 PM 05/31) --></td>\\n              \\n\\n           <!--  </tr>\\n            <tr>\\n            \\t<td>\\n            \\t\\t06/04\\n            \\t</td>\\n              \\n              <td>\\n              \\tTidy Data, SQL\\n                <br> --> <!-- (<a href=\"files/Lec06-June4-2019.pdf\" target=\"_blank\" style=\"color: brown;\">Slides</a>, Hould\\'s <a href=\"http://www.jeannicholashould.com/tidy-data-in-python.html\" target=\"_blank\" style=\"color: brown;\">Tidy Data</a> for Python, <a href=\"https://www.sqlite.org/index.html\" target=\"_blank\" style=\"color: brown;\">SQLite</a>, <a href=\"https://community.alteryx.com/t5/Data-Science-Blog/pandasql-Make-python-speak-SQL/ba-p/138435\" target=\"_blank\" style=\"color: brown;\">pandasql</a>) -->\\n             <!--  </td>\\n            </tr>\\n\\n            <tr>\\n            \\t<td>\\n            \\t\\t06/05\\n            \\t</td>\\n              <td>\\n                Tidy Data, <br>Regression Overview  --><!-- (<a href=\"files/Lec07-June5-2019.pdf\" target=\"_blank\" style=\"color: brown;\">Slides</a>,\\n              <a href=\"https://vita.had.co.nz/papers/tidy-data.pdf\" target=\"_blank\" style=\"color: brown;\">Hadley Wickham: \"Tidy Data\"</a>) -->\\n             <!--  </td>\\n            </tr>\\n              \\n            <tr>\\n            \\t<td>\\n            \\t\\t06/06\\n            \\t</td>\\n              <td>\\n                Missing Values --> <!-- (<a href=\"files/Lec08-June6-2019.pdf\" target=\"_blank\" style=\"color: brown;\">Slides</a>,<a href=\"http://pandas.pydata.org/pandas-docs/stable/user_guide/missing_data.html\" target=\"_blank\" style=\"color: brown;\">Pandas Guide: \"Missing Data\"</a>) -->\\n              <!-- </td>\\n            </tr> -->\\n             \\n\\n            <!-- <tr>\\n            \\t<td>\\n            \\t\\t06/07\\n            \\t</td>\\n              <td>\\n               \\tData Wrangling, Entity Resolution (<a href=\"files/Lec09-June7-2019.pdf\" target=\"_blank\" style=\"color: brown;\">Slides</a>)\\n              </td>\\n              \\n            </tr>\\n     \\t\\t\\t\\t\\t\\n     \\t\\t\\t\\t\\t\\n              <tr>\\n              <td>06/10</td>\\n              <td> <b>Quiz</b>, Exploratory Data Analysis I --> <!-- (<a href=\"files/Lec10_June10_2019.pdf\" target=\"_blank\" style=\"color: brown;\">Slides</a>) -->\\n             <!--  </td>\\n              <td rowspan=\"5\"> --><!-- <a href=\"https://matplotlib.org/users/pyplot_tutorial.html\" target=\"_blank\" style=\"color: brown;\">Python Plotting tutorial</a> -->\\n              <!-- </td>\\n              <td rowspan=\"5\"> --><!-- <a href=\"https://github.com/nayeemmz/cmsc320Summer2019/tree/master/Project1\" target=\"_blank\" style=\"color: brown;\"> --><!-- Project 1 </a><br>(11:59 PM 06/11)</td> -->\\n              \\n              \\n\\n           <!--  </tr>\\n\\n            <tr>\\n            \\t<td>\\n            \\t\\t06/11\\n            \\t</td>\\n              \\n              <td>\\n                Exploratory Data Analysis II, Graphs --><!-- (<a href=\"files/Lec11_June11_2019.pdf\" target=\"_blank\" style=\"color: brown;\"> Slides</a>),<br> Notebooks (<a href=\"https://github.com/nayeemmz/cmsc320Summer2019/blob/master/Notebooks/visualization.ipynb\" target=\"_blank\" style=\"color: brown;\">Plotting</a>, <a href=\"https://github.com/nayeemmz/cmsc320Summer2019/blob/master/Notebooks/Graphs.ipynb\" target=\"_blank\" style=\"color: brown;\">Graphs</a>), <br>Tutorials (<a href=\"https://github.com/nayeemmz/cmsc320Summer2019/blob/master/Notebooks/Graphs.ipynb\" target=\"_blank\" style=\"color: brown;\">GraphQL</a>, <a href=\"https://networkx.github.io/\" target=\"_blank\" style=\"color: brown;\">NetworkX</a> ) -->\\n              <!-- </td>\\n            </tr>\\n\\n            <tr>\\n            \\t<td>\\n            \\t\\t06/12\\n            \\t</td>\\n              <td>\\n                Centrality, Community Detection --><!-- (<a href=\"files/Lec12_June12_2019.pdf\" style=\"color: brown;\">Slides</a>,\\n              <a href=\"https://github.com/nayeemmz/cmsc320Summer2019/blob/master/Notebooks/centrality.ipynb\" target=\"_blank\" style=\"color: brown;\">Notebook</a>) -->\\n              <!-- </td>\\n            </tr>\\n              \\n            <tr>\\n            \\t<td>\\n            \\t\\t06/13\\n            \\t</td>\\n              <td>\\n                Intro to NLP  --><!-- (<a href=\"files/Lec13_June13_2019.pdf\"  style=\"color: brown;\">Slides</a>),<br> Tutorial (<a href=\"https://people.csail.mit.edu/katrina/papers/6893.pdf\"  style=\"color: brown;\">Crticisms of the Turing Test</a>) -->\\n              <!-- </td>\\n            </tr>\\n              \\n\\n            <tr>\\n            \\t<td>\\n            \\t\\t06/14\\n            \\t</td>\\n              <td>\\n                Linear Classifier, Language Modeling --><!-- (<a href=\"files/Lec14_June14_2019.pdf\"  style=\"color: brown;\">Slides</a>),<br> Tutorial (<a href=\"http://www.nltk.org/\"  style=\"color: brown;\">NLTK toolkit</a>, <a href=\"http://www.nltk.org/book/\"  style=\"color: brown;\">NLTK Book</a>),<br>Notebook(<a href=\"https://github.com/nayeemmz/cmsc320Summer2019/blob/master/Notebooks/nltk-example.ipynb\" style=\"color: brown;\">NLTK-Example</a>) -->\\n              <!-- </td>\\n            </tr>\\n     \\t\\t\\n           \\t\\t\\n           \\t<tr>\\n              <td>06/17</td>\\n              <td> <b>Quiz,</b> Statistical Inference --> <!-- (<a href=\"files/Lec15_June17_2019.pdf\" target=\"_blank\" style=\"color: brown;\">Slides</a>) -->\\n              <!-- </td>\\n              <td rowspan=\"5\"> --><!-- <a href=\"https://matplotlib.org/users/pyplot_tutorial.html\" target=\"_blank\" style=\"color: brown;\">Python Plotting tutorial</a> -->\\n              <!-- </td>\\n              <td rowspan=\"5\"> --><!-- <a href=\"https://github.com/nayeemmz/cmsc320Summer2019/tree/master/Project2\" target=\"_blank\" style=\"color: brown;\"> --><!-- Project 2 </a><br>(11:59 PM 06/21) -->\\n              <!-- </td>\\n              \\n            </tr>\\n\\n             <tr>\\n             \\t<td>\\n             \\t\\t06/18\\n             \\t</td>\\n              \\n              <td>\\n                Hypothesis testing, K-NN --><!-- (<a href=\"files/Lec16_June18_2019.pdf\" style=\"color: brown;\"> Slides</a>), Notebooks (<a href=\"https://github.com/nayeemmz/cmsc320Summer2019/blob/master/Notebooks/Estimate.ipynb\" style=\"color: brown;\">Estimate</a>), Tutorials (<a href=\"https://scikit-learn.org/stable/tutorial/machine_learning_map/\" style=\"color: brown;\">Scikit-learn cheatsheet</a>, <a href=\"https://www.stat.berkeley.edu/~brill/Papers/life.pdf\" style=\"color: brown;\">John W. Tukey: His Life and Professional Contributions</a> ) -->\\n              <!-- </td>\\n            </tr>\\n\\n            <tr>\\n            \\t<td>\\n            \\t\\t06/19\\n            \\t</td>\\n              <td>\\n                Loss function, Optimization --><!-- (<a href=\"files/Lec17_June19_2019.pdf\" style=\"color: brown;\">Slides</a>,\\n              <a href=\"https://github.com/nayeemmz/cmsc320Summer2019/blob/master/Notebooks/knn-iris.ipynb\" style=\"color: brown;\">Notebook</a>) -->\\n             <!--  </td>\\n            </tr>\\n              \\n            <tr>\\n            \\t<td>\\n            \\t\\t06/20\\n            \\t</td>\\n              <td>\\n                Linear Regression, Gradient Descent --> <!-- (<a href=\"files/Lec18_June20_2019.pdf\" target=\"_blank\" style=\"color: brown;\">Slides</a>,  <a href=\"https://github.com/nayeemmz/cmsc320Summer2019/blob/master/Notebooks/GradientDescent.ipynb\"  style=\"color: brown;\">Notebook</a>) -->\\n              <!-- </td>\\n            </tr>\\n              \\n\\n            <tr>\\n            \\t<td>\\n            \\t\\t06/21\\n            \\t</td>\\n              <td>\\n                Review  --><!-- (<a href=\"files/Lec19_June21_2019.pdf\" target=\"_blank\" style=\"color: brown;\">Slides</a>) -->\\n              <!-- </td>\\n            </tr>\\n\\n\\n              \\t<tr>\\n              \\t\\t<hline>\\n              <td >06/24</td>\\n              <td> <b>Midterm</b>\\n              </td>\\n              <td rowspan=\"5\">Loss functions, regression and Gradient descent (Class slides)\\n              </td>\\n              <td rowspan=\"5\"> --><!-- <a href=\"https://github.com/nayeemmz/cmsc320Summer2019/tree/master/Project2\" target=\"_blank\" style=\"color: brown;\">Project 2 </a><br>(11:59 PM 06/21) -->\\n              <!-- </td>\\n              \\n            </tr>\\n\\n             <tr>\\n              <td>\\n              \\t06/25\\n              </td>\\n              <td>\\n              \\tRegression and Gradient Descent Contd. -->\\n                <!-- (<a href=\"files/Lec20_June25_2019.pdf\" target=\"_blank\" style=\"color: brown;\"> Slides</a>) -->\\n              <!-- </td>\\n            </tr>\\n\\n            <tr>\\n            \\t<td>\\n            \\t\\t06/26\\n            \\t</td>\\n              <td>\\n                Stochastic Gradient Descent, Logistic Regression --><!-- (<a href=\"files/Lec21_June26_2019.pdf\" target=\"_blank\" style=\"color: brown;\"> Slides</a>) -->\\n              <!-- </td>\\n            </tr>\\n              \\n            <tr>\\n\\n            \\t<td>\\n            \\t\\t06/27\\n            \\t</td>\\n              <td>\\n                Logistic Regression, Model Selection (Overfitting)<br> --> <!-- (<a href=\"files/Lec22_June27_2019.pdf\" target=\"_blank\" style=\"color: brown;\">Slides</a>, <a href=\"https://github.com/nayeemmz/cmsc320Summer2019/blob/master/Notebooks/logreg.ipynb\"  style=\"color: brown;\">Notebook</a>) -->\\n              <!-- </td>\\n            </tr>\\n              \\n\\n            <tr>\\n            \\t<td>\\n            \\t\\t06/28\\n            \\t</td>\\n              <td>\\n                Linear Regression Regularization (Ridge Regression) --><!-- (<a href=\"files/Lec23_June28_2019.pdf\" target=\"_blank\" style=\"color: brown;\">Slides</a>, Linear Regression <a href=\"files/LinRegWithReg-ClosedFormSolution.jpg\" target=\"_blank\" style=\"color: brown;\">(Closed form solution), <a href=\"files/LinRegGradthetaj.JPG\" target=\"_blank\" style=\"color: brown;\">(Gradient w.r.t. jth parameter)) -->\\n              <!-- </td>\\n            </tr>\\n\\n\\n            <tr>\\n              <td>07/01</td>\\n              <td> <b>Quiz</b>, Logistic Regression Regularization --> <!-- (<a href=\"files/Lec24_July1_2019.pdf\" target=\"_blank\" style=\"color: brown;\">Slides</a>), Gradient w.r.t. jth parameter (<a href=\"files/logreg-RegGradient1Of2.jpg\" target=\"_blank\" style=\"color: brown;\">1 Of 2</a>, <a href=\"files/logreg-RegGradient2Of2.jpg\" target=\"_blank\" style=\"color: brown;\">2 Of 2</a>) -->\\n              <!-- </td>\\n              <td rowspan=\"5\"> Logistic Regression, Regularization (Class slides)\\n              </td>\\n              <td rowspan=\"5\"> --><!-- <a href=\"https://github.com/nayeemmz/cmsc320Summer2019/tree/master/Project3\" target=\"_blank\" style=\"color: brown;\"> --><!-- Project 3 </a><br>(11:59 PM 07/03)\\n              </td>\\n              \\n            </tr> -->\\n\\n             <!-- <tr>\\n             \\t<td>\\n             \\t\\t07/02\\n             \\t</td>\\n              \\n              <td>\\n                Cross Validation --> <!-- (<a href=\"files/Lec25_July2_2019.pdf\" target=\"_blank\" style=\"color: brown;\">Slides</a>, <a href=\"https://github.com/nayeemmz/cmsc320Summer2019/blob/master/Notebooks/cross_valid.ipynb\" style=\"color: brown;\">Notebook </a>), <br>Decision Trees (<a href=\"files/Lec25a_July2_2019.pdf\" target=\"_blank\" style=\"color: brown;\">Slides</a>) -->\\n                \\n             <!--  </td>\\n            </tr> -->\\n\\n            <!-- <tr>\\n            \\t<td>\\n             \\t\\t07/03\\n             \\t</td>\\n              <td>\\n                Decision Trees Example --> <!-- (<a href=\"files/Lec26_July3_2019.pdf\" style=\"color: brown;\">Slides</a>) --><!-- , Final Tutorial Introductions\\n                \\n              </td>\\n            </tr> -->\\n              \\n            <!-- <tr>\\n            \\t<td>\\n             \\t\\t07/04\\n             \\t</td>\\n              <td>\\n                <b>No Class - 4th of July</b>\\n              </td>\\n            </tr>\\n              \\n\\n            <tr>\\n            \\t<td>\\n             \\t\\t07/05\\n             \\t</td>\\n              <td>\\n                <b>No Class - Campus Closed, 4th of July extended</b>\\n              </td>\\n            </tr>\\n\\n -->\\n             <!-- <tr>\\n              <td>07/08</td>\\n              <td> <b>Quiz</b>, Bagging, Random Forests, Intro to SVM --> <!-- (<a href=\"files/Lec27_July8_2019.pdf\" style=\"color: brown;\">Slides</a>), Notebooks (<a href=\"https://github.com/nayeemmz/cmsc320Summer2019/blob/master/Notebooks/DecisionTrees.ipynb\" style=\"color: brown;\">Decision Trees</a>, <a href=\"https://github.com/nayeemmz/cmsc320Summer2019/blob/master/Notebooks/bootStrap.ipynb\" style=\"color: brown;\">Bootstrap</a>) -->\\n              <!-- </td>\\n              <td rowspan=\"5\"> Cross validation, Decision Trees, Random Forests (class slides)\\n              </td>\\n              <td rowspan=\"5\"> --><!-- a href=\"https://github.com/nayeemmz/cmsc320Summer2019/tree/master/Project3\" target=\"_blank\" style=\"color: brown;\">Project 3 </a><br>(11:59 PM 07/03) -->\\n              <!-- </td>\\n              \\n            </tr> -->\\n\\n             <!-- <tr>\\n             \\t<td>\\n             \\t\\t07/09\\n             \\t</td>\\n              \\n              <td>\\n              \\tSVM contd. --> <!-- (<a href=\"files/SVM-Math.pdf\" style=\"color: brown;\">Derivations</a>) -->\\n                \\n              <!-- </td>\\n            </tr> -->\\n\\n            <!-- <tr>\\n            \\t<td>\\n             \\t\\t07/10\\n             \\t</td>\\n              <td>\\n              \\tClustering  --><!-- (<a href=\"files/Lec29_July10_2019.pdf\" style=\"color: brown;\">Slides</a>) -->\\n                \\n              <!-- </td>\\n            </tr> -->\\n              \\n            <!-- <tr>\\n            \\t<td>\\n             \\t\\t07/11\\n             \\t</td>\\n              <td>\\n                PCA --> <!-- (<a href=\"files/Lec30_July11_2019.pdf\" style=\"color: brown;\">Slides</a>, <a href=\"https://github.com/nayeemmz/cmsc320Summer2019/blob/master/Notebooks/pca.ipynb\" style=\"color: brown;\">Notebook</a>) -->\\n              <!-- </td>\\n            </tr> -->\\n              \\n\\n            <!-- <tr>\\n            \\t<td>\\n             \\t\\t07/12\\n             \\t</td>\\n              <td>\\n                More PCA  --><!-- (<a href=\"files/Lec31_July12_2019.pdf\" style=\"color: brown;\">Slides</a>) -->\\n              <!-- </td>\\n            </tr> -->\\n\\n\\n              <!-- <tr>\\n              <td>07/15</td>\\n              <td> <b>Quiz</b>, Intro to Neural Networks --> <!-- (<a href=\"files/Lec32_July15_2019.pdf\" style=\"color: brown;\">Slides</a>) -->\\n              <!-- </td>\\n              <td rowspan=\"5\"> \\n              </td>\\n              <td rowspan=\"5\"> --><!-- <a href=\"http://www.cs.umd.edu/class/summer2019/cmsc320/files/tutorial.pdf\" style=\"color: brown;\"> --><!-- Final Tutorial</a><br>(11:59 PM 07/19)\\n              </td>\\n              \\n            </tr> -->\\n\\n             <!-- <tr>\\n             \\t<td>\\n             \\t\\t07/16\\n             \\t</td>\\n              \\n              <td>\\n                More Neural Networks --> <!-- (<a href=\"files/Lec33_July16_2019.pdf\" style=\"color: brown;\">Slides</a>)<br>\\n                Notebooks (<a href=\"https://github.com/nayeemmz/cmsc320Summer2019/blob/master/Notebooks/NNCalculations.ipynb\" style=\"color: brown;\">Forward and Backprop Calculations</a> , <a href=\"https://github.com/nayeemmz/cmsc320Summer2019/blob/master/Notebooks/XOR-keras.ipynb\" style=\"color: brown;\">XOR Example</a>) -->\\n                \\n              <!-- </td>\\n            </tr> -->\\n\\n            <!-- <tr>\\n            \\t<td>\\n             \\t\\t07/17\\n             \\t</td>\\n              <td>\\n               Wrap up --> <!-- (<a href=\"files/Lec34_July17_2019.pdf\" style=\"color: brown;\">Slides</a>) -->\\n                \\n              <!-- </td>\\n            </tr> -->\\n              \\n            <!-- <tr>\\n            \\t<td>\\n             \\t\\t07/18\\n             \\t</td>\\n              <td>\\n                Final Presentations\\n              </td>\\n            </tr>\\n              \\n\\n            <tr>\\n            \\t<td>\\n             \\t\\t07/19\\n             \\t</td>\\n              <td>\\n                Final Presentations\\n              </td>\\n            </tr> -->\\n\\n\\n     \\t\\t</table>\\n        </div>\\n\\n      </section>\\n\\n      <section class=\"resume-section p-3 p-lg-5 d-flex flex-column\" id=\"staff\" style=\"background-color: #fff;\">\\n        <div class=\"my-auto\">\\n          <h2 class=\"mb-5\">Staff</h2>\\n          <p><b>Instructor</b>: Mohammad Nayeem Teli (nayeem at cs.umd.edu)<br>\\n          \\t<br>\\n          \\tOffice: Online<br>\\n          \\tOffice Hours: TuTh 2:00 - 3:00 PM\\n          </p>\\n          <br>\\n          <h3> <b>Teaching Assistants</b> </h3>\\n          <br>\\n          <ul>\\n            <li><b>Hanyu Wang</b>, hywang66 at cs.umd.edu</li>\\n            <li><b>Jue Xu</b>, juexu at terpmail.umd.edu</li>\\n            <li><b>Viashnavi Patil</b>, vspatil at cs.umd.edu</li>\\n            <li><b>Ashan Panduwawala</b>, ashan399 at umd.edu</li>\\n          </ul>\\n\\n          <br>\\n          <h3> <b>TA Office Hours</b> </h3>\\n          <br>\\n\\n           <table>\\n          <tr>\\n            <th><center>Day</center></th>\\n            <!-- <th><center>Email</center></th> -->\\n            <th><center>Office hours (Online)</center> </th>\\n          </tr>\\n          <tr>\\n            <td>Monday</td>\\n            <!-- <td>hywang66 at cs.umd.edu</td> -->\\n            <td>Hanyu: 9:00 AM - 11:00 AM, <br>Ashan: 11:00 AM - 1:00 PM</td>\\n          </tr>\\n\\n          <tr>\\n            <td>Tuesday</td>\\n            <!-- <td>juexu at terpmail.umd.edu</td> -->\\n            <td>Hanyu: 9:00 AM - 11:00 AM, <br> Jue: 1:00 - 3:00 PM</td>\\n          </tr>\\n\\n          <tr>\\n            <td>Wednesday</td>\\n            <!-- <td>vspatil at cs.umd.edu</td> -->\\n            <td>Vaishnavi: 4:00 PM - 6:00 PM</td>\\n          </tr>\\n\\n          <tr>\\n            <td>Thursday</td>\\n            <!-- <td>ashan399 at umd.edu</td> -->\\n            <td>Jue: 1:00 - 3:00 PM</td>\\n          </tr>\\n\\n          <tr>\\n            <td>Friday</td>\\n            <!-- <td>ashan399 at umd.edu</td> -->\\n            <td>Vaishnavi: 10:00 AM - 12:00 PM, <br> Ashan: 3:00 - 5:00 PM</td>\\n          </tr>\\n          \\n          \\n        </table>\\n          <!-- <table>\\n          <tr>\\n            <th><center>Name</center></th>\\n            <th><center>Email</center></th>\\n            <th><center>Office hours (Online)</center> </th>\\n          </tr>\\n          <tr>\\n            <td>Hanyu Wang</td>\\n            <td>hywang66 at cs.umd.edu</td>\\n            <td>Mon/Tue 9:00 AM - 11:00 AM</td>\\n          </tr>\\n\\n          <tr>\\n            <td>Jue Xu</td>\\n            <td>juexu at terpmail.umd.edu</td>\\n            <td>Tue/Th 1:00 PM - 3:00 PM</td>\\n          </tr>\\n\\n          <tr>\\n            <td>Vaishnavi Patil</td>\\n            <td>vspatil at cs.umd.edu</td>\\n            <td>Wed:4:00 PM - 6:00 PM,<br> Fri: 11:00 AM - 1:00 PM</td>\\n          </tr>\\n\\n          <tr>\\n            <td>Ashan Panduwawala</td>\\n            <td>ashan399 at umd.edu</td>\\n            <td>Fri: 3:00 - 5:00 PM</td>\\n          </tr>\\n\\n          \\n          \\n        </table> -->\\n\\n        <br><br>\\n\\n        </div>\\n      </section>\\n\\n      <!-- <section class=\"resume-section p-3 p-lg-5 d-flex flex-column\" id=\"officehours\" style=\"background-color: #fff;\">\\n        <div class=\"my-auto\">\\n          <h2 class=\"mb-5\">TA Office Hours</h2>\\n\\n        \\n        <p>\\n          All TA office hours take place in room 1112 A.V. Williams. Please note that a TA may need to leave 5 minutes before the end of the hour in order to go to his/her class. Please be understanding of their schedules.\\n        </p>\\n        <table>\\n          <tr>\\n            <th>Time</th>\\n            <th>MON</th>\\n            <th>TUE</th>\\n            <th>WED</th>\\n            <th>THU</th>\\n            <th>FRI</th>\\n          </tr>\\n          <tr>\\n            <td>9:00 - 10:00</td>\\n            <td></td>\\n            <td></td>\\n            <td></td>\\n            <td></td>\\n            <td></td>\\n          </tr>\\n          <tr>\\n            <td>10:00 - 11:00</td>\\n            <td></td>\\n            <td></td>\\n            <td></td>\\n            <td></td>\\n            <td></td>\\n          </tr>\\n          <tr>\\n            <td>11:00 - 12:00</td>\\n            <td></td>\\n            <td></td>\\n            <td></td>\\n            <td></td>\\n            <td></td>\\n          </tr>\\n          <tr>\\n            <td>12:00 - 1:00</td>\\n            <td></td>\\n            <td></td>\\n            <td></td>\\n            <td></td>\\n            <td></td>\\n          </tr>\\n          <tr>\\n            <td>1:00 - 2:00</td>\\n            <td></td>\\n            <td></td>\\n            <td></td>\\n            <td></td>\\n            <td></td>\\n          </tr>\\n          <tr>\\n            <td>2:00 - 3:00</td>\\n            <td></td>\\n            <td></td>\\n            <td></td>\\n            <td></td>\\n            <td></td>\\n          </tr>\\n          <tr>\\n            <td>3:00 - 4:00</td>\\n            <td></td>\\n            <td></td>\\n            <td></td>\\n            <td></td>\\n            <td></td>\\n          </tr>\\n          <tr>\\n            <td>4:00 - 5:00</td>\\n            <td></td>\\n            <td></td>\\n            <td></td>\\n            <td></td>\\n            <td></td>\\n          </tr>\\n          <tr>\\n            <td>5:00 - 6:00</td>\\n            <td></td>\\n            <td></td>\\n            <td></td>\\n            <td></td>\\n            <td></td>\\n          </tr>\\n        </table>\\n\\n        </div>\\n      </section> -->\\n\\n      <section class=\"resume-section p-3 p-lg-5 d-flex flex-column\" id=\"classresources\" style=\"background-color: #fff;\">\\n        <div class=\"my-auto\">\\n          <h2 class=\"mb-5\">Class Resources</h2>\\n\\n          <!-- <div class=\"subheading mb-3\">Examples from lecture</div> -->\\n          <!-- <ul >\\n            \\n            \\n          </ul> -->\\n\\n       <!-- <br><br> -->\\n\\n        <div class=\"subheading mb-3\">Final Project</div>\\n          <ul >\\n            <li>\\n            \\t<a href=\"files/tutorial.pdf\" style=\"color: #0D47A1;\">Tutorial</a>\\n            </li>\\n            \\n          </ul>\\n\\n          <!-- <br><br> -->\\n          <div class=\"subheading mb-3\">Online Course Tools</div>\\n          <ul >\\n          \\t<li >\\n              <a href=\"https://piazza.com/class/ke8rnh7rg8t683\" style=\"color: #0D47A1;\"> Piazza </a>\\n            </li>\\n          \\t<li >\\n              <a href=\"https://www.gradescope.com/courses/171922\" style=\"color: #0D47A1;\"> Gradescope\\n            </li>\\n            <li >\\n              <a href=\"https://www.python.org/\" style=\"color: #0D47A1;\"> Python\\n            </li>\\n            <li >\\n              <a href=\"https://www.digitalocean.com/community/tutorials/how-to-scrape-web-pages-with-beautiful-soup-and-python-3\" style=\"color: #0D47A1;\"> BeautifulSoup tutorial\\n            </li>\\n            <li >\\n              <a href=\"https://jupyter.org/\" style=\"color: #0D47A1;\"> Jupyter </a>\\n            </li>\\n            <li >\\n              <a href=\"https://conda.io/en/latest/\" style=\"color: #0D47A1;\"> Anaconda </a>\\n            </li>\\n            <li >\\n              <a href=\"https://education.github.com/git-cheat-sheet-education.pdf\" style=\"color: #0D47A1;\"> Git Cheat sheet </a>\\n            </li>\\n            <li >\\n              <a href=\"https://pandas.pydata.org/docs/getting_started/index.html#getting-started\" style=\"color: #0D47A1;\"> Getting started with Pandas </a>\\n            </li>\\n            \\n          </ul>\\n\\n          \\n          <br><br>\\n          \\t\\n        </div>\\n      </section>\\n\\n      <section class=\"resume-section p-3 p-lg-5 d-flex flex-column\" id=\"assignments\" style=\"background-color: #fff;\">\\n        <div class=\"my-auto\">\\n          <h2 class=\"mb-5\">Projects</h2>\\n\\n\\n          <table>\\n     \\t\\t\\t<tr>\\n     \\t\\t\\t\\t<center>\\n     \\t\\t\\t\\t<th>Homework</th>\\n            <th>Release Date</th>\\n     \\t\\t\\t\\t<th>Due Date***</th>\\n     \\t\\t\\t\\t</center>\\n     \\t\\t\\t</tr>\\n\\n     \\t  <tr>\\n            <td><a href=\"https://github.com/nayeemmz/cmsc320fall2020/tree/master/Project0\" target=\"_blank\" style=\"color: #0D47A1;\">Project 0 </a></td>\\n            <td>Aug. 29, 2020</td>\\n            <td>Sep. 04, 2020</td>\\n          </tr>\\n\\n          <tr>\\n            <td> <a href=\"https://github.com/nayeemmz/cmsc320fall2020/blob/master/Project1/Project1.md\" target=\"_blank\" style=\"color: #0D47A1;\"> Project 1 </a></td>\\n            <td>Sep. 16, 2020</td>\\n            <td>Sep. 29, 2020</td>\\n          </tr>\\n\\n          <!-- <tr>\\n            <td> --><!-- <a href=\"https://github.com/nayeemmz/cmsc320Summer2019/blob/master/Project2\" target=\"_blank\" style=\"color: brown;\"> --><!-- Project 2 </a></td>\\n            <td>June 21, 2019</td>\\n          </tr>\\n\\n          <!-- <tr>\\n            <td> --><!-- <a href=\"https://github.com/nayeemmz/cmsc320Summer2019/blob/master/Project3\" target=\"_blank\" style=\"color: brown;\"> --><!-- Project 3 </a></td>\\n            <td>July 3, 2019</td>\\n          </tr>\\n\\n         <!--  <tr>\\n            <td> --><!-- <a href=\"files/tutorial.pdf\" style=\"color: brown;\"> --><!-- Final Project</a></td>\\n            <td>July 19, 2019</td>\\n          </tr> -->\\n\\n          \\n     \\t</table>\\n     \\t<br>\\n     \\t <h6 class=\"mb-5\"> *** <b> Note:</b> All projects are due at <b>11:59 PM</b>.</h6>\\n     \\t\\t</div>\\n\\n        </div>\\n      </section>\\n\\n      \\n\\n    </div>\\n\\n    <!-- Bootstrap core JavaScript -->\\n    <script src=\"vendor/jquery/jquery.min.js\"></script>\\n    <script src=\"vendor/bootstrap/js/bootstrap.bundle.min.js\"></script>\\n\\n    <!-- Plugin JavaScript -->\\n    <script src=\"vendor/jquery-easing/jquery.easing.min.js\"></script>\\n\\n    <!-- Custom scripts for this template -->\\n    <script src=\"js/resume.min.js\"></script>\\n\\n\\n    <footer id=\"section-footer\">\\n      <link rel=\"stylesheet\" href=\"https://www.cs.umd.edu/sites/all/themes/cs/css/template.css\">\\n      <a class=\"university\" href=\"http://www.umd.edu\" title=\"University of Maryland website\">University of Maryland website</a>\\n      <p class=\"address\">Department of Computer Science<br>A.V. Williams Building, University of Maryland<br> College Park, MD 20742<br>ph: (301) 405-2662<br>\\n      <a href=\"https://umd.edu/web-accessibility\" title=\"UMD web accessibility statement\">Web Accessibility</a></p>\\n<p class=\"social\"><a href=\"https://www.facebook.com/UMDCompSci\" target=\"_blank\" class=\"facebook\" title=\"Facebook\">Facebook</a><a href=\"https://twitter.com/UMDCompSci\" target=\"_blank\" class=\"twitter\" title=\"Twitter\">Twitter</a><a href=\"https://www.linkedin.com/in/umd-cs-544a3b62\" target=\"_blank\" class=\"linkedin\" title=\"LinkedIn\" data-proofer-ignore>LinkedIn</a><a href=\"http://www.cs.umd.edu/feeds/news/all\" target=\"_blank\" class=\"rss\" title=\"RSS Feed\">RSS Feed</a></p>\\n</footer>\\n  </body>\\n\\n</html>\\n'"
      ]
     },
     "execution_count": 31,
     "metadata": {},
     "output_type": "execute_result"
    }
   ],
   "source": [
    "r.content"
   ]
  },
  {
   "cell_type": "code",
   "execution_count": 35,
   "metadata": {},
   "outputs": [
    {
     "ename": "FeatureNotFound",
     "evalue": "Couldn't find a tree builder with the features you requested: lxml. Do you need to install a parser library?",
     "output_type": "error",
     "traceback": [
      "\u001b[0;31m---------------------------------------------------------------------------\u001b[0m",
      "\u001b[0;31mFeatureNotFound\u001b[0m                           Traceback (most recent call last)",
      "\u001b[0;32m<ipython-input-35-91356bddda42>\u001b[0m in \u001b[0;36m<module>\u001b[0;34m\u001b[0m\n\u001b[1;32m      1\u001b[0m \u001b[0;32mfrom\u001b[0m \u001b[0mbs4\u001b[0m \u001b[0;32mimport\u001b[0m \u001b[0mBeautifulSoup\u001b[0m\u001b[0;34m\u001b[0m\u001b[0;34m\u001b[0m\u001b[0m\n\u001b[0;32m----> 2\u001b[0;31m \u001b[0mroot\u001b[0m \u001b[0;34m=\u001b[0m \u001b[0mBeautifulSoup\u001b[0m\u001b[0;34m(\u001b[0m\u001b[0mr\u001b[0m\u001b[0;34m.\u001b[0m\u001b[0mcontent\u001b[0m\u001b[0;34m,\u001b[0m\u001b[0;34m\"lxml\"\u001b[0m\u001b[0;34m)\u001b[0m\u001b[0;34m\u001b[0m\u001b[0;34m\u001b[0m\u001b[0m\n\u001b[0m",
      "\u001b[0;32m/opt/conda/lib/python3.8/site-packages/bs4/__init__.py\u001b[0m in \u001b[0;36m__init__\u001b[0;34m(self, markup, features, builder, parse_only, from_encoding, exclude_encodings, element_classes, **kwargs)\u001b[0m\n\u001b[1;32m    240\u001b[0m             \u001b[0mbuilder_class\u001b[0m \u001b[0;34m=\u001b[0m \u001b[0mbuilder_registry\u001b[0m\u001b[0;34m.\u001b[0m\u001b[0mlookup\u001b[0m\u001b[0;34m(\u001b[0m\u001b[0;34m*\u001b[0m\u001b[0mfeatures\u001b[0m\u001b[0;34m)\u001b[0m\u001b[0;34m\u001b[0m\u001b[0;34m\u001b[0m\u001b[0m\n\u001b[1;32m    241\u001b[0m             \u001b[0;32mif\u001b[0m \u001b[0mbuilder_class\u001b[0m \u001b[0;32mis\u001b[0m \u001b[0;32mNone\u001b[0m\u001b[0;34m:\u001b[0m\u001b[0;34m\u001b[0m\u001b[0;34m\u001b[0m\u001b[0m\n\u001b[0;32m--> 242\u001b[0;31m                 raise FeatureNotFound(\n\u001b[0m\u001b[1;32m    243\u001b[0m                     \u001b[0;34m\"Couldn't find a tree builder with the features you \"\u001b[0m\u001b[0;34m\u001b[0m\u001b[0;34m\u001b[0m\u001b[0m\n\u001b[1;32m    244\u001b[0m                     \u001b[0;34m\"requested: %s. Do you need to install a parser library?\"\u001b[0m\u001b[0;34m\u001b[0m\u001b[0;34m\u001b[0m\u001b[0m\n",
      "\u001b[0;31mFeatureNotFound\u001b[0m: Couldn't find a tree builder with the features you requested: lxml. Do you need to install a parser library?"
     ]
    }
   ],
   "source": [
    "from bs4 import BeautifulSoup\n",
    "root = BeautifulSoup(r.content,\"lxml\")"
   ]
  },
  {
   "cell_type": "code",
   "execution_count": null,
   "metadata": {},
   "outputs": [],
   "source": [
    "print(root.prettify())"
   ]
  },
  {
   "cell_type": "code",
   "execution_count": null,
   "metadata": {},
   "outputs": [],
   "source": [
    "links = root.findAll(\"a\")"
   ]
  },
  {
   "cell_type": "code",
   "execution_count": null,
   "metadata": {},
   "outputs": [],
   "source": [
    "links"
   ]
  },
  {
   "cell_type": "code",
   "execution_count": null,
   "metadata": {},
   "outputs": [],
   "source": [
    "links[0]"
   ]
  },
  {
   "cell_type": "code",
   "execution_count": null,
   "metadata": {},
   "outputs": [],
   "source": [
    "token = \"super_secret_token\"\n",
    "r = requests.get(\"http://github.com/nayeemmz\", params= {\"access_token\":token})"
   ]
  },
  {
   "cell_type": "code",
   "execution_count": null,
   "metadata": {},
   "outputs": [],
   "source": [
    "r.content"
   ]
  },
  {
   "cell_type": "code",
   "execution_count": null,
   "metadata": {},
   "outputs": [],
   "source": [
    "root = BeautifulSoup(r.content,\"lxml\")\n",
    "print(root.prettify())"
   ]
  },
  {
   "cell_type": "code",
   "execution_count": 1,
   "metadata": {},
   "outputs": [
    {
     "ename": "NameError",
     "evalue": "name 'requests' is not defined",
     "output_type": "error",
     "traceback": [
      "\u001b[0;31m---------------------------------------------------------------------------\u001b[0m",
      "\u001b[0;31mNameError\u001b[0m                                 Traceback (most recent call last)",
      "\u001b[0;32m<ipython-input-1-059734740d0d>\u001b[0m in \u001b[0;36m<module>\u001b[0;34m\u001b[0m\n\u001b[0;32m----> 1\u001b[0;31m \u001b[0mres\u001b[0m \u001b[0;34m=\u001b[0m \u001b[0mrequests\u001b[0m\u001b[0;34m.\u001b[0m\u001b[0mget\u001b[0m\u001b[0;34m(\u001b[0m\u001b[0;34m\"https://www.worldometers.info/coronavirus/\"\u001b[0m\u001b[0;34m)\u001b[0m\u001b[0;34m\u001b[0m\u001b[0;34m\u001b[0m\u001b[0m\n\u001b[0m",
      "\u001b[0;31mNameError\u001b[0m: name 'requests' is not defined"
     ]
    }
   ],
   "source": [
    "res = requests.get(\"https://www.worldometers.info/coronavirus/\")"
   ]
  },
  {
   "cell_type": "code",
   "execution_count": null,
   "metadata": {},
   "outputs": [],
   "source": [
    "BeautifulSoup(res.text)"
   ]
  },
  {
   "cell_type": "code",
   "execution_count": null,
   "metadata": {},
   "outputs": [],
   "source": [
    "import json\n",
    "r = requests.get(\"https://api.twitter.com/1.1/statuses/user_timeline.json?screen_name=JohnDoe”, auth=auth )\")"
   ]
  },
  {
   "cell_type": "code",
   "execution_count": null,
   "metadata": {},
   "outputs": [],
   "source": [
    "data = json.loads(r.content)"
   ]
  },
  {
   "cell_type": "code",
   "execution_count": null,
   "metadata": {},
   "outputs": [],
   "source": [
    "data"
   ]
  },
  {
   "cell_type": "code",
   "execution_count": null,
   "metadata": {},
   "outputs": [],
   "source": [
    "text = \"this is introduction to data science, cmsc320, specifically 320 fall 2020\""
   ]
  },
  {
   "cell_type": "code",
   "execution_count": null,
   "metadata": {},
   "outputs": [],
   "source": [
    "import re"
   ]
  },
  {
   "cell_type": "code",
   "execution_count": null,
   "metadata": {},
   "outputs": [],
   "source": [
    "match = re.search(r\"cmsc320\",text)"
   ]
  },
  {
   "cell_type": "code",
   "execution_count": null,
   "metadata": {},
   "outputs": [],
   "source": [
    "match"
   ]
  },
  {
   "cell_type": "code",
   "execution_count": null,
   "metadata": {},
   "outputs": [],
   "source": [
    "match.start()"
   ]
  },
  {
   "cell_type": "code",
   "execution_count": null,
   "metadata": {},
   "outputs": [],
   "source": [
    "for match in re.finditer(r\"320\",text):\n",
    "    print(match.start())"
   ]
  },
  {
   "cell_type": "code",
   "execution_count": null,
   "metadata": {},
   "outputs": [],
   "source": [
    "re.findall(r\"320\",text)"
   ]
  },
  {
   "cell_type": "code",
   "execution_count": null,
   "metadata": {},
   "outputs": [],
   "source": [
    "regex = re.compile(r\"320\")"
   ]
  },
  {
   "cell_type": "code",
   "execution_count": null,
   "metadata": {},
   "outputs": [],
   "source": [
    "regex.match(text)"
   ]
  },
  {
   "cell_type": "code",
   "execution_count": null,
   "metadata": {},
   "outputs": [],
   "source": [
    "regex.search(text)"
   ]
  },
  {
   "cell_type": "code",
   "execution_count": null,
   "metadata": {},
   "outputs": [],
   "source": [
    "regex.findall(text)"
   ]
  },
  {
   "cell_type": "code",
   "execution_count": null,
   "metadata": {},
   "outputs": [],
   "source": [
    "try:\n",
    "    from urllib.parse import urlparse\n",
    "except ImportError:\n",
    "    from urlparse import urlparse"
   ]
  },
  {
   "cell_type": "code",
   "execution_count": null,
   "metadata": {},
   "outputs": [],
   "source": [
    "url=\"http://www.cs.umd.edu/class/fall2020/cmsc320-0201/\"\n",
    "r = requests.get(url)\n",
    "\n",
    "root=BeautifulSoup(r.content,\"lxml\")\n",
    "lnks = root.findAll(\"a\")"
   ]
  },
  {
   "cell_type": "code",
   "execution_count": null,
   "metadata": {},
   "outputs": [],
   "source": [
    "links"
   ]
  },
  {
   "cell_type": "code",
   "execution_count": null,
   "metadata": {},
   "outputs": [],
   "source": [
    "import os\n",
    "outdir = '/Users/nayeem/'\n",
    "for lnk in lnks:\n",
    "    href=lnk['href']\n",
    "    if href.lower().endswith(('.pdf','.pptx')):\n",
    "        urld = urljoin(url, href)\n",
    "        rd = requests.get(urld, stream=True)\n",
    "        #Write the downloaded pdf to a file\n",
    "        filename = urld.split(\"/\")[-1]\n",
    "        print(filename)\n",
    "        outfile = os.path.join(outdir,filename)\n",
    "        with open(outfile,'wb') as f:\n",
    "            f.write(rd.content)"
   ]
  },
  {
   "cell_type": "code",
   "execution_count": null,
   "metadata": {},
   "outputs": [],
   "source": []
  }
 ],
 "metadata": {
  "kernelspec": {
   "display_name": "Python 3",
   "language": "python",
   "name": "python3"
  },
  "language_info": {
   "codemirror_mode": {
    "name": "ipython",
    "version": 3
   },
   "file_extension": ".py",
   "mimetype": "text/x-python",
   "name": "python",
   "nbconvert_exporter": "python",
   "pygments_lexer": "ipython3",
   "version": "3.8.5"
  }
 },
 "nbformat": 4,
 "nbformat_minor": 2
}
